{
  "cells": [
    {
      "cell_type": "markdown",
      "source": [
        "# **Files, exceptional handling, logging and memory management Questions**"
      ],
      "metadata": {
        "id": "TAFgngIGIECm"
      }
    },
    {
      "cell_type": "markdown",
      "source": [
        "###Question 1. What is the difference between interpreted and compiled languages?\n",
        "\n",
        "\n",
        "Answer:\n",
        "#Compiled Languages\n",
        "\n",
        "- A compiler translates the entire source code of a program into machine code (binary) before running it.\n",
        "\n",
        "- The result is an executable file (like .exe on Windows) that the computer can run directly.\n",
        "\n",
        "- Examples: C, C++, Rust, Go\n",
        "\n",
        "#Interpreted Languages\n",
        "\n",
        "- An interpreter translates the source code line by line and executes it directly at runtime.\n",
        "\n",
        "- There is no separate executable file generated ahead of time.\n",
        "\n",
        "- Examples: Python, JavaScript, Ruby"
      ],
      "metadata": {
        "id": "56MV3pIXIYCj"
      }
    },
    {
      "cell_type": "markdown",
      "source": [
        "###Question 2. What is exception handling in Python?\n",
        "\n",
        "\n",
        "Answer: Exception handling in Python is a way to deal with errors that occur during the execution of a program, so your code doesn't crash unexpectedly."
      ],
      "metadata": {
        "id": "53oYRH0nJ8LQ"
      }
    },
    {
      "cell_type": "markdown",
      "source": [
        "###Question 3. What is the purpose of the finally block in exception handling?\n",
        "\n",
        "\n",
        "Answer: The finally block in Python always executes, no matter what—whether an exception was raised or not.\n",
        "\n",
        "#Purpose of finally:\n",
        "To define cleanup code that must run regardless of what happens in the try and except blocks.\n",
        "\n",
        "Think of it as:\n",
        "\n",
        "\"No matter what happens, I have to clean up before I exit.\""
      ],
      "metadata": {
        "id": "zcCEKJdpKt5j"
      }
    },
    {
      "cell_type": "markdown",
      "source": [
        "###Question 4.What is logging in Python?\n",
        "\n",
        "\n",
        "Answer: Logging in Python is a way to record messages that describe what your program is doing while it runs.\n",
        "It helps with debugging, tracking errors, and monitoring how a program behaves—especially in large or complex systems."
      ],
      "metadata": {
        "id": "Yq9n1ibOLWHD"
      }
    },
    {
      "cell_type": "markdown",
      "source": [
        "###Question 5. What is the significance of the __del__ method in Python?\n",
        "\n",
        "\n",
        "Answer: The __del__ method is a special method in Python known as a destructor.\n",
        "It is called automatically when an object is about to be destroyed (i.e., when it is garbage collected).\n",
        "#Purpose / Significance:\n",
        "- Used for cleanup actions before an object is destroyed.\n",
        "- Example: Closing files, releasing network/database connections, or freeing up system resources.\n",
        "\n"
      ],
      "metadata": {
        "id": "_o8bVvkELtl1"
      }
    },
    {
      "cell_type": "markdown",
      "source": [
        "###Question 6.What is the difference between import and from ... import in Python?\n",
        "\n",
        "\n",
        "Answer: In Python, both import and from ... import are used to bring in modules and their contents, but they work differently and have different effects on your namespace.\n",
        "\n",
        "🔹 import module\n",
        "- Imports the entire module.\n",
        "- You have to use the module name as a prefix when accessing anything from it.\n",
        "\n",
        "🔹 from module import name\n",
        "- Imports specific attributes (functions, classes, variables) from a module directly into your namespace.\n",
        "- You can use them without the module name prefix."
      ],
      "metadata": {
        "id": "Aoe_8To0MZ3a"
      }
    },
    {
      "cell_type": "markdown",
      "source": [
        "###Question 7. How can you handle multiple exceptions in Python?\n",
        "\n",
        "\n",
        "Answer: In Python, you can handle multiple exceptions using different methods depending on what you want to do. Here are the common approaches:\n",
        "\n",
        "**1. Using Multiple except Blocks**\n",
        "\n",
        "Handle different exceptions with different handlers.\n",
        "\n",
        "**2. Handling Multiple Exceptions in One Block (Tuple)**\n",
        "\n",
        "Handle multiple exceptions with the same code:\n",
        "\n",
        "**3. Generic Exception Catching (Not recommended unless necessary)**\n",
        "\n",
        "Catches any exception, useful for logging or fallback behavior.\n",
        "\n",
        "**4. Using else and finally with try-except**\n",
        "\n",
        "- else: runs only if no exception occurs.\n",
        "\n",
        "- finally: runs no matter what, useful for cleanup.\n"
      ],
      "metadata": {
        "id": "3s9vEovNOn3z"
      }
    },
    {
      "cell_type": "markdown",
      "source": [
        "###Question 8. What is the purpose of the with statement when handling files in Python?\n",
        "\n",
        "\n",
        "Answer: The with statement in Python is used to simplify file handling and ensure that resources like files are properly managed — especially opened and closed — even if an error occurs during processing.\n",
        "\n",
        "**Purpose of with Statement:**\n",
        "\n",
        "1 Automatic resource management\n",
        "\n",
        "- It ensures the file is automatically closed after its block is exited — no need to call file.close() manually.\n",
        "\n",
        "2 Cleaner and more readable code\n",
        "\n",
        "- Avoids boilerplate code and reduces the chance of forgetting to close the file.\n",
        "\n",
        "3 Exception safety\n",
        "\n",
        "- Even if an error occurs while working with the file, Python will still close it properly."
      ],
      "metadata": {
        "id": "3fVz50EHP87Y"
      }
    },
    {
      "cell_type": "markdown",
      "source": [
        "###Question 9. What is the difference between multithreading and multiprocessing?\n",
        "\n",
        "\n",
        "Answer: The difference between multithreading and multiprocessing in Python lies in how they use system resources (CPU vs threads) and how they handle tasks. Here's a clear breakdown:\n",
        "\n",
        "**Multithreading**\n",
        "\n",
        "- Uses multiple threads within a single process.\n",
        "\n",
        "- Threads share the same memory space.\n",
        "\n",
        "- Best for I/O-bound tasks (e.g., reading files, network requests).\n",
        "\n",
        "- Limited by the Global Interpreter Lock (GIL) in CPython — only one thread executes Python bytecode at a time.\n",
        "\n",
        "**Multiprocessing**\n",
        "\n",
        "- Uses multiple processes, each with its own memory space.\n",
        "\n",
        "- Better for CPU-bound tasks (e.g., heavy computations).\n",
        "\n",
        "- Bypasses the GIL, so it can utilize multiple CPU cores."
      ],
      "metadata": {
        "id": "v2CDDJ-PQls5"
      }
    },
    {
      "cell_type": "markdown",
      "source": [
        "###Question 10. What are the advantages of using logging in a program?\n",
        "\n",
        "\n",
        "Answer: Using logging in a Python program provides many advantages over simply using print() statements, especially in professional or large-scale applications. Here's a breakdown:\n",
        "\n",
        "**1. Better Debugging and Monitoring**\n",
        "\n",
        "- Logs help trace errors and understand program flow without stopping execution.\n",
        "\n",
        "- You can record events like errors, warnings, or important actions (e.g., \"User logged in\").\n",
        "\n",
        "**2. Log Levels for Control**\n",
        "\n",
        "- Logging provides different levels to categorize messages:\n",
        "\n",
        "**3. Output to Files or Systems**\n",
        "\n",
        "- You can log to files, console, or even external systems (like databases, remote servers).\n",
        "\n",
        "**4. Easier Maintenance in Production**\n",
        "\n",
        "- Logging allows developers to analyze issues even after deployment.\n",
        "\n",
        "- You don’t need to reproduce a bug manually — logs often contain all clues.\n",
        "\n",
        "**5. Turn Off or Filter Logs Without Changing Code**\n",
        "\n",
        "- You can control what logs show up by changing the log level, without touching your logic.\n",
        "\n",
        "**6. Thread- and Process-Safe**\n",
        "\n",
        "- The logging module is designed to work safely across multiple threads or processes."
      ],
      "metadata": {
        "id": "nqpYEB1DRdk9"
      }
    },
    {
      "cell_type": "markdown",
      "source": [
        "###Question 11. What is memory management in Python?\n",
        "\n",
        "\n",
        "Answer:Memory management in Python refers to the way Python allocates, tracks, and frees memory used by objects during a program's execution.\n",
        "\n",
        "Python handles memory management automatically, so you usually don’t need to worry about allocating or freeing memory manually — but understanding it helps you write efficient and optimized code."
      ],
      "metadata": {
        "id": "7K9By0XPSw8I"
      }
    },
    {
      "cell_type": "markdown",
      "source": [
        "###Qeustion 12. What are the basic steps involved in exception handling in Python?\n",
        "\n",
        "\n",
        "Answer: In Python, exception handling is used to manage and respond to errors during runtime without crashing the program. The basic steps to handle exceptions follow a clear structure using try, except, else, and finally.\n",
        "\n",
        "**Basic Steps in Exception Handling**\n",
        "\n",
        "🔹 1. try block – Write risky code here\n",
        "- Place the code that might raise an exception inside the try block.\n",
        "\n",
        "🔹 2. except block – Catch and handle the exception\n",
        "- If an exception occurs in the try block, control passes to the matching except block.\n",
        "\n",
        "🔹 3. (Optional) else block – Execute if no exception occurs\n",
        "- Runs only if the try block did NOT raise an exception.\n",
        "\n",
        "🔹 4. (Optional) finally block – Always runs\n",
        "- Executes no matter what — whether an exception was raised or not. Useful for cleanup (like closing files, database connections, etc.)."
      ],
      "metadata": {
        "id": "SVsQqXCxTKgt"
      }
    },
    {
      "cell_type": "markdown",
      "source": [
        "###Question 13. Why is memory management important in Python?\n",
        "\n",
        "\n",
        "Answer: Memory management is crucial in Python (or any programming language) because it directly affects the performance, stability, and scalability of your programs. Even though Python manages memory automatically, understanding how it works helps you write faster and more efficient code."
      ],
      "metadata": {
        "id": "3OF47efoUKN4"
      }
    },
    {
      "cell_type": "markdown",
      "source": [
        "###Question 14. What is the role of try and except in exception handling?\n",
        "\n",
        "\n",
        "Answer: The try and except blocks are fundamental tools in Python for catching and handling errors gracefully, instead of letting your program crash.\n",
        "\n",
        "**Role of try: Identify Risky Code**\n",
        "- The try block is used to wrap code that might raise an exception during execution.\n",
        "\n",
        "- Python executes the code line by line inside the try.\n",
        "\n",
        "- If no error occurs, the except block is skipped.\n",
        "\n",
        "**Role of except: Handle Errors Gracefully**\n",
        "- If an exception occurs in the try block, Python jumps to the except block.\n",
        "\n",
        "- This prevents the program from crashing and allows you to define custom behavior for the error."
      ],
      "metadata": {
        "id": "sGLk9j6lVoHO"
      }
    },
    {
      "cell_type": "markdown",
      "source": [
        "###Question 15. How does Python's garbage collection system work?\n",
        "\n",
        "\n",
        "Answer: Python’s garbage collection (GC) system is an automatic memory management feature that frees up memory by deleting objects that are no longer in use. This helps prevent memory leaks and ensures efficient use of resources.\n",
        "\n",
        " **1. Reference Counting (Primary Mechanism)**\n",
        "- Every object in Python keeps track of how many references (variables or containers) point to it.\n",
        "\n",
        "- When the reference count drops to zero, the object is immediately destroyed.\n",
        "\n",
        "**2. Generational Garbage Collection (For Cyclic References)**\n",
        "- Python uses a generational GC algorithm (inside the gc module) to handle reference cycles — where objects refer to each other and are no longer accessible.\n",
        "\n",
        "**3. gc Module for Manual Control**\n",
        "- You can manually inspect or trigger garbage collection using Python’s built-in gc module:"
      ],
      "metadata": {
        "id": "ZTBNnzmVWShF"
      }
    },
    {
      "cell_type": "markdown",
      "source": [
        "###Question 16. What is the purpose of the else block in exception handling?\n",
        "\n",
        "\n",
        "Answer: **Purpose of the else Block in Exception Handling**\n",
        "- The else block in Python's try-except structure is used to define a section of code that should only run if no exception was raised in the try block."
      ],
      "metadata": {
        "id": "Q2tai3yJYmRV"
      }
    },
    {
      "cell_type": "markdown",
      "source": [
        "###Question 17. What are the common logging levels in Python?\n",
        "\n",
        "\n",
        "Answer: Python's logging module provides standard logging levels to categorize the importance or severity of log messages. These levels help you filter logs based on the current need (e.g., debugging, normal operation, or critical failures)."
      ],
      "metadata": {
        "id": "g3k1XeNLZSW3"
      }
    },
    {
      "cell_type": "markdown",
      "source": [
        "###Question 18. What is the difference between os.fork() and multiprocessing in Python?\n",
        "\n",
        "\n",
        "Answer: Difference Between os.fork() and multiprocessing in Python\n",
        "Both os.fork() and the multiprocessing module are used to create new processes in Python, but they differ significantly in terms of platform support, ease of use, and level of abstraction.\n",
        "\n",
        "**1. os.fork() – Low-Level, Unix-Only**\n",
        "- Creates a child process by duplicating the current process.\n",
        "\n",
        "- Returns:\n",
        "\n",
        "- 0 in the child process\n",
        "\n",
        "- PID of the child in the parent process\n",
        "\n",
        "**2. multiprocessing Module – High-Level, Cross-Platform**\n",
        "- Provides a Pythonic, high-level API for creating and managing separate processes.\n",
        "\n",
        "- Works on all platforms, including Windows.\n",
        "\n",
        "- Supports inter-process communication (IPC), shared memory, pools, queues, etc."
      ],
      "metadata": {
        "id": "lG0hH4GUZb0e"
      }
    },
    {
      "cell_type": "markdown",
      "source": [
        "###Question 19. What is the importance of closing a file in Python?\n",
        "\n",
        "\n",
        "ANswer: Closing a file in Python is crucial for ensuring data integrity, releasing system resources, and maintaining application performance — especially in large or long-running programs."
      ],
      "metadata": {
        "id": "UP5PhlVRaWMy"
      }
    },
    {
      "cell_type": "markdown",
      "source": [
        "###Question 20. What is the difference between file.read() and file.readline() in Python?\n",
        "\n",
        "\n",
        "Answer:  Difference Between file.read() and file.readline() in Python\n",
        "Both file.read() and file.readline() are used to read content from a file, but they serve different purposes and behave differently.\n",
        "\n",
        "**1. file.read()**\n",
        "- Reads the entire file (or a specified number of characters) into a single string.\n",
        "\n",
        "- Useful when you want to load the whole content at once.\n",
        "\n",
        "**2. file.readline()**\n",
        "- Reads only one line from the file at a time.\n",
        "\n",
        "- Each call to readline() returns the next line.\n",
        "\n",
        "- Useful for reading large files line-by-line."
      ],
      "metadata": {
        "id": "8jD0j2Ula0dS"
      }
    },
    {
      "cell_type": "markdown",
      "source": [
        "###Question 21. What is the logging module in Python used for?\n",
        "\n",
        "\n",
        "Answer: The logging module in Python is used to record messages that describe events occurring during a program’s execution. These messages help with debugging, monitoring, and auditing applications — especially large or long-running ones.\n",
        "\n",
        "**1. Debugging & Development**\n",
        "- Track variable values, function calls, and application flow.\n",
        "\n",
        "**2. Error Tracking**\n",
        "- Record error messages without stopping the program.\n",
        "\n",
        "**3. Application Monitoring**\n",
        "- Log important runtime events (e.g., user login, system failures).\n",
        "\n",
        "- Helps in production environments where print() is not practical.\n",
        "\n",
        "**4. Persistent Log Storage**\n",
        "- Log messages can be stored in files, databases, or remote servers for later review.\n",
        "\n",
        "**5. Log Filtering by Level**\n",
        "- Python’s logging module provides built-in log levels:"
      ],
      "metadata": {
        "id": "YcWM7RYcbbUF"
      }
    },
    {
      "cell_type": "markdown",
      "source": [
        "###Question 22. What is the os module in Python used for in file handling?\n",
        "\n",
        "\n",
        "Answer: The os module in Python provides a way to interact with the operating system, especially for performing file and directory operations — like creating, deleting, renaming, and navigating files and folders.\n"
      ],
      "metadata": {
        "id": "gJdD3YV1dpSC"
      }
    },
    {
      "cell_type": "markdown",
      "source": [
        "###Question 23. What are the challenges associated with memory management in Python?\n",
        "\n",
        "\n",
        "Answer: Python handles memory management automatically, but there are still several challenges that developers and the interpreter must deal with — especially when building memory-efficient and high-performance applications.\n"
      ],
      "metadata": {
        "id": "qKeCF3S3d5SY"
      }
    },
    {
      "cell_type": "markdown",
      "source": [
        "###Question 24. How do you raise an exception manually in Python?\n",
        "\n",
        "\n",
        "Answer:In Python, you can manually raise an exception using the raise keyword. This is useful when you want to enforce rules, handle unexpected values, or trigger custom error messages in your code."
      ],
      "metadata": {
        "id": "1-pwHeqVeIVE"
      }
    },
    {
      "cell_type": "markdown",
      "source": [
        "###Question 25. Why is it important to use multithreading in certain applications?\n",
        "\n",
        "\n",
        "Answer: Multithreading is important when you want to make your application more responsive, efficient, or capable of handling multiple tasks at once without waiting for one to finish before starting another."
      ],
      "metadata": {
        "id": "MlNru2QUeVB2"
      }
    },
    {
      "cell_type": "markdown",
      "source": [
        "# **Practical Questions**"
      ],
      "metadata": {
        "id": "HSIo7VOTerZa"
      }
    },
    {
      "cell_type": "markdown",
      "source": [
        "###Question 1. How can you open a file for writing in Python and write a string to it?"
      ],
      "metadata": {
        "id": "fLfE2Rcke18C"
      }
    },
    {
      "cell_type": "code",
      "source": [
        "# Open the file in write mode\n",
        "with open(\"example.txt\", \"w\") as file:\n",
        "    # Write a string to the file\n",
        "    file.write(\"Hello, this is a sample text.\")\n"
      ],
      "metadata": {
        "id": "0exMxlEhe96W"
      },
      "execution_count": 3,
      "outputs": []
    },
    {
      "cell_type": "markdown",
      "source": [
        "###Question 2. Write a Python program to read the contents of a file and print each line."
      ],
      "metadata": {
        "id": "_kaus3q_bT9G"
      }
    },
    {
      "cell_type": "code",
      "source": [
        "# Open the file in read mode\n",
        "with open(\"example.txt\", \"r\") as file:\n",
        "    # Read and print each line\n",
        "    for line in file:\n",
        "        print(line.strip())  # strip() removes the newline character\n"
      ],
      "metadata": {
        "colab": {
          "base_uri": "https://localhost:8080/"
        },
        "id": "pJF5R8E3beL7",
        "outputId": "e9b87cd1-140c-42ee-ee3e-4c6930350140"
      },
      "execution_count": 2,
      "outputs": [
        {
          "output_type": "stream",
          "name": "stdout",
          "text": [
            "Hello, this is a sample text.\n"
          ]
        }
      ]
    },
    {
      "cell_type": "markdown",
      "source": [
        "###Question 3. How would you handle a case where the file doesn't exist while trying to open it for reading?"
      ],
      "metadata": {
        "id": "T4AnDTclbve2"
      }
    },
    {
      "cell_type": "code",
      "source": [
        "try:\n",
        "    with open(\"example.txt\", \"r\") as file:\n",
        "        for line in file:\n",
        "            print(line.strip())\n",
        "except FileNotFoundError:\n",
        "    print(\"Error: The file does not exist.\")\n"
      ],
      "metadata": {
        "colab": {
          "base_uri": "https://localhost:8080/"
        },
        "id": "1rJXVYpwb5S2",
        "outputId": "2ef79970-f60f-411a-c99d-11a3d24e5920"
      },
      "execution_count": 4,
      "outputs": [
        {
          "output_type": "stream",
          "name": "stdout",
          "text": [
            "Hello, this is a sample text.\n"
          ]
        }
      ]
    },
    {
      "cell_type": "markdown",
      "source": [
        "###Question 4. Write a Python script that reads from one file and writes its content to another file."
      ],
      "metadata": {
        "id": "RD_CL4zTcCep"
      }
    },
    {
      "cell_type": "code",
      "source": [
        "# Read from source file and write to destination file\n",
        "try:\n",
        "    with open(\"source.txt\", \"r\") as source_file:\n",
        "        with open(\"destination.txt\", \"w\") as dest_file:\n",
        "            for line in source_file:\n",
        "                dest_file.write(line)\n",
        "    print(\"File copied successfully.\")\n",
        "except FileNotFoundError:\n",
        "    print(\"Error: The source file does not exist.\")\n"
      ],
      "metadata": {
        "colab": {
          "base_uri": "https://localhost:8080/"
        },
        "id": "2N8-TkNzcQ9d",
        "outputId": "0c0cb284-9f9c-4edd-c92b-725b87cff033"
      },
      "execution_count": 5,
      "outputs": [
        {
          "output_type": "stream",
          "name": "stdout",
          "text": [
            "Error: The source file does not exist.\n"
          ]
        }
      ]
    },
    {
      "cell_type": "markdown",
      "source": [
        "###Question 5. How would you catch and handle division by zero error in Python?"
      ],
      "metadata": {
        "id": "jBMaQUg5cU3g"
      }
    },
    {
      "cell_type": "code",
      "source": [
        "try:\n",
        "    numerator = 10\n",
        "    denominator = 0\n",
        "    result = numerator / denominator\n",
        "    print(\"Result:\", result)\n",
        "except ZeroDivisionError:\n",
        "    print(\"Error: Cannot divide by zero.\")\n"
      ],
      "metadata": {
        "colab": {
          "base_uri": "https://localhost:8080/"
        },
        "id": "DgBE0SVQcxfK",
        "outputId": "a8d13650-2ee6-44b3-b157-a511af92ad5f"
      },
      "execution_count": 6,
      "outputs": [
        {
          "output_type": "stream",
          "name": "stdout",
          "text": [
            "Error: Cannot divide by zero.\n"
          ]
        }
      ]
    },
    {
      "cell_type": "markdown",
      "source": [
        "###Question 6. Write a Python program that logs an error message to a log file when a division by zero exception occurs."
      ],
      "metadata": {
        "id": "JN6kg9SPc2KA"
      }
    },
    {
      "cell_type": "code",
      "source": [
        "import logging\n",
        "\n",
        "# Configure the logging\n",
        "logging.basicConfig(filename='error.log', level=logging.ERROR,\n",
        "                    format='%(asctime)s - %(levelname)s - %(message)s')\n",
        "\n",
        "try:\n",
        "    numerator = 10\n",
        "    denominator = 0\n",
        "    result = numerator / denominator\n",
        "except ZeroDivisionError as e:\n",
        "    logging.error(\"Division by zero error occurred: %s\", e)\n",
        "    print(\"An error occurred. Check the 'error.log' file for details.\")\n"
      ],
      "metadata": {
        "colab": {
          "base_uri": "https://localhost:8080/"
        },
        "id": "ENC7RBm4c_dO",
        "outputId": "c6ffeb5c-2fc5-4a85-aedf-730c7435fa12"
      },
      "execution_count": 7,
      "outputs": [
        {
          "output_type": "stream",
          "name": "stderr",
          "text": [
            "ERROR:root:Division by zero error occurred: division by zero\n"
          ]
        },
        {
          "output_type": "stream",
          "name": "stdout",
          "text": [
            "An error occurred. Check the 'error.log' file for details.\n"
          ]
        }
      ]
    },
    {
      "cell_type": "markdown",
      "source": [
        "###Question 7. How do you log information at different levels (INFO, ERROR, WARNING) in Python using the logging module?"
      ],
      "metadata": {
        "id": "Gce7ml-jdLv-"
      }
    },
    {
      "cell_type": "code",
      "source": [
        "import logging\n",
        "\n",
        "# Configure the logging\n",
        "logging.basicConfig(\n",
        "    filename='app.log',\n",
        "    level=logging.DEBUG,  # Set the minimum level to capture\n",
        "    format='%(asctime)s - %(levelname)s - %(message)s'\n",
        ")\n",
        "\n",
        "# Log messages at different levels\n",
        "logging.debug(\"This is a DEBUG message (for detailed troubleshooting).\")\n",
        "logging.info(\"This is an INFO message (for general information).\")\n",
        "logging.warning(\"This is a WARNING message (for something unexpected).\")\n",
        "logging.error(\"This is an ERROR message (for serious problems).\")\n",
        "logging.critical(\"This is a CRITICAL message (for very severe errors).\")\n"
      ],
      "metadata": {
        "colab": {
          "base_uri": "https://localhost:8080/"
        },
        "id": "ZT3kfjJJdYf3",
        "outputId": "39aeaae5-8b72-4f55-a8a0-b0d6c09b3e0b"
      },
      "execution_count": 8,
      "outputs": [
        {
          "output_type": "stream",
          "name": "stderr",
          "text": [
            "WARNING:root:This is a WARNING message (for something unexpected).\n",
            "ERROR:root:This is an ERROR message (for serious problems).\n",
            "CRITICAL:root:This is a CRITICAL message (for very severe errors).\n"
          ]
        }
      ]
    },
    {
      "cell_type": "markdown",
      "source": [
        "###Question 8. Write a program to handle a file opening error using exception handling."
      ],
      "metadata": {
        "id": "JJV-aWkNdcYa"
      }
    },
    {
      "cell_type": "code",
      "source": [
        "try:\n",
        "    # Attempt to open a file that may not exist\n",
        "    with open(\"nonexistent_file.txt\", \"r\") as file:\n",
        "        content = file.read()\n",
        "        print(content)\n",
        "except FileNotFoundError:\n",
        "    print(\"Error: The file was not found.\")\n",
        "except PermissionError:\n",
        "    print(\"Error: You do not have permission to access this file.\")\n",
        "except Exception as e:\n",
        "    print(f\"An unexpected error occurred: {e}\")\n"
      ],
      "metadata": {
        "colab": {
          "base_uri": "https://localhost:8080/"
        },
        "id": "QE2UBPskdm5D",
        "outputId": "e9c52743-29a6-42b7-dd03-858d99cf22d8"
      },
      "execution_count": 9,
      "outputs": [
        {
          "output_type": "stream",
          "name": "stdout",
          "text": [
            "Error: The file was not found.\n"
          ]
        }
      ]
    },
    {
      "cell_type": "markdown",
      "source": [
        "###Question 9. How can you read a file line by line and store its content in a list in Python?"
      ],
      "metadata": {
        "id": "GkIuYexCdoxl"
      }
    },
    {
      "cell_type": "code",
      "source": [
        "with open(\"example.txt\", \"r\") as file:\n",
        "    lines = file.readlines()\n",
        "\n",
        "# Each line is an item in the list\n",
        "print(lines)\n"
      ],
      "metadata": {
        "colab": {
          "base_uri": "https://localhost:8080/"
        },
        "id": "9XrlR6Bvd_fS",
        "outputId": "bfe59fb1-7102-4951-a495-9ccc87efdb11"
      },
      "execution_count": 10,
      "outputs": [
        {
          "output_type": "stream",
          "name": "stdout",
          "text": [
            "['Hello, this is a sample text.']\n"
          ]
        }
      ]
    },
    {
      "cell_type": "markdown",
      "source": [
        "###Question 10. How can you append data to an existing file in Python?"
      ],
      "metadata": {
        "id": "bkTtdxJoeFtF"
      }
    },
    {
      "cell_type": "code",
      "source": [
        "with open(\"example.txt\", \"a+\") as file:\n",
        "    file.write(\"Appended line.\\n\")\n",
        "    file.seek(0)  # Move the cursor to the beginning if you want to read\n",
        "    content = file.read()\n",
        "    print(content)\n"
      ],
      "metadata": {
        "colab": {
          "base_uri": "https://localhost:8080/"
        },
        "id": "nr2GbSdUeUUB",
        "outputId": "5b2c7c90-8b6c-4719-ae1a-5f8ab41dad2e"
      },
      "execution_count": 15,
      "outputs": [
        {
          "output_type": "stream",
          "name": "stdout",
          "text": [
            "Hello, this is a sample text.This is a new line of text.\n",
            "This is a new line of text.\n",
            "Appended line.\n",
            "This is a new line of text.\n",
            "Another line.\n",
            "Appended line.\n",
            "This is a new line of text.\n",
            "Another line.\n",
            "Appended line.\n",
            "\n"
          ]
        }
      ]
    },
    {
      "cell_type": "markdown",
      "source": [
        "###Question 11.  Write a Python program that uses a try-except block to handle an error when attempting to access a dictionary key that doesn't exist."
      ],
      "metadata": {
        "id": "zHKjiDGffm4E"
      }
    },
    {
      "cell_type": "code",
      "source": [
        "# Sample dictionary\n",
        "student_scores = {\n",
        "    \"Alice\": 85,\n",
        "    \"Bob\": 90,\n",
        "    \"Charlie\": 78\n",
        "}\n",
        "\n",
        "try:\n",
        "    # Try to access a key that might not exist\n",
        "    score = student_scores[\"David\"]\n",
        "    print(f\"David's score is {score}\")\n",
        "except KeyError:\n",
        "    print(\"Error: 'David' key not found in the dictionary.\")\n"
      ],
      "metadata": {
        "colab": {
          "base_uri": "https://localhost:8080/"
        },
        "id": "CZnclpYXgBM-",
        "outputId": "a3408459-2855-4f71-f3fb-d993883b30cf"
      },
      "execution_count": 16,
      "outputs": [
        {
          "output_type": "stream",
          "name": "stdout",
          "text": [
            "Error: 'David' key not found in the dictionary.\n"
          ]
        }
      ]
    },
    {
      "cell_type": "markdown",
      "source": [
        "###Question 12. Write a program that demonstrates using multiple except blocks to handle different types of exceptions."
      ],
      "metadata": {
        "id": "NGAUhnXJgDUs"
      }
    },
    {
      "cell_type": "code",
      "source": [
        "try:\n",
        "    # Intentionally cause different errors for demonstration\n",
        "    num = int(input(\"Enter a number: \"))\n",
        "    result = 10 / num\n",
        "    names = {\"Alice\": 25}\n",
        "    print(\"Age:\", names[\"Bob\"])  # KeyError if 'Bob' not in dictionary\n",
        "\n",
        "except ZeroDivisionError:\n",
        "    print(\"Error: You can't divide by zero.\")\n",
        "\n",
        "except ValueError:\n",
        "    print(\"Error: Invalid input. Please enter a valid number.\")\n",
        "\n",
        "except KeyError:\n",
        "    print(\"Error: That name was not found in the dictionary.\")\n",
        "\n",
        "except Exception as e:\n",
        "    print(f\"An unexpected error occurred: {e}\")\n"
      ],
      "metadata": {
        "colab": {
          "base_uri": "https://localhost:8080/"
        },
        "id": "jSw2zQPegTrW",
        "outputId": "a393a686-f45a-46ee-9650-6cc2948e7a62"
      },
      "execution_count": 17,
      "outputs": [
        {
          "output_type": "stream",
          "name": "stdout",
          "text": [
            "Enter a number: 10\n",
            "Error: That name was not found in the dictionary.\n"
          ]
        }
      ]
    },
    {
      "cell_type": "markdown",
      "source": [
        "###Question 13. How would you check if a file exists before attempting to read it in Python?"
      ],
      "metadata": {
        "id": "Ol7rvxUfguJw"
      }
    },
    {
      "cell_type": "code",
      "source": [
        "import os\n",
        "\n",
        "file_path = \"example.txt\"\n",
        "\n",
        "if os.path.exists(file_path):\n",
        "    with open(file_path, \"r\") as file:\n",
        "        content = file.read()\n",
        "        print(content)\n",
        "else:\n",
        "    print(\"File does not exist.\")\n"
      ],
      "metadata": {
        "colab": {
          "base_uri": "https://localhost:8080/"
        },
        "id": "-5WHkuSvhAi7",
        "outputId": "0c9edaec-86c3-4c0b-be55-e6449fc96ada"
      },
      "execution_count": 18,
      "outputs": [
        {
          "output_type": "stream",
          "name": "stdout",
          "text": [
            "Hello, this is a sample text.This is a new line of text.\n",
            "This is a new line of text.\n",
            "Appended line.\n",
            "This is a new line of text.\n",
            "Another line.\n",
            "Appended line.\n",
            "This is a new line of text.\n",
            "Another line.\n",
            "Appended line.\n",
            "\n"
          ]
        }
      ]
    },
    {
      "cell_type": "markdown",
      "source": [
        "###Question 14. Write a program that uses the logging module to log both informational and error messages."
      ],
      "metadata": {
        "id": "jvdNc1bOhL61"
      }
    },
    {
      "cell_type": "code",
      "source": [
        "import logging\n",
        "\n",
        "# Setup basic logging\n",
        "logging.basicConfig(\n",
        "    filename='app.log',\n",
        "    level=logging.INFO,\n",
        "    format='%(asctime)s - %(levelname)s - %(message)s'\n",
        ")\n",
        "\n",
        "logging.info(\"This is an informational message.\")\n",
        "try:\n",
        "    x = 10 / 0\n",
        "except ZeroDivisionError as e:\n",
        "    logging.error(f\"An error occurred: {e}\")\n"
      ],
      "metadata": {
        "colab": {
          "base_uri": "https://localhost:8080/"
        },
        "id": "rLPwVTkCh1SP",
        "outputId": "6e4090a6-961b-4710-c169-56c113f1324e"
      },
      "execution_count": 19,
      "outputs": [
        {
          "output_type": "stream",
          "name": "stderr",
          "text": [
            "ERROR:root:An error occurred: division by zero\n"
          ]
        }
      ]
    },
    {
      "cell_type": "markdown",
      "source": [
        "###Question 15. Write a Python program that prints the content of a file and handles the case when the file is empty."
      ],
      "metadata": {
        "id": "-6P21iaIh4Wa"
      }
    },
    {
      "cell_type": "code",
      "source": [
        "file_path = \"example.txt\"\n",
        "\n",
        "try:\n",
        "    with open(file_path, \"r\") as file:\n",
        "        content = file.read()\n",
        "        if not content.strip():\n",
        "            print(\"The file is empty.\")\n",
        "        else:\n",
        "            print(\"File contents:\")\n",
        "            print(content)\n",
        "except FileNotFoundError:\n",
        "    print(\"File not found.\")\n"
      ],
      "metadata": {
        "colab": {
          "base_uri": "https://localhost:8080/"
        },
        "id": "5Is_ZIxOh-Qs",
        "outputId": "0025c233-d8e5-46f9-931f-00b1dca0a6bd"
      },
      "execution_count": 20,
      "outputs": [
        {
          "output_type": "stream",
          "name": "stdout",
          "text": [
            "File contents:\n",
            "Hello, this is a sample text.This is a new line of text.\n",
            "This is a new line of text.\n",
            "Appended line.\n",
            "This is a new line of text.\n",
            "Another line.\n",
            "Appended line.\n",
            "This is a new line of text.\n",
            "Another line.\n",
            "Appended line.\n",
            "\n"
          ]
        }
      ]
    },
    {
      "cell_type": "markdown",
      "source": [
        "###Question 16. Demonstrate how to use memory profiling to check the memory usage of a small program."
      ],
      "metadata": {
        "id": "PJ-ZPeFqiFHp"
      }
    },
    {
      "cell_type": "code",
      "source": [
        "pip install memory-profiler\n"
      ],
      "metadata": {
        "colab": {
          "base_uri": "https://localhost:8080/"
        },
        "id": "vPXOpx0gkhQ-",
        "outputId": "a1c8d86d-0f59-4b21-b2e6-bf95486e4869"
      },
      "execution_count": 38,
      "outputs": [
        {
          "output_type": "stream",
          "name": "stdout",
          "text": [
            "Requirement already satisfied: memory-profiler in /usr/local/lib/python3.11/dist-packages (0.61.0)\n",
            "Requirement already satisfied: psutil in /usr/local/lib/python3.11/dist-packages (from memory-profiler) (5.9.5)\n"
          ]
        }
      ]
    },
    {
      "cell_type": "code",
      "source": [
        "from memory_profiler import profile\n",
        "\n",
        "@profile\n",
        "def create_large_list():\n",
        "    numbers = [i for i in range(100000)]\n",
        "    return sum(numbers)\n",
        "\n",
        "if __name__ == \"__main__\":\n",
        "    create_large_list()\n"
      ],
      "metadata": {
        "colab": {
          "base_uri": "https://localhost:8080/"
        },
        "id": "j2gdC5GEjmF7",
        "outputId": "95f87267-dd93-4771-cf67-7826304bdd99"
      },
      "execution_count": 33,
      "outputs": [
        {
          "output_type": "stream",
          "name": "stdout",
          "text": [
            "ERROR: Could not find file /tmp/ipython-input-2646047908.py\n"
          ]
        }
      ]
    },
    {
      "cell_type": "code",
      "source": [
        "!python -m memory_profiler example.py"
      ],
      "metadata": {
        "colab": {
          "base_uri": "https://localhost:8080/"
        },
        "id": "i-8EsMnOjoVk",
        "outputId": "cdc249f2-efcb-4dd5-f683-8cef6670e3ff"
      },
      "execution_count": 39,
      "outputs": [
        {
          "output_type": "stream",
          "name": "stdout",
          "text": [
            "Could not find script example.py\n"
          ]
        }
      ]
    },
    {
      "cell_type": "markdown",
      "source": [
        "###Question 17. Write a Python program to create and write a list of numbers to a file, one number per line."
      ],
      "metadata": {
        "id": "dfge9ywai-bS"
      }
    },
    {
      "cell_type": "code",
      "source": [
        "# Create a list of numbers\n",
        "numbers = [10, 20, 30, 40, 50]\n",
        "\n",
        "# Open the file in write mode\n",
        "with open(\"numbers.txt\", \"w\") as file:\n",
        "    for number in numbers:\n",
        "        file.write(f\"{number}\\n\")\n",
        "\n",
        "print(\"Numbers written to 'numbers.txt' successfully.\")\n"
      ],
      "metadata": {
        "colab": {
          "base_uri": "https://localhost:8080/"
        },
        "id": "LRj4RL_1mV4t",
        "outputId": "1dab5f0f-65e0-4aa1-9ce2-db7cf4d0b8cd"
      },
      "execution_count": 44,
      "outputs": [
        {
          "output_type": "stream",
          "name": "stdout",
          "text": [
            "Numbers written to 'numbers.txt' successfully.\n"
          ]
        }
      ]
    },
    {
      "cell_type": "markdown",
      "source": [
        "###Question 18. How would you implement a basic logging setup that logs to a file with rotation after 1MB?"
      ],
      "metadata": {
        "id": "jl_ghUVgkYB_"
      }
    },
    {
      "cell_type": "code",
      "source": [
        "import logging\n",
        "from logging.handlers import RotatingFileHandler\n",
        "\n",
        "logger = logging.getLogger(\"my_logger\")\n",
        "logger.setLevel(logging.INFO)\n",
        "\n",
        "handler = RotatingFileHandler(\"rotating_app.log\", maxBytes=1_000_000, backupCount=3)\n",
        "formatter = logging.Formatter('%(asctime)s - %(levelname)s - %(message)s')\n",
        "handler.setFormatter(formatter)\n",
        "\n",
        "logger.addHandler(handler)\n",
        "\n",
        "logger.info(\"This is a rotating log message.\")\n"
      ],
      "metadata": {
        "colab": {
          "base_uri": "https://localhost:8080/"
        },
        "id": "xrgEM5Hxk8iQ",
        "outputId": "bc82bd99-02cf-44ee-8060-c2b9ea3fcc7f"
      },
      "execution_count": 40,
      "outputs": [
        {
          "output_type": "stream",
          "name": "stderr",
          "text": [
            "INFO:my_logger:This is a rotating log message.\n"
          ]
        }
      ]
    },
    {
      "cell_type": "markdown",
      "source": [
        "###Question 19. Write a program that handles both IndexError and KeyError using a try-except block."
      ],
      "metadata": {
        "id": "JL8F6mzzk-oh"
      }
    },
    {
      "cell_type": "code",
      "source": [
        "my_list = [1, 2, 3]\n",
        "my_dict = {\"a\": 10}\n",
        "\n",
        "try:\n",
        "    print(my_list[5])         # IndexError\n",
        "    print(my_dict[\"b\"])       # KeyError\n",
        "except IndexError:\n",
        "    print(\"IndexError: List index out of range.\")\n",
        "except KeyError:\n",
        "    print(\"KeyError: Key not found in dictionary.\")\n"
      ],
      "metadata": {
        "colab": {
          "base_uri": "https://localhost:8080/"
        },
        "id": "_DK2Qz_OlfKX",
        "outputId": "ffc92c2a-e129-432a-8523-669dc7dde4fa"
      },
      "execution_count": 41,
      "outputs": [
        {
          "output_type": "stream",
          "name": "stdout",
          "text": [
            "IndexError: List index out of range.\n"
          ]
        }
      ]
    },
    {
      "cell_type": "markdown",
      "source": [
        "###Question 20. How would you open a file and read its contents using a context manager in Python?"
      ],
      "metadata": {
        "id": "SWs6YFjglpC9"
      }
    },
    {
      "cell_type": "code",
      "source": [
        "with open(\"example.txt\", \"r\") as file:\n",
        "    content = file.read()\n",
        "    print(content)\n"
      ],
      "metadata": {
        "colab": {
          "base_uri": "https://localhost:8080/"
        },
        "id": "UeR6KXuPlyWJ",
        "outputId": "1604bb79-b95d-4ca1-a144-0e6d3110dfe1"
      },
      "execution_count": 42,
      "outputs": [
        {
          "output_type": "stream",
          "name": "stdout",
          "text": [
            "Hello, this is a sample text.This is a new line of text.\n",
            "This is a new line of text.\n",
            "Appended line.\n",
            "This is a new line of text.\n",
            "Another line.\n",
            "Appended line.\n",
            "This is a new line of text.\n",
            "Another line.\n",
            "Appended line.\n",
            "\n"
          ]
        }
      ]
    },
    {
      "cell_type": "markdown",
      "source": [
        "###Question 21. Write a Python program that reads a file and prints the number of occurrences of a specific word."
      ],
      "metadata": {
        "id": "Z8LH6s4el2R0"
      }
    },
    {
      "cell_type": "code",
      "source": [
        "def count_word_occurrences(filename, target_word):\n",
        "    try:\n",
        "        with open(filename, \"r\") as file:\n",
        "            content = file.read().lower()\n",
        "            word_count = content.count(target_word.lower())\n",
        "            print(f\"The word '{target_word}' occurs {word_count} times in '{filename}'.\")\n",
        "    except FileNotFoundError:\n",
        "        print(f\"Error: The file '{filename}' was not found.\")\n",
        "    except Exception as e:\n",
        "        print(f\"An unexpected error occurred: {e}\")\n",
        "\n",
        "# Example usage\n",
        "filename = \"example.txt\"\n",
        "target_word = \"python\"\n",
        "count_word_occurrences(filename, target_word)\n"
      ],
      "metadata": {
        "colab": {
          "base_uri": "https://localhost:8080/"
        },
        "id": "G-EKWyhUl-MM",
        "outputId": "646b6c91-c74d-4b1a-d1ea-cb090eb6f838"
      },
      "execution_count": 43,
      "outputs": [
        {
          "output_type": "stream",
          "name": "stdout",
          "text": [
            "The word 'python' occurs 0 times in 'example.txt'.\n"
          ]
        }
      ]
    },
    {
      "cell_type": "markdown",
      "source": [
        "###Question 22. How can you check if a file is empty before attempting to read its contents?"
      ],
      "metadata": {
        "id": "pbolFltbmcVg"
      }
    },
    {
      "cell_type": "code",
      "source": [
        "import os\n",
        "\n",
        "file_path = \"example.txt\"\n",
        "\n",
        "if os.path.exists(file_path) and os.path.getsize(file_path) > 0:\n",
        "    with open(file_path, \"r\") as file:\n",
        "        content = file.read()\n",
        "        print(\"File content:\")\n",
        "        print(content)\n",
        "else:\n",
        "    print(\"The file is empty or does not exist.\")\n"
      ],
      "metadata": {
        "colab": {
          "base_uri": "https://localhost:8080/"
        },
        "id": "Veu1FMlwmjWt",
        "outputId": "00dd09c1-7356-4492-99c8-59256fedb630"
      },
      "execution_count": 45,
      "outputs": [
        {
          "output_type": "stream",
          "name": "stdout",
          "text": [
            "File content:\n",
            "Hello, this is a sample text.This is a new line of text.\n",
            "This is a new line of text.\n",
            "Appended line.\n",
            "This is a new line of text.\n",
            "Another line.\n",
            "Appended line.\n",
            "This is a new line of text.\n",
            "Another line.\n",
            "Appended line.\n",
            "\n"
          ]
        }
      ]
    },
    {
      "cell_type": "markdown",
      "source": [
        "###Question 23. Write a Python program that writes to a log file when an error occurs during file handling."
      ],
      "metadata": {
        "id": "813I9UpEmtFs"
      }
    },
    {
      "cell_type": "code",
      "source": [
        "import logging\n",
        "\n",
        "# Configure logging\n",
        "logging.basicConfig(\n",
        "    filename='file_errors.log',\n",
        "    level=logging.ERROR,\n",
        "    format='%(asctime)s - %(levelname)s - %(message)s'\n",
        ")\n",
        "\n",
        "file_path = \"missing_file.txt\"\n",
        "\n",
        "try:\n",
        "    with open(file_path, \"r\") as file:\n",
        "        content = file.read()\n",
        "        print(content)\n",
        "except FileNotFoundError as e:\n",
        "    logging.error(f\"FileNotFoundError: {e}\")\n",
        "    print(\"Error: The file does not exist. Logged the error.\")\n",
        "except Exception as e:\n",
        "    logging.error(f\"Unexpected error: {e}\")\n",
        "    print(\"An unexpected error occurred. Logged the error.\")\n"
      ],
      "metadata": {
        "colab": {
          "base_uri": "https://localhost:8080/"
        },
        "id": "-D1XgWZGm0JU",
        "outputId": "f47d2db2-4f74-4b15-c95a-7381cd6ec29c"
      },
      "execution_count": 46,
      "outputs": [
        {
          "output_type": "stream",
          "name": "stderr",
          "text": [
            "ERROR:root:FileNotFoundError: [Errno 2] No such file or directory: 'missing_file.txt'\n"
          ]
        },
        {
          "output_type": "stream",
          "name": "stdout",
          "text": [
            "Error: The file does not exist. Logged the error.\n"
          ]
        }
      ]
    }
  ],
  "metadata": {
    "colab": {
      "provenance": []
    },
    "kernelspec": {
      "display_name": "Python 3",
      "name": "python3"
    }
  },
  "nbformat": 4,
  "nbformat_minor": 0
}