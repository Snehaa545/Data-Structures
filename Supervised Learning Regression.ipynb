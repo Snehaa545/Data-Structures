{
  "cells": [
    {
      "cell_type": "markdown",
      "source": [
        "# Supervised Learning: Regression Models and Performance Metrics | **Solution**"
      ],
      "metadata": {
        "id": "bVIYW2bYPSo9"
      }
    },
    {
      "cell_type": "markdown",
      "source": [
        "**Instructions:** Carefully read each question. Use Google Docs, Microsoft Word, or a similar tool to create a document where you type out each question along with its answer. Save the document as a PDF, and then upload it to the LMS. Please do not zip or archive the files before uploading them. Each question carries 20 marks."
      ],
      "metadata": {
        "id": "n789xICgPqDS"
      }
    },
    {
      "cell_type": "markdown",
      "source": [
        "**Question 1 :** What is Simple Linear Regression (SLR)? Explain its purpose."
      ],
      "metadata": {
        "id": "lLBE9d1kP4IW"
      }
    },
    {
      "cell_type": "markdown",
      "source": [
        "**Answer:** Simple Linear Regression (SLR) is a statistical method used to study the relationship between two variables:\n",
        "\n",
        "- One independent variable (X) — the predictor or input\n",
        "\n",
        "- One dependent variable (Y) — the outcome or target\n",
        "\n",
        "The goal of SLR is to find a straight line (called the regression line) that best fits the data and can be used to predict the value of Y based on X.\n",
        "\n",
        "**Purpose of SLR:**\n",
        "\n",
        " **1. Prediction:**\n",
        "\n",
        "To predict the value of one variable (Y) based on the value of another variable (X). Example: Predicting house price (Y) based on its size (X).\n",
        "\n",
        "**2.Relationship Analysis:**\n",
        "\n",
        "To determine whether and how strongly two variables are related. Example: Studying the relationship between advertising spend (X) and sales revenue (Y).\n",
        "\n",
        "**3. Trend Estimation:**\n",
        "\n",
        "To identify general trends or patterns in data."
      ],
      "metadata": {
        "id": "MNONBFs4Qk-F"
      }
    },
    {
      "cell_type": "markdown",
      "source": [
        "**Question 2:** What are the key assumptions of Simple Linear Regression?\n"
      ],
      "metadata": {
        "id": "8rfBD08QV8Fn"
      }
    },
    {
      "cell_type": "markdown",
      "source": [
        "**Answer:**\n",
        "1. Linearity\n",
        "\n",
        "The relationship between the independent variable (X) and dependent variable (Y) should be linear.\n",
        "\n",
        "- This means the change in Y is proportional to the change in X.\n",
        "\n",
        "- You can check this by plotting a scatter plot of X and Y.\n",
        "\n",
        "- If the points roughly form a straight line, the assumption holds true.\n",
        "\n",
        "Example: As study hours increase, exam scores increase roughly in a straight-line pattern.\n",
        "\n",
        "2. Independence of Errors\n",
        "\n",
        "The residuals (errors) should be independent of each other.\n",
        "\n",
        "- This means one observation’s error shouldn’t influence another’s.\n",
        "\n",
        "- It’s especially important in time-series data.\n",
        "\n",
        "- You can test this using the Durbin-Watson test.\n",
        "\n",
        "Example: The error in predicting sales for January shouldn’t depend on the error for February.\n",
        "\n",
        "3. Homoscedasticity (Constant Variance of Errors)\n",
        "\n",
        "The variance of residuals should be constant across all levels of X.\n",
        "\n",
        "- The spread of residuals should look roughly the same for all X values.\n",
        "\n",
        "- If variance increases or decreases, it indicates heteroscedasticity which can distort results.\n",
        "\n",
        "Example: The prediction errors should be about the same size for small and large values of X.\n",
        "\n",
        "4. Normality of Errors\n",
        "\n",
        "The residuals (differences between observed and predicted Y values) should follow a normal distribution.\n",
        "\n",
        "- This assumption is important for hypothesis testing and confidence intervals.\n",
        "\n",
        "- You can check it with a histogram or Q-Q plot of residuals.\n",
        "\n",
        "Example: Most errors are small, with few very large positive or negative errors.\n",
        "\n",
        "5. No or Minimal Multicollinearity\n",
        "\n",
        "In simple linear regression, there’s only one independent variable, so this usually doesn’t apply. But in multiple regression, the independent variables shouldn’t be highly correlated with each other."
      ],
      "metadata": {
        "id": "yyYD1LAoWCId"
      }
    },
    {
      "cell_type": "markdown",
      "source": [
        "**Question 3:** Write the mathematical equation for a simple linear regression model and explain each term."
      ],
      "metadata": {
        "id": "c_NnpUm1Xe6k"
      }
    },
    {
      "cell_type": "markdown",
      "source": [
        "**Answer:** The mathematical equation for a Simple Linear Regression (SLR) model is:\n",
        "\n",
        "𝑌\n",
        "=𝑎\n",
        "+\n",
        "𝑏\n",
        "𝑋\n",
        "+\n",
        "𝑒\n",
        "\n",
        "\n",
        "1. Y — Dependent Variable (Response Variable)\n",
        "\n",
        "- This is the output or value we want to predict or explain.\n",
        "\n",
        "- Example: House price, sales amount, exam score, etc.\n",
        "\n",
        "2. X — Independent Variable (Predictor Variable)\n",
        "\n",
        "- This is the input or factor used to predict Y.\n",
        "\n",
        "- Example: House size, advertising spend, study hours, etc.\n",
        "\n",
        "3. a — Intercept (Constant Term)\n",
        "\n",
        "- The value of Y when X = 0.\n",
        "\n",
        "- It represents the point where the regression line crosses the Y-axis.\n",
        "\n",
        "- Example: If sales = 50 + 10X, the intercept (50) means even with no advertising, sales are expected to be 50 units.\n",
        "\n",
        "4. b — Slope (Regression Coefficient)\n",
        "\n",
        "- The rate of change in Y for every one-unit change in X.\n",
        "\n",
        "- It shows the strength and direction of the relationship.\n",
        "\n",
        "- If b > 0, Y increases as X increases (positive relationship).\n",
        "\n",
        "- If b < 0, Y decreases as X increases (negative relationship).\n",
        "\n",
        "- Example: If b = 10, it means every extra unit of X increases Y by 10 units.\n",
        "\n",
        "5. e — Error Term (Residual)\n",
        "\n",
        "- The difference between the actual and predicted value of Y.\n",
        "\n",
        "- It accounts for all other factors that affect Y but are not included in the model.\n",
        "\n",
        "𝑒\n",
        "=𝑌\n",
        "𝑎\n",
        "𝑐\n",
        "𝑡\n",
        "𝑢\n",
        "𝑎\n",
        "𝑙\n",
        "−\n",
        "𝑌\n",
        "𝑝\n",
        "𝑟\n",
        "𝑒\n",
        "𝑑\n",
        "𝑖\n",
        "𝑐\n",
        "𝑡\n",
        "𝑒\n",
        "𝑑\n"
      ],
      "metadata": {
        "id": "ryDkLl-6XopJ"
      }
    },
    {
      "cell_type": "markdown",
      "source": [
        "**Question 4:** Provide a real-world example where simple linear regression can be applied.\n"
      ],
      "metadata": {
        "id": "EqJQzXPXaO0x"
      }
    },
    {
      "cell_type": "markdown",
      "source": [
        "**Answer:** **Example: Predicting Student Exam Scores**\n",
        "\n",
        "Scenario:\n",
        "\n",
        "A teacher wants to understand how the number of hours a student studies (X) affects their exam score (Y).\n",
        "\n",
        "Model Setup:\n",
        "\n",
        "- Independent Variable (X): Hours studied\n",
        "\n",
        "- Dependent Variable (Y): Exam score\n",
        "\n",
        "After collecting data from several students, the teacher finds this regression equation:\n",
        "\n",
        "Score\n",
        "=25\n",
        "+\n",
        "5\n",
        "𝑋\n",
        "\n",
        "**Interpretation:**\n",
        "\n",
        "- Intercept (25):\n",
        "\n",
        "If a student studies 0 hours, they can still score around 25 marks (maybe from basic knowledge or attendance marks).\n",
        "\n",
        "- Slope (5):\n",
        "\n",
        "For every additional hour studied, the exam score increases by 5 marks on average.\n",
        "\n",
        "**Example Prediction:**\n",
        "\n",
        "If a student studies for 8 hours, the predicted score is:\n",
        "\n",
        "Score\n",
        "=25\n",
        "+\n",
        "5\n",
        "(\n",
        "8\n",
        ")\n",
        "=65"
      ],
      "metadata": {
        "id": "msUAJy5JaTu_"
      }
    },
    {
      "cell_type": "markdown",
      "source": [
        "**Question 5:** What is the method of least squares in linear regression?"
      ],
      "metadata": {
        "id": "c7Q4X8PpbM_o"
      }
    },
    {
      "cell_type": "markdown",
      "source": [
        "**Answer:** The method of least squares is the most common technique used to find the best-fitting line in a linear regression model.\n",
        "\n",
        "Its main goal is to minimize the difference between the actual values and the predicted values from the regression line.\n",
        "\n",
        "**Concept:**\n",
        "\n",
        "In Simple Linear Regression, the model is:\n",
        "\n",
        "𝑌\n",
        "=𝑎\n",
        "+\n",
        "𝑏\n",
        "𝑋\n",
        "+\n",
        "𝑒\n",
        "\n",
        "\n",
        "- Y = Actual dependent variable\n",
        "\n",
        "- a + bX = Predicted value of Y\n",
        "\n",
        "- e = Error (difference between actual and predicted Y)\n",
        "\n",
        "The method of least squares chooses values of a (intercept) and b (slope) so that the sum of squared errors (residuals) is as small as possible."
      ],
      "metadata": {
        "id": "2e_2iOTObTDF"
      }
    },
    {
      "cell_type": "markdown",
      "source": [
        "**Question 6:** What is Logistic Regression? How does it differ from Linear Regression?"
      ],
      "metadata": {
        "id": "F26qYfijeYyy"
      }
    },
    {
      "cell_type": "markdown",
      "source": [
        "**Answer:** Logistic Regression is a statistical method used to predict a categorical (usually binary) outcome based on one or more independent variables.\n",
        "\n",
        "Instead of predicting a continuous value like in linear regression, logistic regression predicts the probability that an observation belongs to a particular class.\n",
        "\n",
        "**Example:**\n",
        "\n",
        "Predicting whether a student passes (1) or fails (0) based on hours studied."
      ],
      "metadata": {
        "id": "Hq0u13Poehlg"
      }
    },
    {
      "cell_type": "markdown",
      "source": [
        "**Question 7:** Name and briefly describe three common evaluation metrics for regression models.\n"
      ],
      "metadata": {
        "id": "hxU0JF0LfvGt"
      }
    },
    {
      "cell_type": "markdown",
      "source": [
        "**Answer:** 1. Mean Absolute Error (MAE)\n",
        "\n",
        "𝑀\n",
        "𝐴\n",
        "𝐸\n",
        "=1\n",
        "𝑛\n",
        "∑\n",
        "∣\n",
        "𝑌\n",
        "𝑖\n",
        "−\n",
        "𝑌\n",
        "𝑖\n",
        "^\n",
        "∣\n",
        "\n",
        "\n",
        "- What it means:\n",
        "\n",
        "It measures the average absolute difference between actual and predicted values.\n",
        "\n",
        "- Interpretation:\n",
        "\n",
        "Lower MAE = better model accuracy.\n",
        "\n",
        "- Example:\n",
        "\n",
        "If MAE = 5, on average the model’s predictions are off by 5 units.\n",
        "\n",
        "2. Mean Squared Error (MSE)\n",
        "\n",
        "𝑀\n",
        "𝑆\n",
        "𝐸\n",
        "=1\n",
        "𝑛\n",
        "∑\n",
        "(\n",
        "𝑌\n",
        "𝑖\n",
        "−\n",
        "𝑌\n",
        "𝑖\n",
        "^\n",
        ")\n",
        "2\n",
        "\n",
        "- What it means:\n",
        "\n",
        "It measures the average of squared errors between actual and predicted values.\n",
        "\n",
        "- Key point:\n",
        "\n",
        "Larger errors are penalized more because errors are squared.\n",
        "\n",
        "- Interpretation:\n",
        "\n",
        "A smaller MSE means the model fits the data better.\n",
        "\n",
        "3. R-squared (Coefficient of Determination)\n",
        "\n",
        "𝑅\n",
        "2\n",
        "=1\n",
        "−\n",
        "SS\n",
        "𝑟\n",
        "𝑒\n",
        "𝑠\n",
        "SS\n",
        "𝑡\n",
        "𝑜\n",
        "𝑡\n",
        "\n",
        "Where:\n",
        "\n",
        "- SS\n",
        "𝑟\n",
        "𝑒\n",
        "𝑠\n",
        "=∑\n",
        "(\n",
        "𝑌\n",
        "𝑖\n",
        "−\n",
        "𝑌\n",
        "𝑖\n",
        "^\n",
        ")\n",
        "2\n",
        "→ Residual sum of squares\n",
        "\n",
        "- SS\n",
        "𝑡\n",
        "𝑜\n",
        "𝑡\n",
        "=∑\n",
        "(\n",
        "𝑌\n",
        "𝑖\n",
        "−\n",
        "𝑌\n",
        "ˉ\n",
        ")\n",
        "2→ Total sum of squares\n",
        "\n",
        "- What it means:\n",
        "\n",
        "R² shows how much of the variation in the dependent variable (Y) is explained by the model.\n",
        "\n",
        "- Range: 0 to 1\n",
        "\n",
        "- R² = 1: Perfect fit\n",
        "\n",
        "- R² = 0: Model explains nothing"
      ],
      "metadata": {
        "id": "2wlZ5KGQgZZ6"
      }
    },
    {
      "cell_type": "markdown",
      "source": [
        "**Question 8:** What is the purpose of the R-squared metric in regression analysis?"
      ],
      "metadata": {
        "id": "-gQ8BEoJkAzq"
      }
    },
    {
      "cell_type": "markdown",
      "source": [
        "**Answer:** Purpose of the R-squared Metric in Regression Analysis R-squared (R²), also called the coefficient of determination, measures how well the regression model explains the variation in the dependent variable (Y) using the independent variable(s) (X).\n",
        "\n",
        "Definition:\n",
        "𝑅\n",
        "2\n",
        "=1\n",
        "−\n",
        "SS\n",
        "𝑟\n",
        "𝑒\n",
        "𝑠\n",
        "SS\n",
        "𝑡\n",
        "𝑜\n",
        "𝑡\n",
        "\n",
        "Where:\n",
        "\n",
        "- SS\n",
        "𝑟\n",
        "𝑒\n",
        "𝑠\n",
        "=∑\n",
        "(\n",
        "𝑌\n",
        "𝑖\n",
        "−\n",
        "𝑌\n",
        "𝑖\n",
        "^\n",
        ")\n",
        "2→ Residual (unexplained) variation\n",
        "\n",
        "- SS\n",
        "𝑡\n",
        "𝑜\n",
        "𝑡\n",
        "=∑\n",
        "(\n",
        "𝑌\n",
        "𝑖\n",
        "−\n",
        "𝑌\n",
        "ˉ\n",
        ")\n",
        "2→ Total variation in Y\n",
        "\n",
        "Purpose:\n",
        "\n",
        "To show how well the model fits the data.\n",
        "\n",
        "It tells us the proportion of the variance in the dependent variable that can be explained by the independent variable(s)."
      ],
      "metadata": {
        "id": "rpq0ybYpb1S9"
      }
    },
    {
      "cell_type": "markdown",
      "source": [
        "**Question 9:** Write Python code to fit a simple linear regression model using scikit-learn and print the slope and intercept.\n",
        "\n",
        "(Include your Python code and output in the code box below.)\n"
      ],
      "metadata": {
        "id": "wpOB2iJxf7zg"
      }
    },
    {
      "cell_type": "code",
      "source": [
        "# Import necessary libraries\n",
        "import numpy as np\n",
        "from sklearn.linear_model import LinearRegression\n",
        "\n",
        "# Sample data\n",
        "# X = independent variable (e.g., hours studied)\n",
        "# Y = dependent variable (e.g., exam score)\n",
        "X = np.array([1, 2, 3, 4, 5]).reshape(-1, 1)\n",
        "Y = np.array([2, 4, 5, 4, 5])\n",
        "\n",
        "# Create and fit the model\n",
        "model = LinearRegression()\n",
        "model.fit(X, Y)\n",
        "\n",
        "# Print slope and intercept\n",
        "print(\"Slope (b):\", model.coef_[0])\n",
        "print(\"Intercept (a):\", model.intercept_)\n",
        "\n",
        "# P\n"
      ],
      "metadata": {
        "id": "-GjUDTPNgGoh"
      },
      "execution_count": null,
      "outputs": []
    },
    {
      "cell_type": "markdown",
      "source": [
        "**Question 10:** How do you interpret the coefficients in a simple linear regression model?\n",
        "\n"
      ],
      "metadata": {
        "id": "UwZUHz7jgN4J"
      }
    },
    {
      "cell_type": "markdown",
      "source": [
        "**Answer:** In a Simple Linear Regression model, the equation is:\n",
        "\n",
        "𝑌\n",
        "=𝑎\n",
        "+\n",
        "𝑏\n",
        "𝑋\n",
        "+\n",
        "𝑒\n",
        "\n",
        "\n",
        "Where:\n",
        "\n",
        "- Y = Dependent variable (what you’re trying to predict)\n",
        "\n",
        "- X = Independent variable (the predictor)\n",
        "\n",
        "- a = Intercept\n",
        "\n",
        "- b = Slope (coefficient of X)\n",
        "\n",
        "- e = Error term\n",
        "\n",
        "1. Intercept (a)\n",
        "\n",
        "- The intercept represents the predicted value of Y when X = 0.\n",
        "\n",
        "- It’s the point where the regression line crosses the Y-axis.\n",
        "\n",
        "- Interpretation depends on context—sometimes it makes sense, sometimes it doesn’t (for example, when X = 0 is outside the data range).\n",
        "\n",
        "Example:\n",
        "If the regression equation for exam scores is\n",
        "\n",
        "Score\n",
        "=25\n",
        "+\n",
        "5\n",
        "𝑋\n",
        "\n",
        "then when study hours (X) = 0, the predicted score (Y) = 25. It means a student who doesn’t study at all might still score around 25 marks.\n",
        "\n",
        "2. Slope (b)\n",
        "\n",
        "- The slope shows how much Y changes for every one-unit change in X.\n",
        "\n",
        "- It tells you the direction and strength of the relationship:\n",
        "\n",
        "- b > 0 → positive relationship (Y increases as X increases)\n",
        "\n",
        "- b < 0 → negative relationship (Y decreases as X increases)\n",
        "\n",
        "Example:\n",
        "From the same equation,\n",
        "\n",
        "Score\n",
        "=25\n",
        "+\n",
        "5\n",
        "𝑋\n",
        "\n",
        "the slope (b = 5) means that for every 1 additional hour of study, the exam score increases by 5 points on average."
      ],
      "metadata": {
        "id": "8RlQyScigX8y"
      }
    }
  ],
  "metadata": {
    "colab": {
      "provenance": []
    },
    "kernelspec": {
      "display_name": "Python 3",
      "name": "python3"
    }
  },
  "nbformat": 4,
  "nbformat_minor": 0
}