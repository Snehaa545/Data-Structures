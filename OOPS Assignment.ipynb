{
  "cells": [
    {
      "cell_type": "markdown",
      "source": [
        "#Python OOPs Questions"
      ],
      "metadata": {
        "id": "gQDmddREFkVH"
      }
    },
    {
      "cell_type": "markdown",
      "source": [
        "###Question1. What is Object-Oriented Programming (OOP)?\n",
        "\n",
        "Answer:- Object-Oriented Programming is a programming paradigm that structures programs around objects, which are instances of classes. OOP focuses on four main principles:\n",
        "\n",
        "- Encapsulation\n",
        "\n",
        "- Abstraction\n",
        "\n",
        "- Inheritance\n",
        "\n",
        "- Polymorphism"
      ],
      "metadata": {
        "id": "A9coK6QWFtxq"
      }
    },
    {
      "cell_type": "markdown",
      "source": [
        "###Question2. What is a class in OOP?\n",
        "\n",
        "\n",
        "Answer:- A class is a blueprint for creating objects. It defines properties (attributes) and behaviors (methods) that the created objects will have."
      ],
      "metadata": {
        "id": "mKr9DLLKGmyI"
      }
    },
    {
      "cell_type": "code",
      "source": [
        "class Car:\n",
        "    def __init__(self, brand, color):\n",
        "        self.brand = brand\n",
        "        self.color = color\n",
        "\n",
        "    def drive(self):\n",
        "        print(\"Car is driving\")"
      ],
      "metadata": {
        "id": "g8tRAVZVHvdL"
      },
      "execution_count": 1,
      "outputs": []
    },
    {
      "cell_type": "markdown",
      "source": [
        "###Question3. What is an object in OOP?\n",
        "\n",
        "\n",
        "Answer:- An object is an instance of a class. It contains real values and can use class methods."
      ],
      "metadata": {
        "id": "ebNXQ3ljHa7_"
      }
    },
    {
      "cell_type": "code",
      "source": [
        "my_car = Car(\"Toyota\", \"Red\")\n",
        "my_car.drive()  # Output: Car is driving"
      ],
      "metadata": {
        "id": "kpwOthD9Huqg"
      },
      "execution_count": null,
      "outputs": []
    },
    {
      "cell_type": "markdown",
      "source": [
        "###Question4. What is the difference between abstraction and encapsulation?\n",
        "\n",
        "\n",
        "Answer:- Abstraction and encapsulation are two fundamental concepts in object-oriented programming (OOP), and while they're related, they serve different puroses.\n",
        "\n",
        "**Abstraction**:- Abstraction is the process of hiding complex implementation details and showing only the essential features of an object.\n",
        "\n",
        "**Encapsulation**:- Encapsulation is the technique of bundling data (variables) and the methods that operate on that data into a single unit\n",
        "(class), and restricting access to some of the object's components."
      ],
      "metadata": {
        "id": "CJoLz55tH5bH"
      }
    },
    {
      "cell_type": "markdown",
      "source": [
        "###Question5. What are dunder methods in Python?\n",
        "\n",
        "\n",
        "Answer:- Dunder (double underscore) methods are special methods in Python with names like __init__, __str__, __len__, etc.\n",
        "\n",
        "They enable operator overloading and customization of object behavior."
      ],
      "metadata": {
        "id": "9WSBUwz-PH0E"
      }
    },
    {
      "cell_type": "code",
      "source": [
        "class Book:\n",
        "    def __init__(self, title):\n",
        "        self.title = title\n",
        "\n",
        "    def __str__(self):\n",
        "        return f\"Book title: {self.title}\"\n",
        "\n",
        "b = Book(\"Python\")\n",
        "print(b)  # Output: Book title: Python\n"
      ],
      "metadata": {
        "id": "hMH6LmUyQTyw"
      },
      "execution_count": null,
      "outputs": []
    },
    {
      "cell_type": "markdown",
      "source": [
        "###Question6. Explain the concept of inheritance in OOP.\n",
        "\n",
        "\n",
        "Answer:- Inheritance allows a class (child) to inherit methods and properties from another class (parent).\n"
      ],
      "metadata": {
        "id": "BCa9NVOgRBl6"
      }
    },
    {
      "cell_type": "code",
      "source": [
        "class Animal:\n",
        "    def speak(self):\n",
        "        print(\"Animal speaks\")\n",
        "\n",
        "class Dog(Animal):\n",
        "    def bark(self):\n",
        "        print(\"Dog barks\")\n",
        "\n",
        "d = Dog()\n",
        "d.speak()  # Inherited method\n",
        "d.bark()\n"
      ],
      "metadata": {
        "id": "3qem66BrRShi"
      },
      "execution_count": null,
      "outputs": []
    },
    {
      "cell_type": "markdown",
      "source": [
        "###Question7.  What is polymorphism in OOP?\n",
        "\n",
        "\n",
        "Answer:- Polymorphism allows different classes to define methods with the same name, but with different behavior."
      ],
      "metadata": {
        "id": "yjAHNbScRXmY"
      }
    },
    {
      "cell_type": "markdown",
      "source": [
        "###Question8. How is encapsulation achieved in Python?\n",
        "\n",
        "\n",
        "Answer:- Encapsulation is done by using private variables and getter/setter methods."
      ],
      "metadata": {
        "id": "z-mcYV_OS4Cu"
      }
    },
    {
      "cell_type": "code",
      "source": [
        "class Person:\n",
        "    def __init__(self, name):\n",
        "        self.__name = name  # private variable\n",
        "\n",
        "    def get_name(self):\n",
        "        return self.__name\n",
        "\n",
        "    def set_name(self, name):\n",
        "        self.__name = name\n"
      ],
      "metadata": {
        "id": "nGJP9fKxU50P"
      },
      "execution_count": null,
      "outputs": []
    },
    {
      "cell_type": "markdown",
      "source": [
        "###Question9.  What is a constructor in Python?\n",
        "\n",
        "\n",
        "Answer:- A constructor is a special method __init__() that is called when an object is created."
      ],
      "metadata": {
        "id": "7-oCQbjTU707"
      }
    },
    {
      "cell_type": "code",
      "source": [
        "class Student:\n",
        "    def __init__(self, name):\n",
        "        self.name = name\n"
      ],
      "metadata": {
        "id": "dYujEu1VVMC-"
      },
      "execution_count": null,
      "outputs": []
    },
    {
      "cell_type": "markdown",
      "source": [
        "###Question10. What are class and static methods in Python?\n",
        "\n",
        "\n",
        "Answer:-\n",
        "- **Class Method**: Works with class-level data. Defined using @classmethod.\n",
        "\n",
        "- **Static Method**: Does not access class or instance data. Defined using @staticmethod."
      ],
      "metadata": {
        "id": "Zs01hcG-VPqs"
      }
    },
    {
      "cell_type": "code",
      "source": [
        "class Math:\n",
        "    @classmethod\n",
        "    def greet(cls):\n",
        "        print(\"Hello from class method\")\n",
        "\n",
        "    @staticmethod\n",
        "    def add(x, y):\n",
        "        return x + y\n"
      ],
      "metadata": {
        "id": "rFw9bRxRWF1N"
      },
      "execution_count": null,
      "outputs": []
    },
    {
      "cell_type": "markdown",
      "source": [
        "###Question11. What is method overloading in Python?\n",
        "\n",
        "\n",
        "Answer:- Python does not support method overloading like Java/C++. But you can mimic it using default parameters:"
      ],
      "metadata": {
        "id": "uJmC0UIPWHa-"
      }
    },
    {
      "cell_type": "code",
      "source": [
        "class Demo:\n",
        "    def show(self, a=None, b=None):\n",
        "        if a and b:\n",
        "            print(a, b)\n",
        "        elif a:\n",
        "            print(a)\n",
        "        else:\n",
        "            print(\"No arguments\")\n"
      ],
      "metadata": {
        "id": "H8W_tWPxYPxR"
      },
      "execution_count": null,
      "outputs": []
    },
    {
      "cell_type": "markdown",
      "source": [
        "###Question12. What is method overriding in OOP?\n",
        "\n",
        "\n",
        "Answer:- Method Overriding means:\n",
        "\n",
        "A child class provides a specific implementation of a method that is already defined in its parent class.\n",
        "\n",
        "This is a key feature of run-time polymorphism in object-oriented programming."
      ],
      "metadata": {
        "id": "KRnifPSCYRVw"
      }
    },
    {
      "cell_type": "code",
      "source": [
        "class Parent:\n",
        "    def show(self):\n",
        "        print(\"Parent\")\n",
        "\n",
        "class Child(Parent):\n",
        "    def show(self):\n",
        "        print(\"Child\")\n",
        "\n",
        "c = Child()\n",
        "c.show()  # Output: Child\n"
      ],
      "metadata": {
        "colab": {
          "base_uri": "https://localhost:8080/"
        },
        "id": "hSoSXLSLZh-O",
        "outputId": "2f742c1f-cc70-46c2-f655-7d233c6cb7f2"
      },
      "execution_count": 2,
      "outputs": [
        {
          "output_type": "stream",
          "name": "stdout",
          "text": [
            "Child\n"
          ]
        }
      ]
    },
    {
      "cell_type": "markdown",
      "source": [
        "###Question13. What is a property decorator in Python?\n",
        "\n",
        "\n",
        "Answer:- The property decorator in Python is used to turn a method into a \"read-only\" attribute. It allows controlled access to private data using a method, but accessed like an attribute — without parentheses."
      ],
      "metadata": {
        "id": "UxACsXHqZpwd"
      }
    },
    {
      "cell_type": "code",
      "source": [
        "class Person:\n",
        "    def __init__(self, name):\n",
        "        self._name = name\n",
        "\n",
        "    @property\n",
        "    def name(self):\n",
        "        return self._name\n",
        "\n",
        "    @name.setter\n",
        "    def name(self, value):\n",
        "        self._name = value\n"
      ],
      "metadata": {
        "id": "wH4_J0q-azbX"
      },
      "execution_count": null,
      "outputs": []
    },
    {
      "cell_type": "markdown",
      "source": [
        "###Question14. Why is polymorphism important in OOP?\n",
        "\n",
        "\n",
        "Answer:- Polymorphism allows objects of different classes to be treated as objects of a common superclass. It lets the same method name or interface produce different behaviors based on the object."
      ],
      "metadata": {
        "id": "hu6qadvgbYdj"
      }
    },
    {
      "cell_type": "markdown",
      "source": [
        "###Question15. What is an abstract class in Python?\n",
        "\n",
        "\n",
        "Answer:- An abstract class is a class that cannot be instantiated on its own.\n",
        "It is meant to be inherited by other classes, and it often contains one or more abstract methods — methods that have no implementation in the base class."
      ],
      "metadata": {
        "id": "QNdoFC7kfFEV"
      }
    },
    {
      "cell_type": "markdown",
      "source": [
        "###Question16. What are the advantages of OOP?\n",
        "\n",
        "\n",
        "Answer:- Object-Oriented Programming offers several powerful benefits that make code easier to write, maintain, reuse, and scale. Here are the key advantages:\n",
        "\n",
        "**1. Modularity**\n",
        "- Code is organized into classes and objects.\n",
        "\n",
        "**2. Reusability**\n",
        "- Inheritance allows you to reuse code from existing classes.\n",
        "\n",
        "**3. Scalability and Maintainability**\n",
        "- Easier to add new features without affecting existing code.\n",
        "\n",
        "**4. Encapsulation**\n",
        "- Internal details of objects are hidden from the outside.\n",
        "\n",
        "**5. Flexibility through Polymorphism**\n",
        "- You can use the same method name in different classes.\n",
        "\n",
        "**6. Improved Code Readability**\n",
        "- Clear structure using classes and objects makes the code easier to understand.\n",
        "\n",
        "**7. Abstraction**\n",
        "- Hides complex implementation details from the user.\n",
        "\n",
        "**8. Real-World Mapping**\n",
        "- OOP mirrors real-world entities (like Car, Employee, BankAccount).\n",
        "\n",
        "**9. Security**\n",
        "- Encapsulation and access modifiers (private, protected) protect the data.\n",
        "\n",
        "**10. Collaboration and Team Development**\n",
        "- Classes and objects allow multiple developers to work on different parts of a project independently."
      ],
      "metadata": {
        "id": "WXE-rO9HhOBY"
      }
    },
    {
      "cell_type": "markdown",
      "source": [
        "###Question17. What is the difference between a class variable and an instance variable?\n",
        "\n",
        "\n",
        "Answer:-  **Class Variable**\n",
        "- Defined at the class level (inside the class, but outside any instance methods).\n",
        "\n",
        "- Shared by all instances of the class.\n",
        "\n",
        "- If modified by one instance, the change reflects for all instances (unless overridden).\n",
        "\n",
        "**Instance Variable**\n",
        "- Defined inside the __init__ method using self.\n",
        "\n",
        "- Unique to each instance.\n",
        "\n",
        "- Changes affect only that specific object."
      ],
      "metadata": {
        "id": "yGF-gepJn-S_"
      }
    },
    {
      "cell_type": "markdown",
      "source": [
        "###Question18. What is multiple inheritance in Python?\n",
        "\n",
        "\n",
        "Answer:- Multiple Inheritance means a class can inherit from more than one parent class."
      ],
      "metadata": {
        "id": "b9MtQcfI8sAn"
      }
    },
    {
      "cell_type": "code",
      "source": [
        "#syntax\n",
        "class Parent1:\n",
        "    pass\n",
        "\n",
        "class Parent2:\n",
        "    pass\n",
        "\n",
        "class Child(Parent1, Parent2):\n",
        "    pass\n",
        "#The Child class inherits attributes and methods from both Parent1 and Parent2."
      ],
      "metadata": {
        "id": "Q6-J20R79xT8"
      },
      "execution_count": null,
      "outputs": []
    },
    {
      "cell_type": "markdown",
      "source": [
        "###Question19. Explain the purpose of ‘’__str__’ and ‘__repr__’ ‘ methods in Python.\n",
        "\n",
        "\n",
        "Answer:- Both __str__() and __repr__() are special methods used to define how an object should be represented as a string. They are called when you use print() or inspect the object.\n",
        "\n",
        "__str__(self) — User-Friendly String Representation\n",
        "\n",
        "- Called by print() or str(obj)\n",
        "\n",
        "- Used to return a readable, user-facing description\n",
        "\n",
        "- Should be easy to read and describe the object nicely"
      ],
      "metadata": {
        "id": "9ociCMyw-IEX"
      }
    },
    {
      "cell_type": "markdown",
      "source": [
        "###Question20. What is the significance of the ‘super()’ function in Python?\n",
        "\n",
        "\n",
        "Answer:- The super() function is used to call a method from a parent (or superclass) in a child class. It is especially helpful in inheritance, when a subclass overrides a method and still wants to reuse the functionality of the parent class."
      ],
      "metadata": {
        "id": "NW9iKVcN_A6-"
      }
    },
    {
      "cell_type": "markdown",
      "source": [
        "###Question21. What is the significance of the __del__ method in Python?\n",
        "\n",
        "\n",
        "Answer:- The __del__() method in Python is a special method known as a destructor.\n",
        "It is called automatically when an object is about to be destroyed (i.e., when there are no more references to it).\n",
        "\n",
        "**Purpose of __del__**\n",
        "- To clean up resources when an object is deleted.\n",
        "\n",
        "- To perform final actions like:\n",
        "\n",
        "- Closing files\n",
        "\n",
        "- Releasing network connections\n",
        "\n",
        "- Logging destruction\n",
        "\n",
        "- Freeing up memory (in some complex custom cases)"
      ],
      "metadata": {
        "id": "4QMSN8wGAEc5"
      }
    },
    {
      "cell_type": "markdown",
      "source": [
        "###Question22. What is the difference between @staticmethod and @classmethod in Python?\n",
        "\n",
        "\n",
        "Answer:- Both @staticmethod and @classmethod are decorators used to define methods that behave differently from regular instance methods. The key difference is how they access the class or instance.\n",
        "\n",
        "🔹 **1. @staticmethod**\n",
        "- Does not take self or cls as the first argument.\n",
        "\n",
        "- Doesn't access class or instance attributes.\n",
        "\n",
        "🔹 **2. @classmethod**\n",
        "- Takes cls as the first argument (refers to the class itself).\n",
        "\n",
        "- Can access and modify class-level attributes."
      ],
      "metadata": {
        "id": "D1IrD7Y0Ar7H"
      }
    },
    {
      "cell_type": "markdown",
      "source": [
        "###Question23.  How does polymorphism work in Python with inheritance?\n",
        "\n",
        "\n",
        "Answer:- Polymorphism in Python means \"many forms.\" It allows different classes to be treated as if they are the same type, as long as they implement the same method or interface.\n",
        "\n",
        "In the context of inheritance, polymorphism allows a child class to override methods from the parent class and still be used in the same way as the parent."
      ],
      "metadata": {
        "id": "ucTf9KcPBg9o"
      }
    },
    {
      "cell_type": "markdown",
      "source": [
        "###Question24. What is method chaining in Python OOP?\n",
        "\n",
        "\n",
        " Answer:- Method chaining is a technique in Object-Oriented Programming (OOP) where multiple method calls are made on the same object in a single line, one after the other."
      ],
      "metadata": {
        "id": "2tLIpTAPB9ui"
      }
    },
    {
      "cell_type": "markdown",
      "source": [
        "###Question25. What is the purpose of the __call__ method in Python?\n",
        "\n",
        "\n",
        "Answer:- The __call__ method makes an object behave like a function.\n",
        "\n",
        "**Purpose of __call__:**\n",
        "- It lets you use objects like functions.\n",
        "\n",
        "- It makes your class instances more flexible and functional.\n",
        "\n",
        "- It's often used in function wrappers, decorators, stateful computations, or when designing function objects (also known as functors)."
      ],
      "metadata": {
        "id": "63SsRkQQCNdx"
      }
    },
    {
      "cell_type": "markdown",
      "source": [
        "#Practical Questions"
      ],
      "metadata": {
        "id": "YYFxzOS3C4aI"
      }
    },
    {
      "cell_type": "markdown",
      "source": [
        "###Question1. Create a parent class Animal with a method speak() that prints a generic message. Create a child class Dog that overrides the speak() method to print \"Bark!\"."
      ],
      "metadata": {
        "id": "Dm8X1gCbDIXd"
      }
    },
    {
      "cell_type": "code",
      "source": [
        "# Parent class\n",
        "class Animal:\n",
        "    def speak(self):\n",
        "        print(\"The animal makes a sound.\")\n",
        "\n",
        "# Child class that overrides speak()\n",
        "class Dog(Animal):\n",
        "    def speak(self):\n",
        "        print(\"Bark!\")\n",
        "\n",
        "# Test\n",
        "a = Animal()\n",
        "a.speak()  # Output: The animal makes a sound.\n",
        "\n",
        "d = Dog()\n",
        "d.speak()  # Output: Bark!\n"
      ],
      "metadata": {
        "colab": {
          "base_uri": "https://localhost:8080/"
        },
        "id": "pK_Z44LuFJzl",
        "outputId": "9f13f4e2-da52-4356-b94d-740909920750"
      },
      "execution_count": 1,
      "outputs": [
        {
          "output_type": "stream",
          "name": "stdout",
          "text": [
            "The animal makes a sound.\n",
            "Bark!\n"
          ]
        }
      ]
    },
    {
      "cell_type": "markdown",
      "source": [
        "###Question2. Write a program to create an abstract class Shape with a method area(). Derive classes Circle and Rectangle from it and implement the area() method in both.\n"
      ],
      "metadata": {
        "id": "chcxWW52Fe8S"
      }
    },
    {
      "cell_type": "code",
      "source": [
        "from abc import ABC, abstractmethod\n",
        "import math\n",
        "\n",
        "# Abstract base class\n",
        "class Shape(ABC):\n",
        "\n",
        "    @abstractmethod\n",
        "    def area(self):\n",
        "        pass  # Abstract method (no implementation here)\n",
        "\n",
        "# Derived class: Circle\n",
        "class Circle(Shape):\n",
        "    def __init__(self, radius):\n",
        "        self.radius = radius\n",
        "\n",
        "    def area(self):\n",
        "        return math.pi * self.radius ** 2\n",
        "\n",
        "# Derived class: Rectangle\n",
        "class Rectangle(Shape):\n",
        "    def __init__(self, length, width):\n",
        "        self.length = length\n",
        "        self.width = width\n",
        "\n",
        "    def area(self):\n",
        "        return self.length * self.width\n",
        "\n",
        "# Test\n",
        "c = Circle(5)\n",
        "r = Rectangle(4, 6)\n",
        "\n",
        "print(f\"Circle area: {c.area():.2f}\")       # Output: Circle area: 78.54\n",
        "print(f\"Rectangle area: {r.area():.2f}\")   # Output: Rectangle area: 24.00\n"
      ],
      "metadata": {
        "colab": {
          "base_uri": "https://localhost:8080/"
        },
        "id": "yFOIHbvoFLOC",
        "outputId": "03a54490-1a0c-47a3-da7a-01b7d5359b87"
      },
      "execution_count": 2,
      "outputs": [
        {
          "output_type": "stream",
          "name": "stdout",
          "text": [
            "Circle area: 78.54\n",
            "Rectangle area: 24.00\n"
          ]
        }
      ]
    },
    {
      "cell_type": "markdown",
      "source": [
        "###QUestion3. Implement a multi-level inheritance scenario where a class Vehicle has an attribute type. Derive a class Car and further derive a class ElectricCar that adds a battery attribute."
      ],
      "metadata": {
        "id": "rG3IoexGF42R"
      }
    },
    {
      "cell_type": "code",
      "source": [
        "# Base class\n",
        "class Vehicle:\n",
        "    def __init__(self, vehicle_type):\n",
        "        self.vehicle_type = vehicle_type\n",
        "\n",
        "    def show_type(self):\n",
        "        print(f\"Vehicle Type: {self.vehicle_type}\")\n",
        "\n",
        "# First derived class\n",
        "class Car(Vehicle):\n",
        "    def __init__(self, vehicle_type, brand):\n",
        "        super().__init__(vehicle_type)\n",
        "        self.brand = brand\n",
        "\n",
        "    def show_brand(self):\n",
        "        print(f\"Car Brand: {self.brand}\")\n",
        "\n",
        "# Second derived class (multi-level)\n",
        "class ElectricCar(Car):\n",
        "    def __init__(self, vehicle_type, brand, battery_capacity):\n",
        "        super().__init__(vehicle_type, brand)\n",
        "        self.battery_capacity = battery_capacity\n",
        "\n",
        "    def show_battery(self):\n",
        "        print(f\"Battery Capacity: {self.battery_capacity} kWh\")\n",
        "\n",
        "# Test\n",
        "e_car = ElectricCar(\"Four Wheeler\", \"Tesla\", 85)\n",
        "\n",
        "e_car.show_type()      # Output: Vehicle Type: Four Wheeler\n",
        "e_car.show_brand()     # Output: Car Brand: Tesla\n",
        "e_car.show_battery()   # Output: Battery Capacity: 85 kWh\n"
      ],
      "metadata": {
        "colab": {
          "base_uri": "https://localhost:8080/"
        },
        "id": "OTRt3J5iF3lm",
        "outputId": "7964af76-b306-4aa2-ff0e-5c7aaa4e0b37"
      },
      "execution_count": 3,
      "outputs": [
        {
          "output_type": "stream",
          "name": "stdout",
          "text": [
            "Vehicle Type: Four Wheeler\n",
            "Car Brand: Tesla\n",
            "Battery Capacity: 85 kWh\n"
          ]
        }
      ]
    },
    {
      "cell_type": "markdown",
      "source": [
        "###Question4.  Demonstrate polymorphism by creating a base class Bird with a method fly(). Create two derived classes Sparrow and Penguin that override the fly() method."
      ],
      "metadata": {
        "id": "Xjkz2TLJGTFo"
      }
    },
    {
      "cell_type": "code",
      "source": [
        "# Base class\n",
        "class Bird:\n",
        "    def fly(self):\n",
        "        print(\"Some birds can fly.\")\n",
        "\n",
        "# Derived class 1\n",
        "class Sparrow(Bird):\n",
        "    def fly(self):\n",
        "        print(\"Sparrow flies high in the sky.\")\n",
        "\n",
        "# Derived class 2\n",
        "class Penguin(Bird):\n",
        "    def fly(self):\n",
        "        print(\"Penguins can't fly, they swim.\")\n",
        "\n",
        "# Function that demonstrates polymorphism\n",
        "def make_bird_fly(bird):\n",
        "    bird.fly()  # The correct fly() method is called based on object type\n",
        "\n",
        "# Test\n",
        "b1 = Sparrow()\n",
        "b2 = Penguin()\n",
        "\n",
        "make_bird_fly(b1)  # Output: Sparrow flies high in the sky.\n",
        "make_bird_fly(b2)  # Output: Penguins can't fly, they swim.\n"
      ],
      "metadata": {
        "colab": {
          "base_uri": "https://localhost:8080/"
        },
        "id": "W8SsVMDtGRs9",
        "outputId": "27525dad-2e28-4805-c92f-222f70b81d57"
      },
      "execution_count": 4,
      "outputs": [
        {
          "output_type": "stream",
          "name": "stdout",
          "text": [
            "Sparrow flies high in the sky.\n",
            "Penguins can't fly, they swim.\n"
          ]
        }
      ]
    },
    {
      "cell_type": "markdown",
      "source": [
        "###Question5. Write a program to demonstrate encapsulation by creating a class BankAccount with private attributes balance and methods to deposit, withdraw, and check balance."
      ],
      "metadata": {
        "id": "yBjPVEkDHZHC"
      }
    },
    {
      "cell_type": "code",
      "source": [
        "class BankAccount:\n",
        "    def __init__(self, initial_balance=0):\n",
        "        self.__balance = initial_balance  # private attribute\n",
        "\n",
        "    # Method to deposit money\n",
        "    def deposit(self, amount):\n",
        "        if amount > 0:\n",
        "            self.__balance += amount\n",
        "            print(f\"Deposited ₹{amount}\")\n",
        "        else:\n",
        "            print(\"Deposit amount must be positive.\")\n",
        "\n",
        "    # Method to withdraw money\n",
        "    def withdraw(self, amount):\n",
        "        if 0 < amount <= self.__balance:\n",
        "            self.__balance -= amount\n",
        "            print(f\"Withdrew ₹{amount}\")\n",
        "        else:\n",
        "            print(\"Insufficient balance or invalid amount.\")\n",
        "\n",
        "    # Method to check balance\n",
        "    def check_balance(self):\n",
        "        print(f\"Current Balance: ₹{self.__balance}\")\n",
        "\n",
        "# Test the class\n",
        "account = BankAccount(1000)\n",
        "account.check_balance()    # Output: Current Balance: ₹1000\n",
        "account.deposit(500)       # Output: Deposited ₹500\n",
        "account.withdraw(300)      # Output: Withdrew ₹300\n",
        "account.check_balance()    # Output: Current Balance: ₹1200\n",
        "\n",
        "# Trying to access private attribute (not recommended)\n",
        "# print(account.__balance)  # AttributeError\n",
        "\n",
        "# Correct way (not advised in practice):\n",
        "# print(account._BankAccount__balance)  # Shows 1200\n"
      ],
      "metadata": {
        "colab": {
          "base_uri": "https://localhost:8080/"
        },
        "id": "3c6R9uyZHV4o",
        "outputId": "a63e4ebd-f59a-426a-e3d8-a345b22ae432"
      },
      "execution_count": 5,
      "outputs": [
        {
          "output_type": "stream",
          "name": "stdout",
          "text": [
            "Current Balance: ₹1000\n",
            "Deposited ₹500\n",
            "Withdrew ₹300\n",
            "Current Balance: ₹1200\n"
          ]
        }
      ]
    },
    {
      "cell_type": "markdown",
      "source": [
        "###QUestion6.  Demonstrate runtime polymorphism using a method play() in a base class Instrument. Derive classes Guitar and Piano that implement their own version of play()."
      ],
      "metadata": {
        "id": "4krS3GwKHnMR"
      }
    },
    {
      "cell_type": "code",
      "source": [
        "# Base class\n",
        "class Instrument:\n",
        "    def play(self):\n",
        "        print(\"Instrument is playing a sound.\")\n",
        "\n",
        "# Derived class: Guitar\n",
        "class Guitar(Instrument):\n",
        "    def play(self):\n",
        "        print(\"Guitar is strumming.\")\n",
        "\n",
        "# Derived class: Piano\n",
        "class Piano(Instrument):\n",
        "    def play(self):\n",
        "        print(\"Piano is playing notes.\")\n",
        "\n",
        "# Function that accepts any Instrument object\n",
        "def play_music(instrument):\n",
        "    instrument.play()  # Runtime decides which class's play() to call\n",
        "\n",
        "# Test\n",
        "inst1 = Guitar()\n",
        "inst2 = Piano()\n",
        "\n",
        "play_music(inst1)   # Output: Guitar is strumming.\n",
        "play_music(inst2)   # Output: Piano is playing notes.\n"
      ],
      "metadata": {
        "colab": {
          "base_uri": "https://localhost:8080/"
        },
        "id": "QVwXEjqMHl4H",
        "outputId": "28b586be-9c93-403e-d0fe-5d6a3f4613a4"
      },
      "execution_count": 6,
      "outputs": [
        {
          "output_type": "stream",
          "name": "stdout",
          "text": [
            "Guitar is strumming.\n",
            "Piano is playing notes.\n"
          ]
        }
      ]
    },
    {
      "cell_type": "markdown",
      "source": [
        "###Question7.  Create a class MathOperations with a class method add_numbers() to add two numbers and a static method subtract_numbers() to subtract two numbers."
      ],
      "metadata": {
        "id": "AWX8iY_nH7qu"
      }
    },
    {
      "cell_type": "code",
      "source": [
        "class MathOperations:\n",
        "    # Class method to add two numbers\n",
        "    @classmethod\n",
        "    def add_numbers(cls, a, b):\n",
        "        return a + b\n",
        "\n",
        "    # Static method to subtract two numbers\n",
        "    @staticmethod\n",
        "    def subtract_numbers(a, b):\n",
        "        return a - b\n",
        "\n",
        "# Test\n",
        "print(\"Addition:\", MathOperations.add_numbers(10, 5))     # Output: 15\n",
        "print(\"Subtraction:\", MathOperations.subtract_numbers(10, 5))  # Output: 5\n"
      ],
      "metadata": {
        "colab": {
          "base_uri": "https://localhost:8080/"
        },
        "id": "OdIGNgHzIR0X",
        "outputId": "1f1f7371-1f66-40d2-a4d9-94e5797334ae"
      },
      "execution_count": 7,
      "outputs": [
        {
          "output_type": "stream",
          "name": "stdout",
          "text": [
            "Addition: 15\n",
            "Subtraction: 5\n"
          ]
        }
      ]
    },
    {
      "cell_type": "markdown",
      "source": [
        "###Question8. Implement a class Person with a class method to count the total number of persons created."
      ],
      "metadata": {
        "id": "cSoJHYpBIZfy"
      }
    },
    {
      "cell_type": "code",
      "source": [
        "class Person:\n",
        "    count = 0  # Class variable to track the number of Person instances\n",
        "\n",
        "    def __init__(self, name):\n",
        "        self.name = name\n",
        "        Person.count += 1  # Increment count whenever a new object is created\n",
        "\n",
        "    @classmethod\n",
        "    def total_persons(cls):\n",
        "        return cls.count  # Return the total count of Person objects\n",
        "\n",
        "# Test\n",
        "p1 = Person(\"Sneha\")\n",
        "p2 = Person(\"Amit\")\n",
        "p3 = Person(\"Ravi\")\n",
        "\n",
        "print(\"Total persons created:\", Person.total_persons())  # Output: 3\n"
      ],
      "metadata": {
        "colab": {
          "base_uri": "https://localhost:8080/"
        },
        "id": "JTwlty2vIXxl",
        "outputId": "3bd5d1dd-00b4-471d-a6ff-eecbae6608e2"
      },
      "execution_count": 8,
      "outputs": [
        {
          "output_type": "stream",
          "name": "stdout",
          "text": [
            "Total persons created: 3\n"
          ]
        }
      ]
    },
    {
      "cell_type": "markdown",
      "source": [
        "###Question9.  Write a class Fraction with attributes numerator and denominator. Override the str method to display the fraction as \"numerator/denominator\"."
      ],
      "metadata": {
        "id": "aBigN3RfI9DV"
      }
    },
    {
      "cell_type": "code",
      "source": [
        "class Fraction:\n",
        "    def __init__(self, numerator, denominator):\n",
        "        self.numerator = numerator\n",
        "        self.denominator = denominator\n",
        "\n",
        "    def __str__(self):\n",
        "        return f\"{self.numerator}/{self.denominator}\"\n",
        "\n",
        "# Test\n",
        "f1 = Fraction(3, 4)\n",
        "f2 = Fraction(5, 8)\n",
        "\n",
        "print(f1)  # Output: 3/4\n",
        "print(f2)  # Output: 5/8\n"
      ],
      "metadata": {
        "colab": {
          "base_uri": "https://localhost:8080/"
        },
        "id": "OprWQHidH6Zu",
        "outputId": "ab58547a-a9e7-4785-be3e-fffcccc340aa"
      },
      "execution_count": 9,
      "outputs": [
        {
          "output_type": "stream",
          "name": "stdout",
          "text": [
            "3/4\n",
            "5/8\n"
          ]
        }
      ]
    },
    {
      "cell_type": "markdown",
      "source": [
        "###Question10. Demonstrate operator overloading by creating a class Vector and overriding the add method to add two vectors."
      ],
      "metadata": {
        "id": "PgXT_nadJOK6"
      }
    },
    {
      "cell_type": "code",
      "source": [
        "class Vector:\n",
        "    def __init__(self, x, y):\n",
        "        self.x = x\n",
        "        self.y = y\n",
        "\n",
        "    # Overload the + operator\n",
        "    def __add__(self, other):\n",
        "        return Vector(self.x + other.x, self.y + other.y)\n",
        "\n",
        "    # String representation for easy printing\n",
        "    def __str__(self):\n",
        "        return f\"({self.x}, {self.y})\"\n",
        "\n",
        "# Test\n",
        "v1 = Vector(2, 3)\n",
        "v2 = Vector(4, 5)\n",
        "v3 = v1 + v2  # Calls v1.__add__(v2)\n",
        "\n",
        "print(\"Vector 1:\", v1)  # Output: (2, 3)\n",
        "print(\"Vector 2:\", v2)  # Output: (4, 5)\n",
        "print(\"Sum:\", v3)       # Output: (6, 8)\n"
      ],
      "metadata": {
        "colab": {
          "base_uri": "https://localhost:8080/"
        },
        "id": "W6HIwwmEJNGH",
        "outputId": "c5e9a78b-f0dc-443a-aed7-036daf03f93f"
      },
      "execution_count": 10,
      "outputs": [
        {
          "output_type": "stream",
          "name": "stdout",
          "text": [
            "Vector 1: (2, 3)\n",
            "Vector 2: (4, 5)\n",
            "Sum: (6, 8)\n"
          ]
        }
      ]
    },
    {
      "cell_type": "markdown",
      "source": [
        "###Question11. Create a class Person with attributes name and age. Add a method greet() that prints \"Hello, my name is {name} and I am {age} years old.\""
      ],
      "metadata": {
        "id": "s4T5ZRtOJeTr"
      }
    },
    {
      "cell_type": "code",
      "source": [
        "class Person:\n",
        "    def __init__(self, name, age):\n",
        "        self.name = name\n",
        "        self.age = age\n",
        "\n",
        "    def greet(self):\n",
        "        print(f\"Hello, my name is {self.name} and I am {self.age} years old.\")\n",
        "\n",
        "# Test\n",
        "p1 = Person(\"Sneha\", 22)\n",
        "p1.greet()\n"
      ],
      "metadata": {
        "colab": {
          "base_uri": "https://localhost:8080/"
        },
        "id": "U1YsfUCOJdOV",
        "outputId": "961a4ccf-5872-40f1-e458-d149834c3ebd"
      },
      "execution_count": 11,
      "outputs": [
        {
          "output_type": "stream",
          "name": "stdout",
          "text": [
            "Hello, my name is Sneha and I am 22 years old.\n"
          ]
        }
      ]
    },
    {
      "cell_type": "markdown",
      "source": [
        "###Queston12.  Implement a class Student with attributes name and grades. Create a method average_grade() to compute the average of the grades."
      ],
      "metadata": {
        "id": "vE6NMrBQJzbQ"
      }
    },
    {
      "cell_type": "code",
      "source": [
        "class Student:\n",
        "    def __init__(self, name, grades):\n",
        "        self.name = name\n",
        "        self.grades = grades  # List of grades\n",
        "\n",
        "    def average_grade(self):\n",
        "        if not self.grades:\n",
        "            return 0\n",
        "        return sum(self.grades) / len(self.grades)\n",
        "\n",
        "# Test\n",
        "s1 = Student(\"Neha\", [85, 90, 78, 92])\n",
        "print(f\"{s1.name}'s average grade is: {s1.average_grade():.2f}\")\n"
      ],
      "metadata": {
        "colab": {
          "base_uri": "https://localhost:8080/"
        },
        "id": "d4tv3567Jv5Y",
        "outputId": "ab991184-cdde-44f0-b1e1-e582b76660e4"
      },
      "execution_count": 12,
      "outputs": [
        {
          "output_type": "stream",
          "name": "stdout",
          "text": [
            "Neha's average grade is: 86.25\n"
          ]
        }
      ]
    },
    {
      "cell_type": "markdown",
      "source": [
        "###Question13.  Create a class Rectangle with methods set_dimensions() to set the dimensions and area() to calculate thea area."
      ],
      "metadata": {
        "id": "XhDme3WgKMa8"
      }
    },
    {
      "cell_type": "code",
      "source": [
        "class Rectangle:\n",
        "    def __init__(self):\n",
        "        self.length = 0\n",
        "        self.width = 0\n",
        "\n",
        "    def set_dimensions(self, length, width):\n",
        "        self.length = length\n",
        "        self.width = width\n",
        "\n",
        "    def area(self):\n",
        "        return self.length * self.width\n",
        "\n",
        "# Test\n",
        "rect = Rectangle()\n",
        "rect.set_dimensions(10, 5)\n",
        "print(\"Area of rectangle:\", rect.area())\n"
      ],
      "metadata": {
        "colab": {
          "base_uri": "https://localhost:8080/"
        },
        "id": "g10bKFykKIo0",
        "outputId": "8c250f1e-fade-4142-cb17-055f35aebd8a"
      },
      "execution_count": 13,
      "outputs": [
        {
          "output_type": "stream",
          "name": "stdout",
          "text": [
            "Area of rectangle: 50\n"
          ]
        }
      ]
    },
    {
      "cell_type": "markdown",
      "source": [
        "###Question14. Create a class Employee with a method calculate_salary() that computes the salary based on hours worked and hourly rate. Create a derived class Manager that adds a bonus to the salary"
      ],
      "metadata": {
        "id": "DkDO301FK0fh"
      }
    },
    {
      "cell_type": "code",
      "source": [
        "class Employee:\n",
        "    def __init__(self, name, hours_worked, hourly_rate):\n",
        "        self.name = name\n",
        "        self.hours_worked = hours_worked\n",
        "        self.hourly_rate = hourly_rate\n",
        "\n",
        "    def calculate_salary(self):\n",
        "        return self.hours_worked * self.hourly_rate\n",
        "\n",
        "\n",
        "class Manager(Employee):\n",
        "    def __init__(self, name, hours_worked, hourly_rate, bonus):\n",
        "        super().__init__(name, hours_worked, hourly_rate)\n",
        "        self.bonus = bonus\n",
        "\n",
        "    def calculate_salary(self):\n",
        "        base_salary = super().calculate_salary()\n",
        "        return base_salary + self.bonus\n",
        "\n",
        "# Test\n",
        "emp = Employee(\"John\", 40, 20)\n",
        "print(f\"{emp.name}'s salary: ${emp.calculate_salary()}\")\n",
        "\n",
        "mgr = Manager(\"Sneha\", 40, 30, 500)\n",
        "print(f\"{mgr.name}'s salary with bonus: ${mgr.calculate_salary()}\")\n"
      ],
      "metadata": {
        "colab": {
          "base_uri": "https://localhost:8080/"
        },
        "id": "0cKsFag8Kylr",
        "outputId": "242c964d-87da-4153-e3ba-7425ddb40483"
      },
      "execution_count": 14,
      "outputs": [
        {
          "output_type": "stream",
          "name": "stdout",
          "text": [
            "John's salary: $800\n",
            "Sneha's salary with bonus: $1700\n"
          ]
        }
      ]
    },
    {
      "cell_type": "markdown",
      "source": [
        "###Question15.  Create a class Product with attributes name, price, and quantity. Implement a method total_price() that calculates the total price of the product."
      ],
      "metadata": {
        "id": "trqk14ieLOsF"
      }
    },
    {
      "cell_type": "code",
      "source": [
        "class Product:\n",
        "    def __init__(self, name, price, quantity):\n",
        "        self.name = name\n",
        "        self.price = price\n",
        "        self.quantity = quantity\n",
        "\n",
        "    def total_price(self):\n",
        "        return self.price * self.quantity\n",
        "\n",
        "# Test\n",
        "product1 = Product(\"Laptop\", 50000, 2)\n",
        "print(f\"Total price for {product1.quantity} {product1.name}(s): ₹{product1.total_price()}\")\n"
      ],
      "metadata": {
        "colab": {
          "base_uri": "https://localhost:8080/"
        },
        "id": "csKMppZeLDal",
        "outputId": "3af34959-6d85-4155-fce8-9d6a4b4b9ab9"
      },
      "execution_count": 15,
      "outputs": [
        {
          "output_type": "stream",
          "name": "stdout",
          "text": [
            "Total price for 2 Laptop(s): ₹100000\n"
          ]
        }
      ]
    },
    {
      "cell_type": "markdown",
      "source": [
        "###Question16. Create a class Animal with an abstract method sound(). Create two derived classes Cow and Sheep that implement the sound() method."
      ],
      "metadata": {
        "id": "73eaw-a0LkSx"
      }
    },
    {
      "cell_type": "code",
      "source": [
        "from abc import ABC, abstractmethod\n",
        "\n",
        "class Animal(ABC):\n",
        "    @abstractmethod\n",
        "    def sound(self):\n",
        "        pass\n",
        "\n",
        "class Cow(Animal):\n",
        "    def sound(self):\n",
        "        return \"Moo\"\n",
        "\n",
        "class Sheep(Animal):\n",
        "    def sound(self):\n",
        "        return \"Baa\"\n",
        "\n",
        "# Test\n",
        "cow = Cow()\n",
        "sheep = Sheep()\n",
        "\n",
        "print(\"Cow sound:\", cow.sound())\n",
        "print(\"Sheep sound:\", sheep.sound())\n"
      ],
      "metadata": {
        "colab": {
          "base_uri": "https://localhost:8080/"
        },
        "id": "HGoy6n78LhOY",
        "outputId": "6cb40124-32c8-490a-9142-edd4a1aa28a9"
      },
      "execution_count": 16,
      "outputs": [
        {
          "output_type": "stream",
          "name": "stdout",
          "text": [
            "Cow sound: Moo\n",
            "Sheep sound: Baa\n"
          ]
        }
      ]
    },
    {
      "cell_type": "markdown",
      "source": [
        "###Question17. Create a class Book with attributes title, author, and year_published. Add a method get_book_info() that returns a formatted string with the book's details."
      ],
      "metadata": {
        "id": "Oezc8SZHMAwm"
      }
    },
    {
      "cell_type": "code",
      "source": [
        "class Book:\n",
        "    def __init__(self, title, author, year_published):\n",
        "        self.title = title\n",
        "        self.author = author\n",
        "        self.year_published = year_published\n",
        "\n",
        "    def get_book_info(self):\n",
        "        return f\"'{self.title}' by {self.author}, published in {self.year_published}\"\n",
        "\n",
        "# Test\n",
        "book1 = Book(\"To Kill a Mockingbird\", \"Harper Lee\", 1960)\n",
        "print(book1.get_book_info())\n"
      ],
      "metadata": {
        "colab": {
          "base_uri": "https://localhost:8080/"
        },
        "id": "v_cnC2VtLydt",
        "outputId": "6aeabab8-8875-4f9a-ebcb-c84ad1c7f961"
      },
      "execution_count": 17,
      "outputs": [
        {
          "output_type": "stream",
          "name": "stdout",
          "text": [
            "'To Kill a Mockingbird' by Harper Lee, published in 1960\n"
          ]
        }
      ]
    },
    {
      "cell_type": "markdown",
      "source": [
        "###Question18.  Create a class House with attributes address and price. Create a derived class Mansion that adds an attribute number_of_rooms."
      ],
      "metadata": {
        "id": "vFyKVTV_M-dz"
      }
    },
    {
      "cell_type": "code",
      "source": [
        "class House:\n",
        "    def __init__(self, address, price):\n",
        "        self.address = address\n",
        "        self.price = price\n",
        "\n",
        "    def get_info(self):\n",
        "        return f\"Address: {self.address}, Price: ₹{self.price}\"\n",
        "\n",
        "class Mansion(House):\n",
        "    def __init__(self, address, price, number_of_rooms):\n",
        "        super().__init__(address, price)\n",
        "        self.number_of_rooms = number_of_rooms\n",
        "\n",
        "    def get_info(self):\n",
        "        return f\"Address: {self.address}, Price: ₹{self.price}, Rooms: {self.number_of_rooms}\"\n",
        "\n",
        "# Test\n",
        "m1 = Mansion(\"Beverly Hills, LA\", 100000000, 12)\n",
        "print(m1.get_info())\n"
      ],
      "metadata": {
        "colab": {
          "base_uri": "https://localhost:8080/"
        },
        "id": "jKHRVa1qMVYW",
        "outputId": "6b3555b8-e40b-4230-8f57-e1259359f52d"
      },
      "execution_count": 18,
      "outputs": [
        {
          "output_type": "stream",
          "name": "stdout",
          "text": [
            "Address: Beverly Hills, LA, Price: ₹100000000, Rooms: 12\n"
          ]
        }
      ]
    }
  ],
  "metadata": {
    "colab": {
      "name": "Welcome To Colab",
      "provenance": []
    },
    "kernelspec": {
      "display_name": "Python 3",
      "name": "python3"
    }
  },
  "nbformat": 4,
  "nbformat_minor": 0
}