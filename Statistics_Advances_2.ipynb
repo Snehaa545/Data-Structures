{
  "nbformat": 4,
  "nbformat_minor": 0,
  "metadata": {
    "colab": {
      "provenance": []
    },
    "kernelspec": {
      "name": "python3",
      "display_name": "Python 3"
    },
    "language_info": {
      "name": "python"
    }
  },
  "cells": [
    {
      "cell_type": "markdown",
      "source": [
        "# Statistics Advanced - 2| Assignment"
      ],
      "metadata": {
        "id": "wPR9yUn6U3OH"
      }
    },
    {
      "cell_type": "markdown",
      "source": [
        "**Instructions:** Carefully read each question. Use Google Docs, Microsoft Word, or a similar tool\n",
        "to create a document where you type out each question along with its answer. Save the\n",
        "document as a PDF, and then upload it to the LMS. Please do not zip or archive the files before\n",
        "uploading them. Each question carries 20 marks."
      ],
      "metadata": {
        "id": "aukdFlYSU-VS"
      }
    },
    {
      "cell_type": "markdown",
      "source": [
        "**Question 1:** What is hypothesis testing in statistics?"
      ],
      "metadata": {
        "id": "B4pf6HC0VzEG"
      }
    },
    {
      "cell_type": "markdown",
      "source": [
        "**Answer:** Hypothesis testing in statistics is a method used to make decisions or draw conclusions about a population based on sample data.\n",
        "\n",
        "In simple terms, it’s a way to check if the evidence in your data is strong enough to support a certain belief (claim) about a population.\n",
        "\n",
        "\n",
        "**1. Formulate hypotheses**\n",
        "\n",
        "- Null hypothesis (H₀): The default assumption, usually states “no effect” or “no difference.”\n",
        "\n",
        "- Alternative hypothesis (H₁): What you want to prove, usually states there is an effect or difference.\n",
        "\n",
        "Example:\n",
        "H₀: The average height of students = 160 cm\n",
        "H₁: The average height of students ≠ 160 cm\n",
        "\n",
        "**2. Collect data**\n",
        "Gather a sample from the population.\n",
        "\n",
        "**3. Choose a significance level (α)**\n",
        "Commonly 0.05 (5%), which means you’re willing to accept a 5% chance of rejecting H₀ when it’s actually true.\n",
        "\n",
        "**4. Run a statistical test**\n",
        "(like t-test, z-test, chi-square test, etc.) depending on your data type.\n",
        "\n",
        "**5. Make a decision**\n",
        "\n",
        "- If the p-value ≤ α, reject H₀ → there is evidence for H₁.\n",
        "\n",
        "- If the p-value > α, fail to reject H₀ → not enough evidence to support H₁."
      ],
      "metadata": {
        "id": "pa3YBLTpV8vo"
      }
    },
    {
      "cell_type": "markdown",
      "source": [
        "**Question 2:** What is the null hypothesis, and how does it differ from the alternative hypothesis?"
      ],
      "metadata": {
        "id": "__G4BSnNWzb1"
      }
    },
    {
      "cell_type": "markdown",
      "source": [
        "**Answer:** The null hypothesis (H₀) and the alternative hypothesis (H₁ or Ha) are the two main parts of hypothesis testing.\n",
        "\n",
        "**1. Null Hypothesis (H₀):**\n",
        "\n",
        "- It is the default or starting assumption.\n",
        "\n",
        "- Usually states that there is no effect, no difference, or no relationship.\n",
        "\n",
        "- It’s what you test against.\n",
        "\n",
        "- Example: The average exam score of students in a class is 70.\n",
        "\n",
        "**2. Alternative Hypothesis (H₁ or Ha):**\n",
        "\n",
        "- This is what you want to prove or provide evidence for.\n",
        "\n",
        "- States that there is an effect, difference, or relationship.\n",
        "\n",
        "- It’s accepted only if evidence against H₀ is strong enough.\n",
        "\n",
        "- Example: The average exam score of students in a class is not 70.\n",
        "\n",
        "**Key difference:**\n",
        "\n",
        "- H₀ assumes nothing new is happening.\n",
        "\n",
        "- H₁ suggests something new or different is happening."
      ],
      "metadata": {
        "id": "3aFSgg8IW9TZ"
      }
    },
    {
      "cell_type": "markdown",
      "source": [
        "**Question 3:** Explain the significance level in hypothesis testing and its role in deciding the outcome of a test."
      ],
      "metadata": {
        "id": "j6i8HIsYYRmM"
      }
    },
    {
      "cell_type": "markdown",
      "source": [
        "**Answer:** The significance level (α) in hypothesis testing is the threshold you set to decide whether to reject the null hypothesis (H₀).\n",
        "\n",
        "**1. Definition:**\n",
        "\n",
        "- Significance level (α) is the probability of making a Type I error, which means rejecting H₀ when it is actually true.\n",
        "\n",
        "- Common values are 0.05 (5%), 0.01 (1%), or 0.10 (10%).\n",
        "\n",
        "**2. Role in hypothesis testing:**\n",
        "\n",
        "- After running a test, you calculate a p-value (the probability of observing your data, or something more extreme, if H₀ is true).\n",
        "\n",
        "- You then compare the p-value with α:\n",
        "\n",
        "- If p ≤ α, reject H₀ → evidence supports H₁.\n",
        "\n",
        "- If p > α, fail to reject H₀ → not enough evidence to support H₁.\n",
        "\n",
        "**3. Example:**\n",
        "- Suppose a company claims the average battery life of its phones is 10 hours. You test this with a sample.\n",
        "\n",
        "- H₀: Mean = 10 hours\n",
        "\n",
        "- H₁: Mean ≠ 10 hours\n",
        "\n",
        "- α = 0.05\n",
        "\n",
        "- If your test gives p = 0.03, then p < α → reject H₀ → evidence suggests the average battery life is not 10 hours."
      ],
      "metadata": {
        "id": "UXCde-eAYhJz"
      }
    },
    {
      "cell_type": "markdown",
      "source": [
        "**Question 4:** What are Type I and Type II errors? Give examples of each.\n"
      ],
      "metadata": {
        "id": "JC8waVztZ5CC"
      }
    },
    {
      "cell_type": "markdown",
      "source": [
        "**Answer:** Type I and Type II errors are the two possible mistakes we can make in hypothesis testing.\n",
        "\n",
        "**1. Type I Error (False Positive)**\n",
        "\n",
        "- This happens when we reject the null hypothesis (H₀) even though it is actually true.\n",
        "\n",
        "- It’s like a “false alarm.”\n",
        "\n",
        "- The probability of making a Type I error is the significance level (α) you set.\n",
        "\n",
        "**Example:**\n",
        "A medical test says a healthy person has a disease.\n",
        "\n",
        "- H₀: The person does not have the disease.\n",
        "\n",
        "- H₁: The person has the disease.\n",
        "If the test wrongly rejects H₀, we conclude the person is sick when they’re actually healthy → Type I error.\n",
        "\n",
        "**2. Type II Error (False Negative)**\n",
        "\n",
        "This happens when we fail to reject the null hypothesis (H₀) even though it is actually false.\n",
        "\n",
        "- It’s like “missing the signal.”\n",
        "\n",
        "- The probability of making a Type II error is denoted by β. (The power of a test = 1 − β).\n",
        "\n",
        "**Example:**\n",
        "A medical test fails to detect a disease in a sick person.\n",
        "\n",
        "- H₀: The person does not have the disease.\n",
        "\n",
        "- H₁: The person has the disease.\n",
        "If the test fails to reject H₀, we conclude the person is healthy when they’re actually sick → Type II error."
      ],
      "metadata": {
        "id": "1Kmko9rWaBqb"
      }
    },
    {
      "cell_type": "markdown",
      "source": [
        "Question 5: What is the difference between a Z-test and a T-test? Explain when to use each."
      ],
      "metadata": {
        "id": "yHNEAg6Pa6pR"
      }
    },
    {
      "cell_type": "markdown",
      "source": [
        "**Answer:** The Z-test and T-test are both statistical tests used to compare sample data with population parameters, but they differ mainly in the information you have and the sample size.\n",
        "\n",
        "**1. Z-test**\n",
        "\n",
        "- When to use:\n",
        "\n",
        "- Large sample size (n > 30)\n",
        "\n",
        "- Population standard deviation (σ) is known\n",
        "\n",
        "- Distribution: Follows the standard normal distribution (Z-distribution).\n",
        "\n",
        "- Example:\n",
        "A factory knows the population standard deviation of bulb lifetimes. If a sample of 100 bulbs is tested, a Z-test can be used to check if the average life differs from the claimed mean.\n",
        "\n",
        "**2. T-test**\n",
        "\n",
        "- When to use:\n",
        "\n",
        "- Small sample size (n ≤ 30)\n",
        "\n",
        "- Population standard deviation (σ) is unknown (so we estimate it from the sample standard deviation)\n",
        "\n",
        "- Distribution: Follows the t-distribution, which is wider and accounts for more uncertainty in small samples.\n",
        "\n",
        "- Example:\n",
        "A professor checks if the average marks of 20 students differ from the expected mean. Since the population standard deviation is unknown and the sample is small, a T-test is used."
      ],
      "metadata": {
        "id": "GEq7FdoJbOE2"
      }
    },
    {
      "cell_type": "markdown",
      "source": [
        "**Question 6:** Write a Python program to generate a binomial distribution with n=10 and p=0.5, then plot its histogram.\n",
        "\n",
        "(Include your Python code and output in the code box below.)\n",
        "\n",
        "Hint: Generate random number using random function."
      ],
      "metadata": {
        "id": "NuIhtht5czmh"
      }
    },
    {
      "cell_type": "markdown",
      "source": [
        "**Answer:**"
      ],
      "metadata": {
        "id": "B_LOXgCffaJw"
      }
    },
    {
      "cell_type": "code",
      "source": [
        "import numpy as np\n",
        "import matplotlib.pyplot as plt\n",
        "\n",
        "# Parameters for the binomial distribution\n",
        "n = 10   # number of trials\n",
        "p = 0.5  # probability of success\n",
        "size = 1000  # number of random samples\n",
        "\n",
        "# Generate random numbers following a binomial distribution\n",
        "binomial_data = np.random.binomial(n, p, size)\n",
        "\n",
        "# Plot histogram\n",
        "plt.hist(binomial_data, bins=range(n+2), edgecolor='black', align='left')\n",
        "plt.title(\"Binomial Distribution (n=10, p=0.5)\")\n",
        "plt.xlabel(\"Number of Successes\")\n",
        "plt.ylabel(\"Frequency\")\n",
        "plt.show()\n"
      ],
      "metadata": {
        "colab": {
          "base_uri": "https://localhost:8080/",
          "height": 472
        },
        "id": "hjZ3uxqxegfb",
        "outputId": "3b5e8518-a070-47df-8448-5ed5952405af"
      },
      "execution_count": null,
      "outputs": [
        {
          "output_type": "display_data",
          "data": {
            "text/plain": [
              "<Figure size 640x480 with 1 Axes>"
            ],
            "image/png": "[encoded data removed]"
          },
          "metadata": {}
        }
      ]
    },
    {
      "cell_type": "markdown",
      "source": [
        "**Question 7:** Implement hypothesis testing using Z-statistics for a sample dataset in Python. Show the Python code and interpret the results.\n",
        "\n",
        "sample_data = [49.1, 50.2, 51.0, 48.7, 50.5, 49.8, 50.3, 50.7, 50.2, 49.6,\n",
        "50.1, 49.9, 50.8, 50.4, 48.9, 50.6, 50.0, 49.7, 50.2, 49.5,\n",
        "50.1, 50.3, 50.4, 50.5, 50.0, 50.7, 49.3, 49.8, 50.2, 50.9,\n",
        "50.3, 50.4, 50.0, 49.7, 50.5, 49.9]\n",
        "\n",
        "(Include your Python code and output in the code box below.)"
      ],
      "metadata": {
        "id": "4yv-IucrfoLB"
      }
    },
    {
      "cell_type": "markdown",
      "source": [
        "**Answer:**"
      ],
      "metadata": {
        "id": "r6n9DI1dg25H"
      }
    },
    {
      "cell_type": "code",
      "source": [
        "import numpy as np\n",
        "from scipy.stats import norm\n",
        "\n",
        "# Sample dataset\n",
        "sample_data = [49.1, 50.2, 51.0, 48.7, 50.5, 49.8, 50.3, 50.7, 50.2, 49.6,\n",
        "               50.1, 49.9, 50.8, 50.4, 48.9, 50.6, 50.0, 49.7, 50.2, 49.5,\n",
        "               50.1, 50.3, 50.4, 50.5, 50.0, 50.7, 49.3, 49.8, 50.2, 50.9,\n",
        "               50.3, 50.4, 50.0, 49.7, 50.5, 49.9]\n",
        "\n",
        "# Hypothesis:\n",
        "# H0: mu = 50 (population mean is 50)\n",
        "# H1: mu != 50 (population mean is not 50)\n",
        "\n",
        "# Known population standard deviation (assume σ = 0.5 for Z-test)\n",
        "mu_0 = 50\n",
        "sigma = 0.5\n",
        "\n",
        "# Sample mean and size\n",
        "sample_mean = np.mean(sample_data)\n",
        "n = len(sample_data)\n",
        "\n",
        "# Calculate Z-statistic\n",
        "z_stat = (sample_mean - mu_0) / (sigma / np.sqrt(n))\n",
        "\n",
        "# Calculate p-value for two-tailed test\n",
        "p_value = 2 * (1 - norm.cdf(abs(z_stat)))\n",
        "\n",
        "print(\"Sample Mean:\", sample_mean)\n",
        "print(\"Z-statistic:\", z_stat)\n",
        "print(\"P-value:\", p_value)\n"
      ],
      "metadata": {
        "colab": {
          "base_uri": "https://localhost:8080/"
        },
        "id": "eq_BTWWMg2JY",
        "outputId": "96654d4b-9317-4d8e-8416-05916906b61d"
      },
      "execution_count": null,
      "outputs": [
        {
          "output_type": "stream",
          "name": "stdout",
          "text": [
            "Sample Mean: 50.08888888888889\n",
            "Z-statistic: 1.0666666666666629\n",
            "P-value: 0.2861223843910199\n"
          ]
        }
      ]
    },
    {
      "cell_type": "markdown",
      "source": [
        "**Question 8:** Write a Python script to simulate data from a normal distribution and calculate the 95% confidence interval for its mean. Plot the data using Matplotlib.\n",
        "\n",
        "(Include your Python code and output in the code box below.)"
      ],
      "metadata": {
        "id": "Y8bgZ6pPhb7C"
      }
    },
    {
      "cell_type": "markdown",
      "source": [
        "**Answer:**"
      ],
      "metadata": {
        "id": "wsWstgcIhmab"
      }
    },
    {
      "cell_type": "code",
      "source": [
        "import numpy as np\n",
        "import matplotlib.pyplot as plt\n",
        "from scipy import stats\n",
        "\n",
        "# Simulate data from a normal distribution\n",
        "np.random.seed(42)\n",
        "mu, sigma = 50, 5  # population mean and standard deviation\n",
        "n = 100\n",
        "data = np.random.normal(mu, sigma, n)\n",
        "\n",
        "# Sample mean and standard error\n",
        "sample_mean = np.mean(data)\n",
        "sample_std = np.std(data, ddof=1)\n",
        "se = sample_std / np.sqrt(n)\n",
        "\n",
        "# 95% confidence interval\n",
        "confidence = 0.95\n",
        "ci = stats.t.interval(confidence, df=n-1, loc=sample_mean, scale=se)\n",
        "\n",
        "# Plot histogram of the data\n",
        "plt.hist(data, bins=15, edgecolor='black', alpha=0.7)\n",
        "plt.axvline(sample_mean, color='red', linestyle='dashed', linewidth=2, label=f\"Mean = {sample_mean:.2f}\")\n",
        "plt.axvline(ci[0], color='green', linestyle='dashed', linewidth=2, label=f\"95% CI Lower = {ci[0]:.2f}\")\n",
        "plt.axvline(ci[1], color='blue', linestyle='dashed', linewidth=2, label=f\"95% CI Upper = {ci[1]:.2f}\")\n",
        "plt.title(\"Normal Distribution Simulation with 95% CI\")\n",
        "plt.xlabel(\"Value\")\n",
        "plt.ylabel(\"Frequency\")\n",
        "plt.legend()\n",
        "plt.show()\n",
        "\n",
        "print(\"Sample Mean:\", sample_mean)\n",
        "print(\"95% Confidence Interval:\", ci)\n"
      ],
      "metadata": {
        "colab": {
          "base_uri": "https://localhost:8080/",
          "height": 507
        },
        "id": "w2-iNU2yhyU0",
        "outputId": "9f11c973-31f0-4e72-88b8-a39698dba248"
      },
      "execution_count": null,
      "outputs": [
        {
          "output_type": "display_data",
          "data": {
            "text/plain": [
              "<Figure size 640x480 with 1 Axes>"
            ],
            "image/png": "[encoded data removed]"
          },
          "metadata": {}
        },
        {
          "output_type": "stream",
          "name": "stdout",
          "text": [
            "Sample Mean: 49.48076741302953\n",
            "95% Confidence Interval: (np.float64(48.579765818190495), np.float64(50.38176900786857))\n"
          ]
        }
      ]
    },
    {
      "cell_type": "markdown",
      "source": [
        "**Question 9:** Write a Python function to calculate the Z-scores from a dataset and visualize the standardized data using a histogram. Explain what the Z-scores represent in terms of standard deviations from the mean.\n",
        "\n",
        "(Include your Python code and output in the code box below.)"
      ],
      "metadata": {
        "id": "xQEwbAaSh7mL"
      }
    },
    {
      "cell_type": "markdown",
      "source": [
        "**Answer:**"
      ],
      "metadata": {
        "id": "dRCTDehxiJuw"
      }
    },
    {
      "cell_type": "code",
      "source": [
        "import numpy as np\n",
        "import matplotlib.pyplot as plt\n",
        "\n",
        "# Function to calculate Z-scores\n",
        "def calculate_z_scores(data):\n",
        "    mean = np.mean(data)\n",
        "    std = np.std(data, ddof=1)  # sample standard deviation\n",
        "    z_scores = [(x - mean) / std for x in data]\n",
        "    return z_scores, mean, std\n",
        "\n",
        "# Example dataset\n",
        "data = [45, 50, 47, 52, 49, 48, 51, 53, 46, 50, 49, 47, 52, 48, 50]\n",
        "\n",
        "# Calculate Z-scores\n",
        "z_scores, mean, std = calculate_z_scores(data)\n",
        "\n",
        "# Plot histogram of Z-scores\n",
        "plt.hist(z_scores, bins=10, edgecolor='black', alpha=0.7)\n",
        "plt.title(\"Histogram of Z-scores (Standardized Data)\")\n",
        "plt.xlabel(\"Z-score\")\n",
        "plt.ylabel(\"Frequency\")\n",
        "plt.axvline(0, color='red', linestyle='dashed', linewidth=2, label=\"Mean (0)\")\n",
        "plt.legend()\n",
        "plt.show()\n",
        "\n",
        "print(\"First 5 Z-scores:\", z_scores[:5])\n",
        "print(\"Mean of dataset:\", mean)\n",
        "print(\"Standard Deviation of dataset:\", std)\n"
      ],
      "metadata": {
        "colab": {
          "base_uri": "https://localhost:8080/",
          "height": 544
        },
        "id": "PjXp42UHj4uF",
        "outputId": "87d80243-c63f-44cf-9ccc-9fd28624b8fd"
      },
      "execution_count": 1,
      "outputs": [
        {
          "output_type": "display_data",
          "data": {
            "text/plain": [
              "<Figure size 640x480 with 1 Axes>"
            ],
            "image/png": "[encoded data removed]"
          },
          "metadata": {}
        },
        {
          "output_type": "stream",
          "name": "stdout",
          "text": [
            "First 5 Z-scores: [np.float64(-1.7771370128499695), np.float64(0.3726255026943487), np.float64(-0.9172320066322422), np.float64(1.232530508912076), np.float64(-0.057327000414514946)]\n",
            "Mean of dataset: 49.13333333333333\n",
            "Standard Deviation of dataset: 2.3258383025317584\n"
          ]
        }
      ]
    }
  ]
}