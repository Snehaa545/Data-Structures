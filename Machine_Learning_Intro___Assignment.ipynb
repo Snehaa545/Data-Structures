{
  "cells": [
    {
      "cell_type": "markdown",
      "source": [
        "# Machine Learning Intro | Assignment"
      ],
      "metadata": {
        "id": "BZwzLX-_U8dK"
      }
    },
    {
      "cell_type": "markdown",
      "source": [
        "**Instructions:** Carefully read each question. Use Google Docs, Microsoft Word, or a similar tool\n",
        "to create a document where you type out each question along with its answer. Save the\n",
        "document as a PDF, and then upload it to the LMS. Please do not zip or archive the files before\n",
        "uploading them. Each question carries 20 marks."
      ],
      "metadata": {
        "id": "OYQKhHKAVEld"
      }
    },
    {
      "cell_type": "markdown",
      "source": [
        "**Question 1:** Explain the differences between AI, ML, Deep Learning (DL), and Data Science (DS)."
      ],
      "metadata": {
        "id": "rgFUd5LiVSoT"
      }
    },
    {
      "cell_type": "markdown",
      "source": [
        "**Answer:** 1. Artificial Intelligence (AI)\n",
        "\n",
        "- Definition: AI is the broad field of creating systems that can mimic human intelligence, such as reasoning, decision-making, and problem-solving.\n",
        "\n",
        "- Goal: To make machines \"think\" and act intelligently.\n",
        "\n",
        "- Examples:\n",
        "\n",
        "  - Chatbots that understand natural language.\n",
        "\n",
        "  - Self-driving cars making real-time decisions.\n",
        "\n",
        "2. Machine Learning (ML)\n",
        "\n",
        "- Definition: ML is a subset of AI that focuses on algorithms that learn patterns from data and improve automatically with experience.\n",
        "\n",
        "- Goal: To make machines learn from data without being explicitly programmed.\n",
        "\n",
        "- Examples:\n",
        "\n",
        "  - Spam email filters.\n",
        "\n",
        "  - Netflix recommending shows based on viewing history.\n",
        "\n",
        "3. Deep Learning (DL)\n",
        "\n",
        "- Definition: DL is a specialized branch of ML that uses neural networks with many layers to process large and complex datasets.\n",
        "\n",
        "- Goal: To mimic the human brain’s way of recognizing patterns (especially in images, speech, and text).\n",
        "\n",
        "- Examples:\n",
        "\n",
        "  - Facial recognition in photos.\n",
        "\n",
        "  - Voice assistants like Siri or Alexa.\n",
        "\n",
        "4. Data Science (DS)\n",
        "\n",
        "- Definition: Data Science is a multidisciplinary field that combines statistics, programming, and domain knowledge to extract insights and value from data.\n",
        "\n",
        "- Goal: To analyze and interpret data for decision-making.\n",
        "\n",
        "- Examples:\n",
        "\n",
        "  - Analyzing customer purchase data to improve sales.\n",
        "\n",
        "  - Predicting stock market trends."
      ],
      "metadata": {
        "id": "Dc6S7jcqViCz"
      }
    },
    {
      "cell_type": "markdown",
      "source": [
        "**Question 2:** What are the types of machine learning? Describe each with one real-world example.\n"
      ],
      "metadata": {
        "id": "Cu-KAl0cXY-y"
      }
    },
    {
      "cell_type": "markdown",
      "source": [
        "**Answer:** Machine learning is generally divided into three main types (plus one emerging category). Here’s a clear explanation with examples:\n",
        "\n",
        "1. Supervised Learning\n",
        "\n",
        "- What it is: The algorithm is trained on a labeled dataset (input data with correct answers already provided).\n",
        "\n",
        "- Goal: Learn the mapping between inputs and outputs, then predict outcomes for new data.\n",
        "\n",
        "- Real-world Example:\n",
        "\n",
        "  - Email Spam Detection → The model is trained on emails labeled as “spam” or “not spam”. When a new email arrives, the model predicts which category it belongs to.\n",
        "\n",
        "2. Unsupervised Learning\n",
        "\n",
        "- What it is: The algorithm works on unlabeled data (no predefined output). It tries to find hidden patterns, structures, or groupings.\n",
        "\n",
        "- Goal: Discover the underlying structure of the data.\n",
        "\n",
        "- Real-world Example:\n",
        "\n",
        "  - Customer Segmentation → Businesses analyze shopping data without labels to group customers into clusters (e.g., budget shoppers, premium buyers). This helps in targeted marketing.\n",
        "\n",
        "3. Reinforcement Learning (RL)\n",
        "\n",
        "- What it is: The algorithm learns by interacting with an environment and receiving rewards or penalties for its actions.\n",
        "\n",
        "- Goal: Learn the best sequence of actions to maximize reward.\n",
        "\n",
        "- Real-world Example:\n",
        "\n",
        "  - Self-driving Cars → The car (agent) makes driving decisions (actions) based on the environment (traffic, signals) and receives feedback (safe driving = reward, accident = penalty).\n",
        "\n",
        "4. Semi-Supervised Learning (Hybrid approach)\n",
        "\n",
        "- What it is: Uses a small amount of labeled data with a large amount of unlabeled data. This is useful when labeling data is expensive or time-consuming.\n",
        "\n",
        "- Real-world Example:\n",
        "\n",
        "  - Medical Diagnosis → A few patient scans are labeled by doctors as “disease” or “no disease.” The algorithm then learns from these plus many unlabeled scans to improve accuracy."
      ],
      "metadata": {
        "id": "w4K6u2ZRXhyy"
      }
    },
    {
      "cell_type": "markdown",
      "source": [
        "**Question 3:** Define overfitting, underfitting, and the bias-variance tradeoff in machine learning."
      ],
      "metadata": {
        "id": "FD41qBjMZtjK"
      }
    },
    {
      "cell_type": "markdown",
      "source": [
        "**Answer:**\n",
        "1. Overfitting\n",
        "\n",
        "- Definition: When a model learns the training data too well, including noise and random fluctuations, it performs well on training data but poorly on unseen (test) data.\n",
        "- Cause: Model is too complex (too many parameters, deep trees, too many layers).\n",
        "\n",
        "- Example: A student memorizes past exam questions word-for-word instead of understanding concepts. They score well on practice questions but fail when asked new ones.\n",
        "\n",
        "2. Underfitting\n",
        "\n",
        "- Definition: When a model is too simple and cannot capture the underlying trend in the data, leading to poor performance on both training and test data.\n",
        "\n",
        "- Cause: Model lacks complexity (too few parameters, overly simple assumptions).\n",
        "\n",
        "- Example: A student barely studies and only knows very basic facts. They cannot answer practice or real exam questions well.\n",
        "\n",
        "3. Bias-Variance Tradeoff\n",
        "\n",
        "- Bias: Error from overly simple assumptions in the model (leads to underfitting).\n",
        "\n",
        "- Variance: Error from too much sensitivity to training data noise (leads to overfitting).\n",
        "\n",
        "- Tradeoff:\n",
        "\n",
        "  - High Bias → Model is too simple → Underfits.\n",
        "\n",
        "  - High Variance → Model is too complex → Overfits.\n",
        "\n",
        "  - Goal is to balance bias and variance to achieve good generalization on unseen data."
      ],
      "metadata": {
        "id": "IZmYHJcjZ-cx"
      }
    },
    {
      "cell_type": "markdown",
      "source": [
        "**Question 4:** What are outliers in a dataset, and list three common techniques for handling them.*italicized text*"
      ],
      "metadata": {
        "id": "FQ_cT1mPbBFg"
      }
    },
    {
      "cell_type": "markdown",
      "source": [
        "**Answer:** **What are Outliers?**\n",
        "\n",
        "- Definition: Outliers are data points that are significantly different from the majority of the data. They lie far away from the overall pattern or distribution.\n",
        "\n",
        "- Example: In a dataset of students’ test scores (mostly between 40–90), a score of 5 or 100 might be considered an outlier.\n",
        "\n",
        "Outliers can occur due to:\n",
        "\n",
        "- Data entry errors (e.g., typing 1000 instead of 100).\n",
        "\n",
        "- Genuine rare events (e.g., a billionaire’s income in a salary dataset).\n",
        "\n",
        "- Measurement issues (e.g., faulty sensors).\n",
        "\n",
        "**Three Common Techniques to Handle Outliers**\n",
        "\n",
        "**1. Removal (Deleting Outliers)**\n",
        "\n",
        "- If outliers are clearly due to errors or noise, they can be removed.\n",
        "\n",
        "- Example: Dropping a student’s test score of 500 when the maximum possible is 100.\n",
        "\n",
        "**2. Transformation (Reducing Impact)**\n",
        "\n",
        "- Apply mathematical transformations (e.g., log, square root, z-score normalization) to reduce the effect of extreme values.\n",
        "\n",
        "- Example: In income data, applying a log transform compresses the scale and makes extreme salaries less dominant.\n",
        "\n",
        "**3. Imputation (Replacing Outliers)**\n",
        "\n",
        "- Replace outliers with more reasonable values, such as the mean, median, or using model-based predictions.\n",
        "\n",
        "- Example: If one house price is recorded as ₹10 crore in a dataset where most are ₹50–80 lakh, it can be capped at the 95th percentile."
      ],
      "metadata": {
        "id": "N307Fxo3bfJR"
      }
    },
    {
      "cell_type": "markdown",
      "source": [
        "**Question 5:** Explain the process of handling missing values and mention one imputation technique for numerical and one for categorical data."
      ],
      "metadata": {
        "id": "gs9ZOQJVctX2"
      }
    },
    {
      "cell_type": "markdown",
      "source": [
        "**Answer:** **Handling Missing Values**\n",
        "\n",
        "When working with real-world datasets, missing values are common. The process to handle them usually involves:\n",
        "\n",
        "**1. Identify Missing Data**\n",
        "\n",
        "- Use functions (like isnull() in Python/Pandas) to check for missing entries.\n",
        "\n",
        "**2. Analyze the Pattern**\n",
        "\n",
        "- Are they missing at random or in a specific pattern?\n",
        "\n",
        "- If too many values are missing in a feature (say >50%), it may be better to drop that column.\n",
        "\n",
        "**3. Choose a Strategy**\n",
        "\n",
        "- Delete → Drop rows/columns with missing values (only if the percentage is very small).\n",
        "\n",
        "- Impute (Fill) → Replace missing values with meaningful estimates.\n",
        "\n",
        "- Model-Based → Use machine learning to predict missing values.\n",
        "\n",
        "**Imputation Techniques**\n",
        "\n",
        "**1. For Numerical Data → Mean/Median Imputation**\n",
        "\n",
        "- Replace missing numbers with the mean (or median if data is skewed).\n",
        "\n",
        "- Example: If income data has missing values, fill them with the median income.\n",
        "\n",
        "**2. For Categorical Data → Mode Imputation**\n",
        "\n",
        "- Replace missing categories with the most frequent value.\n",
        "\n",
        "- Example: If the “Gender” column has missing entries, replace them with the most common category (say “Female”)."
      ],
      "metadata": {
        "id": "rnovqbWvc1vt"
      }
    },
    {
      "cell_type": "markdown",
      "source": [
        "**Question 6:** Write a Python program that:\n",
        "\n",
        "● Creates a synthetic imbalanced dataset with make_classification() from sklearn.datasets.\n",
        "\n",
        "● Prints the class distribution.\n",
        "\n",
        "(Include your Python code and output in the code box below.)\n"
      ],
      "metadata": {
        "id": "Ry0kBh_VeCjc"
      }
    },
    {
      "cell_type": "code",
      "source": [
        "# Import libraries\n",
        "from sklearn.datasets import make_classification\n",
        "import numpy as np\n",
        "from collections import Counter\n",
        "\n",
        "# Create a synthetic imbalanced dataset\n",
        "X, y = make_classification(n_samples=1000,      # total samples\n",
        "                           n_features=10,       # number of features\n",
        "                           n_informative=2,     # number of informative features\n",
        "                           n_redundant=0,       # no redundant features\n",
        "                           n_clusters_per_class=1,\n",
        "                           weights=[0.9, 0.1],  # imbalance: 90% vs 10%\n",
        "                           random_state=42)\n",
        "\n",
        "# Print class distribution\n",
        "class_distribution = Counter(y)\n",
        "print(\"Class distribution:\", class_distribution)\n"
      ],
      "metadata": {
        "colab": {
          "base_uri": "https://localhost:8080/"
        },
        "id": "3gEYze06fJJV",
        "outputId": "6ab40dc4-dd02-4754-e35a-81d843568c03"
      },
      "execution_count": null,
      "outputs": [
        {
          "output_type": "stream",
          "name": "stdout",
          "text": [
            "Class distribution: Counter({np.int64(0): 895, np.int64(1): 105})\n"
          ]
        }
      ]
    },
    {
      "cell_type": "markdown",
      "source": [
        "**Question 7:** Implement one-hot encoding using pandas for the following list of colors:\n",
        "\n",
        "['Red', 'Green', 'Blue', 'Green', 'Red']. Print the resulting dataframe.\n",
        "\n",
        "(Include your Python code and output in the code box below.)*italicized text*\n"
      ],
      "metadata": {
        "id": "BtLfv2NPffsK"
      }
    },
    {
      "cell_type": "code",
      "source": [
        "import pandas as pd\n",
        "\n",
        "# Input list\n",
        "colors = ['Red', 'Green', 'Blue', 'Green', 'Red']\n",
        "\n",
        "# Create a DataFrame\n",
        "df = pd.DataFrame({'Color': colors})\n",
        "\n",
        "# Apply one-hot encoding\n",
        "one_hot = pd.get_dummies(df['Color'])\n",
        "\n",
        "# Combine original column with one-hot encoded columns\n",
        "result = pd.concat([df, one_hot], axis=1)\n",
        "\n",
        "# Print the resulting dataframe\n",
        "print(result)\n"
      ],
      "metadata": {
        "colab": {
          "base_uri": "https://localhost:8080/"
        },
        "id": "r9neMNRdf1gc",
        "outputId": "06aed89e-04b6-487f-e80e-69bee9f606e2"
      },
      "execution_count": null,
      "outputs": [
        {
          "output_type": "stream",
          "name": "stdout",
          "text": [
            "   Color   Blue  Green    Red\n",
            "0    Red  False  False   True\n",
            "1  Green  False   True  False\n",
            "2   Blue   True  False  False\n",
            "3  Green  False   True  False\n",
            "4    Red  False  False   True\n"
          ]
        }
      ]
    },
    {
      "cell_type": "markdown",
      "source": [
        "**Question 8:** Write a Python script to:\n",
        "\n",
        "● Generate 1000 samples from a normal distribution.\n",
        "\n",
        "● Introduce 50 random missing values.\n",
        "\n",
        "● Fill missing values with the column mean.\n",
        "\n",
        "● Plot a histogram before and after imputation.\n",
        "\n",
        "(Include your Python code and output in the code box below.)"
      ],
      "metadata": {
        "id": "sGYfY2eIgRcg"
      }
    },
    {
      "cell_type": "code",
      "source": [
        "import numpy as np\n",
        "import pandas as pd\n",
        "import matplotlib.pyplot as plt\n",
        "\n",
        "# Step 1: Generate 1000 samples from a normal distribution\n",
        "np.random.seed(42)\n",
        "data = np.random.normal(loc=50, scale=10, size=1000)  # mean=50, std=10\n",
        "\n",
        "# Step 2: Introduce 50 random missing values\n",
        "data_missing = data.copy()\n",
        "missing_indices = np.random.choice(len(data), 50, replace=False)\n",
        "data_missing[missing_indices] = np.nan\n",
        "\n",
        "# Step 3: Fill missing values with the column mean\n",
        "df = pd.DataFrame(data_missing, columns=['Value'])\n",
        "mean_value = df['Value'].mean()\n",
        "df['Imputed'] = df['Value'].fillna(mean_value)\n",
        "\n",
        "# Step 4: Plot histogram before and after imputation\n",
        "plt.figure(figsize=(10,5))\n",
        "\n",
        "# Before imputation\n",
        "plt.subplot(1, 2, 1)\n",
        "plt.hist(df['Value'].dropna(), bins=30, edgecolor='black')\n",
        "plt.title(\"Before Imputation\")\n",
        "plt.xlabel(\"Value\")\n",
        "plt.ylabel(\"Frequency\")\n",
        "\n",
        "# After imputation\n",
        "plt.subplot(1, 2, 2)\n",
        "plt.hist(df['Imputed'], bins=30, edgecolor='black', color='orange')\n",
        "plt.title(\"After Imputation\")\n",
        "plt.xlabel(\"Value\")\n",
        "plt.ylabel(\"Frequency\")\n",
        "\n",
        "plt.tight_layout()\n",
        "plt.show()\n"
      ],
      "metadata": {
        "colab": {
          "base_uri": "https://localhost:8080/",
          "height": 507
        },
        "id": "tcH_AxOxgf6q",
        "outputId": "74796928-d90e-4018-f1bb-10c8709b4f67"
      },
      "execution_count": null,
      "outputs": [
        {
          "output_type": "display_data",
          "data": {
            "text/plain": [
              "<Figure size 1000x500 with 2 Axes>"
            ],
            "image/png": "[encoded data removed]"
          },
          "metadata": {}
        }
      ]
    },
    {
      "cell_type": "markdown",
      "source": [
        "**Question 9:** Implement Min-Max scaling on the following list of numbers [2, 5, 10, 15, 20] using sklearn.preprocessing.MinMaxScaler. Print the scaled array.\n",
        "\n",
        "(Include your Python code and output in the code box below.)"
      ],
      "metadata": {
        "id": "E_H6Y_R8gqjg"
      }
    },
    {
      "cell_type": "code",
      "source": [
        "from sklearn.preprocessing import MinMaxScaler\n",
        "import numpy as np\n",
        "\n",
        "# Input data\n",
        "data = np.array([2, 5, 10, 15, 20]).reshape(-1, 1)\n",
        "\n",
        "# Initialize MinMaxScaler\n",
        "scaler = MinMaxScaler()\n",
        "\n",
        "# Fit and transform the data\n",
        "scaled_data = scaler.fit_transform(data)\n",
        "\n",
        "# Print the scaled array\n",
        "print(\"Scaled Array:\\n\", scaled_data)\n"
      ],
      "metadata": {
        "colab": {
          "base_uri": "https://localhost:8080/"
        },
        "id": "3EZvQSXeg9zm",
        "outputId": "dd538399-d77c-49f9-d5fc-3958920e32ef"
      },
      "execution_count": null,
      "outputs": [
        {
          "output_type": "stream",
          "name": "stdout",
          "text": [
            "Scaled Array:\n",
            " [[0.        ]\n",
            " [0.16666667]\n",
            " [0.44444444]\n",
            " [0.72222222]\n",
            " [1.        ]]\n"
          ]
        }
      ]
    },
    {
      "cell_type": "markdown",
      "source": [
        "**Question 10:** You are working as a data scientist for a retail company.  You receive a customer transaction dataset that contains:\n",
        "\n",
        "● Missing ages,\n",
        "\n",
        "● Outliers in transaction amount,\n",
        "\n",
        "● A highly imbalanced target (fraud vs. non-fraud),\n",
        "\n",
        "● Categorical variables like payment method.\n",
        "\n",
        "Explain the step-by-step data preparation plan you’d follow before training a machine learning model. Include how you’d address missing data, outliers, imbalance, and encoding.\n",
        "\n",
        "(Include your Python code and output in the code box below.)"
      ],
      "metadata": {
        "id": "McN30Th5hFP9"
      }
    },
    {
      "cell_type": "code",
      "source": [
        "import pandas as pd\n",
        "import numpy as np\n",
        "\n",
        "# Example synthetic dataset\n",
        "data = {\n",
        "    'Age': [25, np.nan, 40, 35, np.nan, 50, 28],\n",
        "    'TransactionAmount': [100, 250, 50000, 300, 150, 120, 80000],  # outliers present\n",
        "    'PaymentMethod': ['Card', 'Cash', 'Card', 'UPI', 'Cash', 'UPI', 'Card'],\n",
        "    'Fraud': [0, 0, 1, 0, 0, 0, 0]  # highly imbalanced\n",
        "}\n",
        "\n",
        "df = pd.DataFrame(data)\n",
        "print(\"Initial Data:\\n\", df)\n"
      ],
      "metadata": {
        "colab": {
          "base_uri": "https://localhost:8080/"
        },
        "id": "WN_pxEMfhiQ9",
        "outputId": "559072ea-5ee4-4369-f057-828aa4757189"
      },
      "execution_count": null,
      "outputs": [
        {
          "output_type": "stream",
          "name": "stdout",
          "text": [
            "Initial Data:\n",
            "     Age  TransactionAmount PaymentMethod  Fraud\n",
            "0  25.0                100          Card      0\n",
            "1   NaN                250          Cash      0\n",
            "2  40.0              50000          Card      1\n",
            "3  35.0                300           UPI      0\n",
            "4   NaN                150          Cash      0\n",
            "5  50.0                120           UPI      0\n",
            "6  28.0              80000          Card      0\n"
          ]
        }
      ]
    },
    {
      "cell_type": "code",
      "source": [
        "df['Age'].fillna(df['Age'].median(), inplace=True)\n"
      ],
      "metadata": {
        "colab": {
          "base_uri": "https://localhost:8080/"
        },
        "id": "GE8B1fibiIwq",
        "outputId": "e986dbef-c04a-46c1-94c2-a321f5cb2778"
      },
      "execution_count": null,
      "outputs": [
        {
          "output_type": "stream",
          "name": "stderr",
          "text": [
            "/tmp/ipython-input-286566303.py:1: FutureWarning: A value is trying to be set on a copy of a DataFrame or Series through chained assignment using an inplace method.\n",
            "The behavior will change in pandas 3.0. This inplace method will never work because the intermediate object on which we are setting values always behaves as a copy.\n",
            "\n",
            "For example, when doing 'df[col].method(value, inplace=True)', try using 'df.method({col: value}, inplace=True)' or df[col] = df[col].method(value) instead, to perform the operation inplace on the original object.\n",
            "\n",
            "\n",
            "  df['Age'].fillna(df['Age'].median(), inplace=True)\n"
          ]
        }
      ]
    },
    {
      "cell_type": "code",
      "source": [
        "Q1 = df['TransactionAmount'].quantile(0.25)\n",
        "Q3 = df['TransactionAmount'].quantile(0.75)\n",
        "IQR = Q3 - Q1\n",
        "\n",
        "lower_limit = Q1 - 1.5 * IQR\n",
        "upper_limit = Q3 + 1.5 * IQR\n",
        "\n",
        "df['TransactionAmount'] = np.where(df['TransactionAmount'] > upper_limit, upper_limit,\n",
        "                                   np.where(df['TransactionAmount'] < lower_limit, lower_limit, df['TransactionAmount']))\n"
      ],
      "metadata": {
        "id": "hZCQSpQ5iLZi"
      },
      "execution_count": null,
      "outputs": []
    },
    {
      "cell_type": "code",
      "source": [
        "from imblearn.over_sampling import SMOTE\n",
        "\n",
        "X = df.drop('Fraud', axis=1)\n",
        "y = df['Fraud']\n",
        "\n",
        "# Encode categorical before SMOTE\n",
        "X = pd.get_dummies(X, drop_first=True)\n",
        "\n",
        "sm = SMOTE(random_state=42)\n",
        "X_resampled, y_resampled = sm.fit_resample(X, y)\n",
        "\n",
        "print(\"\\nClass distribution after SMOTE:\\n\", y_resampled.value_counts())\n"
      ],
      "metadata": {
        "id": "qq7hitErjsjz"
      },
      "execution_count": null,
      "outputs": []
    },
    {
      "cell_type": "code",
      "source": [
        "# Already done with pd.get_dummies above\n",
        "print(\"\\nEncoded Features:\\n\", X.head())\n"
      ],
      "metadata": {
        "colab": {
          "base_uri": "https://localhost:8080/"
        },
        "id": "-L9FseRgiRb1",
        "outputId": "950a4586-976e-4b75-a649-b7567f147796"
      },
      "execution_count": null,
      "outputs": [
        {
          "output_type": "stream",
          "name": "stdout",
          "text": [
            "\n",
            "Encoded Features:\n",
            "     Age  TransactionAmount  PaymentMethod_Cash  PaymentMethod_UPI\n",
            "0  25.0              100.0               False              False\n",
            "1  35.0              250.0                True              False\n",
            "2  40.0            50000.0               False              False\n",
            "3  35.0              300.0               False               True\n",
            "4  35.0              150.0                True              False\n"
          ]
        }
      ]
    },
    {
      "cell_type": "code",
      "source": [
        "from sklearn.preprocessing import StandardScaler\n",
        "\n",
        "scaler = StandardScaler()\n",
        "X_resampled[['Age','TransactionAmount']] = scaler.fit_transform(X_resampled[['Age','TransactionAmount']])\n",
        "\n",
        "print(\"\\nFinal Prepared Dataset:\\n\", X_resampled.head())\n"
      ],
      "metadata": {
        "id": "F4FAqoE5j1jQ"
      },
      "execution_count": null,
      "outputs": []
    }
  ],
  "metadata": {
    "colab": {
      "provenance": []
    },
    "kernelspec": {
      "display_name": "Python 3",
      "name": "python3"
    }
  },
  "nbformat": 4,
  "nbformat_minor": 0
}