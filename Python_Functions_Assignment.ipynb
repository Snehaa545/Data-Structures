{
  "cells": [
    {
      "cell_type": "markdown",
      "id": "45345c95",
      "metadata": {
        "id": "45345c95"
      },
      "source": [
        "#**Theory Questions** :"
      ]
    },
    {
      "cell_type": "markdown",
      "id": "4732be62",
      "metadata": {
        "id": "4732be62"
      },
      "source": [
        "### 1. What is the difference between a function and a method in Python?\n",
        "\n",
        "\n",
        "Answer : A **function** is a block of code that performs a specific task and is defined using the `def` keyword. A **method** is like a function but it is associated with an object (i.e., it is called on an object).\n"
      ]
    },
    {
      "cell_type": "code",
      "execution_count": null,
      "id": "3da8e33c",
      "metadata": {
        "id": "3da8e33c"
      },
      "outputs": [],
      "source": [
        "**Example:**\n",
        "```python\n",
        "def greet():\n",
        "    return 'Hello'\n",
        "\n",
        "print(greet())  # function\n",
        "\n",
        "s = 'hello'\n",
        "print(s.upper())  # method\n",
        "```"
      ]
    },
    {
      "cell_type": "markdown",
      "id": "95c8e19b",
      "metadata": {
        "id": "95c8e19b"
      },
      "source": [
        "### 2. Explain the concept of function arguments and parameters in Python.\n",
        "\n",
        "\n",
        "Answer: Parameters are the variables listed inside the parentheses in the function definition. Arguments are the values passed to the function when it is called.\n"
      ]
    },
    {
      "cell_type": "code",
      "execution_count": null,
      "id": "0147f235",
      "metadata": {
        "id": "0147f235"
      },
      "outputs": [],
      "source": [
        "**Example:**\n",
        "```python\n",
        "def add(a, b):  # a and b are parameters\n",
        "    return a + b\n",
        "\n",
        "print(add(2, 3))  # 2 and 3 are arguments\n",
        "```"
      ]
    },
    {
      "cell_type": "markdown",
      "id": "8f49e385",
      "metadata": {
        "id": "8f49e385"
      },
      "source": [
        "### 3. What are the different ways to define and call a function in Python?\n",
        "\n",
        "\n",
        "Answer: Functions can be defined using `def` or `lambda` and called by their name followed by parentheses."
      ]
    },
    {
      "cell_type": "code",
      "execution_count": null,
      "id": "81284146",
      "metadata": {
        "id": "81284146"
      },
      "outputs": [],
      "source": [
        "**Example:**\n",
        "```python\n",
        "def square(x):\n",
        "    return x * x\n",
        "\n",
        "print(square(4))\n",
        "\n",
        "# Using lambda:\n",
        "square = lambda x: x * x\n",
        "print(square(4))\n",
        "```"
      ]
    },
    {
      "cell_type": "markdown",
      "id": "086f93c4",
      "metadata": {
        "id": "086f93c4"
      },
      "source": [
        "### 4. What is the purpose of the `return` statement in a Python function?\n",
        "\n",
        "\n",
        "Answer: The `return` statement is used to exit a function and send back a result."
      ]
    },
    {
      "cell_type": "code",
      "execution_count": null,
      "id": "77444904",
      "metadata": {
        "id": "77444904"
      },
      "outputs": [],
      "source": [
        "**Example:**\n",
        "```python\n",
        "def multiply(x, y):\n",
        "    return x * y\n",
        "\n",
        "result = multiply(3, 4)\n",
        "print(result)\n",
        "```"
      ]
    },
    {
      "cell_type": "markdown",
      "id": "b1fb71fa",
      "metadata": {
        "id": "b1fb71fa"
      },
      "source": [
        "### 5. What are iterators in Python and how do they differ from iterables?\n",
        "\n",
        "\n",
        "Answer: An **iterable** is an object capable of returning its members one at a time (like a list or tuple). An **iterator** is an object which implements the `__next__()` method.\n"
      ]
    },
    {
      "cell_type": "code",
      "execution_count": null,
      "id": "6633ab2a",
      "metadata": {
        "id": "6633ab2a"
      },
      "outputs": [],
      "source": [
        "**Example:**\n",
        "```python\n",
        "lst = [1, 2, 3]  # iterable\n",
        "it = iter(lst)  # iterator\n",
        "print(next(it))\n",
        "```"
      ]
    },
    {
      "cell_type": "markdown",
      "id": "3f302a59",
      "metadata": {
        "id": "3f302a59"
      },
      "source": [
        "### 6. Explain the concept of generators in Python and how they are defined.\n",
        "\n",
        "\n",
        "Answer: Generators are functions that yield values one at a time using the `yield` keyword instead of `return`."
      ]
    },
    {
      "cell_type": "code",
      "execution_count": null,
      "id": "c5a31c11",
      "metadata": {
        "id": "c5a31c11"
      },
      "outputs": [],
      "source": [
        "**Example:**\n",
        "```python\n",
        "def count_up_to(n):\n",
        "    i = 1\n",
        "    while i <= n:\n",
        "        yield i\n",
        "        i += 1\n",
        "```"
      ]
    },
    {
      "cell_type": "markdown",
      "id": "ad58fb37",
      "metadata": {
        "id": "ad58fb37"
      },
      "source": [
        "### 7. What are the advantages of using generators over regular functions?\n",
        "\n",
        "\n",
        "Answer:\n",
        "- Memory efficient\n",
        "- Useful for large datasets\n",
        "- Lazy evaluation"
      ]
    },
    {
      "cell_type": "code",
      "execution_count": null,
      "id": "f80fc3b5",
      "metadata": {
        "id": "f80fc3b5"
      },
      "outputs": [],
      "source": [
        "**Example:**\n",
        "```python\n",
        "def gen():\n",
        "    for i in range(1000000):\n",
        "        yield i\n",
        "```"
      ]
    },
    {
      "cell_type": "markdown",
      "id": "c4159d5b",
      "metadata": {
        "id": "c4159d5b"
      },
      "source": [
        "### 8. What is a lambda function in Python and when is it typically used?\n",
        "\n",
        "\n",
        "Answer: A lambda function is an anonymous, one-line function defined with the `lambda` keyword."
      ]
    },
    {
      "cell_type": "code",
      "execution_count": null,
      "id": "43f12587",
      "metadata": {
        "id": "43f12587"
      },
      "outputs": [],
      "source": [
        "**Example:**\n",
        "```python\n",
        "add = lambda x, y: x + y\n",
        "print(add(2, 3))\n",
        "```"
      ]
    },
    {
      "cell_type": "markdown",
      "id": "c80fcad0",
      "metadata": {
        "id": "c80fcad0"
      },
      "source": [
        "### 9. Explain the purpose and usage of the `map()` function in Python.\n",
        "\n",
        "\n",
        "Answer: `map()` applies a function to all the items in an iterable."
      ]
    },
    {
      "cell_type": "code",
      "execution_count": null,
      "id": "f4ca70cb",
      "metadata": {
        "id": "f4ca70cb"
      },
      "outputs": [],
      "source": [
        "**Example:**\n",
        "```python\n",
        "nums = [1, 2, 3]\n",
        "squared = list(map(lambda x: x*x, nums))\n",
        "print(squared)\n",
        "```"
      ]
    },
    {
      "cell_type": "markdown",
      "id": "7bb568db",
      "metadata": {
        "id": "7bb568db"
      },
      "source": [
        "### 10. What is the difference between `map()`, `reduce()`, and `filter()` functions in Python?\n",
        "\n",
        "\n",
        "Answer:\n",
        ":- `map()` applies a function to all elements\n",
        "- `filter()` filters elements using a condition\n",
        "- `reduce()` reduces a list to a single value"
      ]
    },
    {
      "cell_type": "code",
      "execution_count": null,
      "id": "dcb7fb8f",
      "metadata": {
        "id": "dcb7fb8f"
      },
      "outputs": [],
      "source": [
        "**Example:**\n",
        "```python\n",
        "from functools import reduce\n",
        "nums = [1, 2, 3, 4]\n",
        "print(list(map(lambda x: x*2, nums)))\n",
        "print(list(filter(lambda x: x%2 == 0, nums)))\n",
        "print(reduce(lambda x, y: x+y, nums))\n",
        "```"
      ]
    },
    {
      "cell_type": "markdown",
      "source": [
        "#**Practical Questions** :"
      ],
      "metadata": {
        "id": "MKN8OV-oNVDD"
      },
      "id": "MKN8OV-oNVDD"
    },
    {
      "cell_type": "markdown",
      "id": "eac1af67",
      "metadata": {
        "id": "eac1af67"
      },
      "source": [
        "### 1. Write a Python function that takes a list of numbers as input and returns the sum of all even numbers in the list.\n"
      ]
    },
    {
      "cell_type": "code",
      "execution_count": null,
      "id": "5e10c631",
      "metadata": {
        "colab": {
          "base_uri": "https://localhost:8080/"
        },
        "id": "5e10c631",
        "outputId": "875e7506-92e3-4614-d7e3-28a92d7d9641"
      },
      "outputs": [
        {
          "output_type": "execute_result",
          "data": {
            "text/plain": [
              "12"
            ]
          },
          "metadata": {},
          "execution_count": 2
        }
      ],
      "source": [
        "def sum_even(numbers):\n",
        "    return sum(num for num in numbers if num % 2 == 0)\n",
        "\n",
        "sum_even([1, 2, 3, 4, 5, 6])"
      ]
    },
    {
      "cell_type": "markdown",
      "id": "d04362f8",
      "metadata": {
        "id": "d04362f8"
      },
      "source": [
        "### 2. Create a Python function that accepts a string and returns the reverse of that string."
      ]
    },
    {
      "cell_type": "code",
      "execution_count": null,
      "id": "312fae30",
      "metadata": {
        "colab": {
          "base_uri": "https://localhost:8080/",
          "height": 35
        },
        "id": "312fae30",
        "outputId": "d4bd8ea9-9f3d-4464-e407-5f97ce3ae97e"
      },
      "outputs": [
        {
          "output_type": "execute_result",
          "data": {
            "text/plain": [
              "'olleh'"
            ],
            "application/vnd.google.colaboratory.intrinsic+json": {
              "type": "string"
            }
          },
          "metadata": {},
          "execution_count": 3
        }
      ],
      "source": [
        "def reverse_string(s):\n",
        "    return s[::-1]\n",
        "\n",
        "reverse_string('hello')"
      ]
    },
    {
      "cell_type": "markdown",
      "id": "2ff860cf",
      "metadata": {
        "id": "2ff860cf"
      },
      "source": [
        "### 3.  Implement a Python function that takes a list of integers and returns a new list containing the squares of each number."
      ]
    },
    {
      "cell_type": "code",
      "execution_count": null,
      "id": "ab71cd7f",
      "metadata": {
        "colab": {
          "base_uri": "https://localhost:8080/"
        },
        "id": "ab71cd7f",
        "outputId": "33dfda97-51c0-4f28-e47a-3a0c142b7be1"
      },
      "outputs": [
        {
          "output_type": "execute_result",
          "data": {
            "text/plain": [
              "[1, 4, 9]"
            ]
          },
          "metadata": {},
          "execution_count": 4
        }
      ],
      "source": [
        "def square_list(lst):\n",
        "    return [x**2 for x in lst]\n",
        "\n",
        "square_list([1, 2, 3])"
      ]
    },
    {
      "cell_type": "markdown",
      "id": "e7f2903e",
      "metadata": {
        "id": "e7f2903e"
      },
      "source": [
        "### 4. Write a Python function that checks if a given number is prime or not from 1 to 200."
      ]
    },
    {
      "cell_type": "code",
      "execution_count": null,
      "id": "e9ff4352",
      "metadata": {
        "colab": {
          "base_uri": "https://localhost:8080/"
        },
        "id": "e9ff4352",
        "outputId": "ae42420e-b33c-4bc0-e3f2-f005adce2404"
      },
      "outputs": [
        {
          "output_type": "execute_result",
          "data": {
            "text/plain": [
              "[2,\n",
              " 3,\n",
              " 5,\n",
              " 7,\n",
              " 11,\n",
              " 13,\n",
              " 17,\n",
              " 19,\n",
              " 23,\n",
              " 29,\n",
              " 31,\n",
              " 37,\n",
              " 41,\n",
              " 43,\n",
              " 47,\n",
              " 53,\n",
              " 59,\n",
              " 61,\n",
              " 67,\n",
              " 71,\n",
              " 73,\n",
              " 79,\n",
              " 83,\n",
              " 89,\n",
              " 97,\n",
              " 101,\n",
              " 103,\n",
              " 107,\n",
              " 109,\n",
              " 113,\n",
              " 127,\n",
              " 131,\n",
              " 137,\n",
              " 139,\n",
              " 149,\n",
              " 151,\n",
              " 157,\n",
              " 163,\n",
              " 167,\n",
              " 173,\n",
              " 179,\n",
              " 181,\n",
              " 191,\n",
              " 193,\n",
              " 197,\n",
              " 199]"
            ]
          },
          "metadata": {},
          "execution_count": 5
        }
      ],
      "source": [
        "def is_prime(n):\n",
        "    if n < 2:\n",
        "        return False\n",
        "    for i in range(2, int(n**0.5)+1):\n",
        "        if n % i == 0:\n",
        "            return False\n",
        "    return True\n",
        "\n",
        "primes = [x for x in range(1, 201) if is_prime(x)]\n",
        "primes"
      ]
    },
    {
      "cell_type": "markdown",
      "id": "8863e9cc",
      "metadata": {
        "id": "8863e9cc"
      },
      "source": [
        "### 5.  Create an iterator class in Python that generates the Fibonacci sequence up to a specified number of terms."
      ]
    },
    {
      "cell_type": "code",
      "execution_count": null,
      "id": "450e7685",
      "metadata": {
        "colab": {
          "base_uri": "https://localhost:8080/"
        },
        "id": "450e7685",
        "outputId": "dd5a67e1-d660-4789-9c64-28e8a5775fe0"
      },
      "outputs": [
        {
          "output_type": "execute_result",
          "data": {
            "text/plain": [
              "[1, 1, 2, 3, 5, 8, 13, 21, 34, 55]"
            ]
          },
          "metadata": {},
          "execution_count": 6
        }
      ],
      "source": [
        "class Fibonacci:\n",
        "    def __init__(self, max_terms):\n",
        "        self.max = max_terms\n",
        "        self.a, self.b = 0, 1\n",
        "        self.count = 0\n",
        "\n",
        "    def __iter__(self):\n",
        "        return self\n",
        "\n",
        "    def __next__(self):\n",
        "        if self.count >= self.max:\n",
        "            raise StopIteration\n",
        "        self.count += 1\n",
        "        self.a, self.b = self.b, self.a + self.b\n",
        "        return self.a\n",
        "\n",
        "list(Fibonacci(10))"
      ]
    },
    {
      "cell_type": "markdown",
      "id": "ff308718",
      "metadata": {
        "id": "ff308718"
      },
      "source": [
        "### 6. Write a generator function in Python that yields the powers of 2 up to a given exponent."
      ]
    },
    {
      "cell_type": "code",
      "execution_count": null,
      "id": "853cd9f5",
      "metadata": {
        "colab": {
          "base_uri": "https://localhost:8080/"
        },
        "id": "853cd9f5",
        "outputId": "62d191fa-1b60-4fd9-c6ee-da73928220fa"
      },
      "outputs": [
        {
          "output_type": "execute_result",
          "data": {
            "text/plain": [
              "[1, 2, 4, 8, 16, 32]"
            ]
          },
          "metadata": {},
          "execution_count": 7
        }
      ],
      "source": [
        "def powers_of_two(exp):\n",
        "    for i in range(exp + 1):\n",
        "        yield 2 ** i\n",
        "\n",
        "list(powers_of_two(5))"
      ]
    },
    {
      "cell_type": "markdown",
      "id": "13dbad2f",
      "metadata": {
        "id": "13dbad2f"
      },
      "source": [
        "### 7. Implement a generator function that reads a file line by line and yields each line as a string."
      ]
    },
    {
      "cell_type": "code",
      "execution_count": null,
      "id": "2827ca0e",
      "metadata": {
        "id": "2827ca0e"
      },
      "outputs": [],
      "source": [
        "def read_file_lines(filename):\n",
        "    with open(filename) as file:\n",
        "        for line in file:\n",
        "            yield line.strip()\n",
        "\n",
        "# list(read_file_lines('sample.txt'))"
      ]
    },
    {
      "cell_type": "markdown",
      "id": "3d06fc5a",
      "metadata": {
        "id": "3d06fc5a"
      },
      "source": [
        "### 8. Use a lambda function in Python to sort a list of tuples based on the second element of each tuple."
      ]
    },
    {
      "cell_type": "code",
      "execution_count": null,
      "id": "da09f536",
      "metadata": {
        "colab": {
          "base_uri": "https://localhost:8080/"
        },
        "id": "da09f536",
        "outputId": "09056ed7-be90-461b-ad38-ab875e47f266"
      },
      "outputs": [
        {
          "output_type": "execute_result",
          "data": {
            "text/plain": [
              "[(2, 1), (4, 2), (1, 3)]"
            ]
          },
          "metadata": {},
          "execution_count": 10
        }
      ],
      "source": [
        "tuples = [(1, 3), (2, 1), (4, 2)]\n",
        "sorted_tuples = sorted(tuples, key=lambda x: x[1])\n",
        "sorted_tuples"
      ]
    },
    {
      "cell_type": "markdown",
      "id": "775e06c1",
      "metadata": {
        "id": "775e06c1"
      },
      "source": [
        "### 9. Write a Python program that uses `map()` to convert a list of temperatures from Celsius to Fahrenheit."
      ]
    },
    {
      "cell_type": "code",
      "execution_count": null,
      "id": "c3a5b19c",
      "metadata": {
        "colab": {
          "base_uri": "https://localhost:8080/"
        },
        "id": "c3a5b19c",
        "outputId": "4f09ef1e-aeae-4703-a811-3d4b21c4e5c5"
      },
      "outputs": [
        {
          "output_type": "execute_result",
          "data": {
            "text/plain": [
              "[32.0, 50.0, 68.0, 86.0]"
            ]
          },
          "metadata": {},
          "execution_count": 11
        }
      ],
      "source": [
        "celsius = [0, 10, 20, 30]\n",
        "fahrenheit = list(map(lambda c: (9/5)*c + 32, celsius))\n",
        "fahrenheit"
      ]
    },
    {
      "cell_type": "markdown",
      "id": "01cf73eb",
      "metadata": {
        "id": "01cf73eb"
      },
      "source": [
        "### 10. Create a Python program that uses `filter()` to remove all the vowels from a given string."
      ]
    },
    {
      "cell_type": "code",
      "execution_count": null,
      "id": "b507dc1d",
      "metadata": {
        "colab": {
          "base_uri": "https://localhost:8080/",
          "height": 35
        },
        "id": "b507dc1d",
        "outputId": "a3e2b528-b50c-4c9a-f532-2d65611acfb7"
      },
      "outputs": [
        {
          "output_type": "execute_result",
          "data": {
            "text/plain": [
              "'hll wrld'"
            ],
            "application/vnd.google.colaboratory.intrinsic+json": {
              "type": "string"
            }
          },
          "metadata": {},
          "execution_count": 12
        }
      ],
      "source": [
        "s = 'hello world'\n",
        "vowels = 'aeiou'\n",
        "filtered = ''.join(filter(lambda c: c.lower() not in vowels, s))\n",
        "filtered"
      ]
    },
    {
      "cell_type": "markdown",
      "source": [
        "### 11.  Imagine an accounting routine used in a book shop. It works on a list with sublists, which look like this:\n",
        "\n",
        "orders Number = Book tital And author, Quantity, Price per item\n",
        "\n",
        "    ['34587', 'Learning Python', 4, 40.95],\n",
        "    ['98762', 'Programming Python', 5, 56.80],\n",
        "    ['77226', 'Head First Python', 3, 32.95],\n",
        "    ['88112', 'Einführung in Python3', 3, 24.99]\n",
        "\n",
        "Write a Python program, which returns a list with 2-tuples. Each tuple consists of the order number and the\n",
        "product of the price per item and the quantity. The product should be increased by 10,- € if the value of the order is smaller than 100,00 €.\n",
        "\n",
        "Write a Python program using lambda and map."
      ],
      "metadata": {
        "id": "4g5e4eZ_DQxp"
      },
      "id": "4g5e4eZ_DQxp"
    },
    {
      "cell_type": "code",
      "execution_count": null,
      "id": "42169133",
      "metadata": {
        "colab": {
          "base_uri": "https://localhost:8080/"
        },
        "id": "42169133",
        "outputId": "63d07e8b-e01a-4a55-f08f-287e94674b8b"
      },
      "outputs": [
        {
          "output_type": "execute_result",
          "data": {
            "text/plain": [
              "[('34587', 163.8),\n",
              " ('98762', 284.0),\n",
              " ('77226', 108.85000000000001),\n",
              " ('88112', 84.97)]"
            ]
          },
          "metadata": {},
          "execution_count": 13
        }
      ],
      "source": [
        "orders = [\n",
        "    ['34587', 'Learning Python', 4, 40.95],\n",
        "    ['98762', 'Programming Python', 5, 56.80],\n",
        "    ['77226', 'Head First Python', 3, 32.95],\n",
        "    ['88112', 'Einführung in Python3', 3, 24.99]\n",
        "]\n",
        "\n",
        "final_orders = list(map(lambda order: (order[0], order[2]*order[3] + (10 if order[2]*order[3] < 100 else 0)), orders))\n",
        "final_orders"
      ]
    }
  ],
  "metadata": {
    "colab": {
      "provenance": []
    },
    "language_info": {
      "name": "python"
    },
    "kernelspec": {
      "name": "python3",
      "display_name": "Python 3"
    }
  },
  "nbformat": 4,
  "nbformat_minor": 5
}