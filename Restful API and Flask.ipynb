{
  "cells": [
    {
      "cell_type": "markdown",
      "source": [
        "# Theory Question"
      ],
      "metadata": {
        "id": "iwaErkmLPGNz"
      }
    },
    {
      "cell_type": "markdown",
      "source": [
        "### Question 1. What is a RESTful API?\n",
        "\n",
        "\n",
        "Answer:- A RESTful API (Representational State Transfer) is an interface that allows applications to communicate over HTTP using standard methods like GET, POST, PUT, and DELETE. REST APIs treat everything as a resource, each identified by a URL, and operations are performed using HTTP methods."
      ],
      "metadata": {
        "id": "XDTB8uZkPLFu"
      }
    },
    {
      "cell_type": "markdown",
      "source": [
        "### Question 2. Explain the concept of API specification.\n",
        "\n",
        "\n",
        "Answer:- An API specification is a detailed description of how an API works. It defines endpoints, request formats, response formats, authentication methods, and error handling. Tools like OpenAPI (Swagger) are often used to create and share these specifications."
      ],
      "metadata": {
        "id": "28A8acqURVGd"
      }
    },
    {
      "cell_type": "markdown",
      "source": [
        "### Question 3. What is Flask, and why is it popular for building APIs?\n",
        "\n",
        "\n",
        "Answer:- Flask is a lightweight Python web framework. It’s popular for APIs because:\n",
        "\n",
        "- It’s minimal and easy to learn.\n",
        "\n",
        "- Flexible, with no strict project structure.\n",
        "\n",
        "- Supports extensions (like Flask-SQLAlchemy).\n",
        "\n",
        "- Great for small to medium-sized projects and quick prototypes."
      ],
      "metadata": {
        "id": "SmO8VWTZRfRA"
      }
    },
    {
      "cell_type": "markdown",
      "source": [
        "### Question 4. What is routing in Flask?\n",
        "\n",
        "\n",
        "Answer:- Routing is the process of mapping URLs to specific functions in your application. For example, /users might map to a function that returns user data."
      ],
      "metadata": {
        "id": "6X8B0cmpRt1g"
      }
    },
    {
      "cell_type": "markdown",
      "source": [
        "### Question 5. How do you create a simple Flask application?\n",
        "\n",
        "\n",
        "Answer:-"
      ],
      "metadata": {
        "id": "D--bBVm8R2Si"
      }
    },
    {
      "cell_type": "code",
      "source": [
        "from flask import Flask\n",
        "\n",
        "app = Flask(__name__)\n",
        "\n",
        "@app.route('/')\n",
        "def home():\n",
        "    return \"Hello, Flask!\"\n",
        "\n",
        "if __name__ == \"__main__\":\n",
        "    app.run(debug=True)\n"
      ],
      "metadata": {
        "colab": {
          "base_uri": "https://localhost:8080/"
        },
        "id": "HIoHW7BlR_G7",
        "outputId": "01948d14-4a15-4d74-ad8a-b1805a143269"
      },
      "execution_count": 18,
      "outputs": [
        {
          "output_type": "stream",
          "name": "stdout",
          "text": [
            " * Serving Flask app '__main__'\n",
            " * Debug mode: on\n"
          ]
        },
        {
          "output_type": "stream",
          "name": "stderr",
          "text": [
            "INFO:werkzeug:\u001b[31m\u001b[1mWARNING: This is a development server. Do not use it in a production deployment. Use a production WSGI server instead.\u001b[0m\n",
            " * Running on http://127.0.0.1:5000\n",
            "INFO:werkzeug:\u001b[33mPress CTRL+C to quit\u001b[0m\n",
            "INFO:werkzeug: * Restarting with watchdog (inotify)\n"
          ]
        }
      ]
    },
    {
      "cell_type": "code",
      "source": [
        "%pip install Flask-SQLAlchemy"
      ],
      "metadata": {
        "colab": {
          "base_uri": "https://localhost:8080/"
        },
        "id": "9UD4VjkvdbTi",
        "outputId": "443b48de-4318-482b-8a30-61d8998c9117"
      },
      "execution_count": 19,
      "outputs": [
        {
          "output_type": "stream",
          "name": "stdout",
          "text": [
            "Requirement already satisfied: Flask-SQLAlchemy in /usr/local/lib/python3.12/dist-packages (3.1.1)\n",
            "Requirement already satisfied: flask>=2.2.5 in /usr/local/lib/python3.12/dist-packages (from Flask-SQLAlchemy) (3.1.1)\n",
            "Requirement already satisfied: sqlalchemy>=2.0.16 in /usr/local/lib/python3.12/dist-packages (from Flask-SQLAlchemy) (2.0.43)\n",
            "Requirement already satisfied: blinker>=1.9.0 in /usr/local/lib/python3.12/dist-packages (from flask>=2.2.5->Flask-SQLAlchemy) (1.9.0)\n",
            "Requirement already satisfied: click>=8.1.3 in /usr/local/lib/python3.12/dist-packages (from flask>=2.2.5->Flask-SQLAlchemy) (8.2.1)\n",
            "Requirement already satisfied: itsdangerous>=2.2.0 in /usr/local/lib/python3.12/dist-packages (from flask>=2.2.5->Flask-SQLAlchemy) (2.2.0)\n",
            "Requirement already satisfied: jinja2>=3.1.2 in /usr/local/lib/python3.12/dist-packages (from flask>=2.2.5->Flask-SQLAlchemy) (3.1.6)\n",
            "Requirement already satisfied: markupsafe>=2.1.1 in /usr/local/lib/python3.12/dist-packages (from flask>=2.2.5->Flask-SQLAlchemy) (3.0.2)\n",
            "Requirement already satisfied: werkzeug>=3.1.0 in /usr/local/lib/python3.12/dist-packages (from flask>=2.2.5->Flask-SQLAlchemy) (3.1.3)\n",
            "Requirement already satisfied: greenlet>=1 in /usr/local/lib/python3.12/dist-packages (from sqlalchemy>=2.0.16->Flask-SQLAlchemy) (3.2.4)\n",
            "Requirement already satisfied: typing-extensions>=4.6.0 in /usr/local/lib/python3.12/dist-packages (from sqlalchemy>=2.0.16->Flask-SQLAlchemy) (4.14.1)\n"
          ]
        }
      ]
    },
    {
      "cell_type": "markdown",
      "source": [
        "### Question 6. What are HTTP methods used in RESTful APIs?\n",
        "\n",
        "\n",
        "Answer:-Main HTTP Methods\n",
        "\n",
        "1. GET\n",
        "\n",
        "- Used to retrieve data from the server.\n",
        "\n",
        "- Example: GET /users/1 → fetch details of user with ID 1.\n",
        "\n",
        "- Should not change anything on the server (read-only).\n",
        "\n",
        "2. POST\n",
        "\n",
        "- Used to create new resources.\n",
        "\n",
        "- Example: POST /users with data { \"name\": \"Sneha\" } → creates a new user.\n",
        "\n",
        "3. PUT\n",
        "\n",
        "- Used to update an existing resource (replace the entire object).\n",
        "\n",
        "- Example: PUT /users/1 with full user details → updates user with ID 1 completely.\n",
        "\n",
        "4. PATCH\n",
        "\n",
        "- Used to partially update a resource.\n",
        "\n",
        "- Example: PATCH /users/1 with { \"email\": \"new@mail.com\" } → only updates the email field.\n",
        "\n",
        "5. DELETE\n",
        "\n",
        "- Used to remove a resource.\n",
        "\n",
        "- Example: DELETE /users/1 → deletes the user with ID 1."
      ],
      "metadata": {
        "id": "jVnK72fWSBPa"
      }
    },
    {
      "cell_type": "markdown",
      "source": [
        "### Question 7. What is the purpose of the @app.route() decorator in Flask?\n",
        "\n",
        "\n",
        "Anwer:- It tells Flask which URL should trigger a specific function. Example:"
      ],
      "metadata": {
        "id": "JxbPp9eiSQ30"
      }
    },
    {
      "cell_type": "code",
      "source": [
        "@app.route('/hello')\n",
        "def hello():\n",
        "    return \"Hello World\"\n"
      ],
      "metadata": {
        "id": "YaWL74KRTho7"
      },
      "execution_count": null,
      "outputs": []
    },
    {
      "cell_type": "markdown",
      "source": [
        "### Question 8. What is the difference between GET and POST HTTP methods?\n",
        "\n",
        "\n",
        "Answer:- GET: Used for reading data. Parameters are passed in the URL. Safe and idempotent (doesn’t change server state).\n",
        "\n",
        "POST: Used for creating data. Data is sent in the request body. Changes server state."
      ],
      "metadata": {
        "id": "Gyu5HP0pToAh"
      }
    },
    {
      "cell_type": "markdown",
      "source": [
        "### Question 9.  How do you handle errors in Flask APIs?\n",
        "\n",
        "\n",
        "Answer:- You can use error handlers:"
      ],
      "metadata": {
        "id": "2-dH6Yo7TwdG"
      }
    },
    {
      "cell_type": "code",
      "source": [
        "from flask import jsonify\n",
        "\n",
        "@app.errorhandler(404)\n",
        "def not_found(e):\n",
        "    return jsonify(error=\"Resource not found\"), 404\n"
      ],
      "metadata": {
        "id": "1S7nU7E3T48U"
      },
      "execution_count": null,
      "outputs": []
    },
    {
      "cell_type": "markdown",
      "source": [
        "### Question 10. How do you connect Flask to a SQL database?\n",
        "\n",
        "\n",
        "Answer:- You can use Flask-SQLAlchemy (or raw SQL libraries). Example:"
      ],
      "metadata": {
        "id": "WfYmXJH9T7q4"
      }
    },
    {
      "cell_type": "code",
      "source": [
        "from flask_sqlalchemy import SQLAlchemy\n",
        "\n",
        "app.config['SQLALCHEMY_DATABASE_URI'] = 'sqlite:///test.db'\n",
        "db = SQLAlchemy(app)\n"
      ],
      "metadata": {
        "id": "R5HKjmORUGKN"
      },
      "execution_count": 17,
      "outputs": []
    },
    {
      "cell_type": "markdown",
      "source": [
        "### Question 11.What is the role of Flask-SQLAlchemy?\n",
        "\n",
        "\n",
        "Answer:- It’s an extension that integrates SQLAlchemy with Flask. It allows you to work with databases using Python objects (ORM) instead of writing raw SQL."
      ],
      "metadata": {
        "id": "gks3A59FUIe4"
      }
    },
    {
      "cell_type": "markdown",
      "source": [
        "### Question 12. What are Flask blueprints, and how are they useful?\n",
        "\n",
        "\n",
        "Answer:- Blueprints let you structure a Flask app into smaller, reusable components. They help organize routes, views, and logic in large applications.\n",
        "Example: an auth blueprint for login, and a blog blueprint for posts."
      ],
      "metadata": {
        "id": "5qb4YmFWVJeq"
      }
    },
    {
      "cell_type": "markdown",
      "source": [
        "### Question 13. What is the purpose of Flask's request object?\n",
        "\n",
        "\n",
        "Answer:- request gives access to incoming request data like headers, query parameters, and JSON body.\n",
        "Example:"
      ],
      "metadata": {
        "id": "gDhTW7M1VSy4"
      }
    },
    {
      "cell_type": "code",
      "source": [
        "from flask import request\n",
        "\n",
        "@app.route('/user', methods=['POST'])\n",
        "def create_user():\n",
        "    data = request.json\n",
        "    return data\n"
      ],
      "metadata": {
        "id": "EtTswsa6VbnR"
      },
      "execution_count": 14,
      "outputs": []
    },
    {
      "cell_type": "markdown",
      "source": [
        "### Question 14. How do you create a RESTful API endpoint using Flask?\n",
        "\n",
        "\n",
        "Answer:-"
      ],
      "metadata": {
        "id": "QHgyITwWVeRj"
      }
    },
    {
      "cell_type": "code",
      "source": [
        "from flask import Flask, jsonify, request\n",
        "\n",
        "app = Flask(__name__)\n",
        "\n",
        "@app.route('/users', methods=['GET'])\n",
        "def get_users():\n",
        "    return jsonify({\"users\": [\"Alice\", \"Bob\"]})\n",
        "\n",
        "@app.route('/users', methods=['POST'])\n",
        "def add_user():\n",
        "    data = request.json\n",
        "    return jsonify({\"message\": \"User added\", \"user\": data}), 201\n"
      ],
      "metadata": {
        "id": "92gsCYEDVrUb"
      },
      "execution_count": 13,
      "outputs": []
    },
    {
      "cell_type": "markdown",
      "source": [
        "### Question 15. What is the purpose of Flask's jsonify() function?\n",
        "\n",
        "\n",
        "Answer:- It converts Python dictionaries or lists into proper JSON responses with the correct Content-Type: application/json header."
      ],
      "metadata": {
        "id": "Vt4Fkj9RVsGw"
      }
    },
    {
      "cell_type": "markdown",
      "source": [
        "### Question 16. Explain Flask’s url_for() function.\n",
        "\n",
        "\n",
        "Answer:- url_for() is used to generate URLs dynamically in Flask instead of hardcoding them. It makes code more maintainable.\n",
        "\n",
        "Example:"
      ],
      "metadata": {
        "id": "6Y5NBQGGV4Ol"
      }
    },
    {
      "cell_type": "code",
      "source": [
        "from flask import Flask, url_for\n",
        "\n",
        "app = Flask(__name__)\n",
        "\n",
        "@app.route('/profile/<username>')\n",
        "def profile(username):\n",
        "    return f\"Profile: {username}\"\n",
        "\n",
        "@app.route('/')\n",
        "def home():\n",
        "    return f\"Go to {url_for('profile', username='Sneha')}\"\n"
      ],
      "metadata": {
        "id": "_e52-8ZXWkUo"
      },
      "execution_count": 12,
      "outputs": []
    },
    {
      "cell_type": "markdown",
      "source": [
        "### Question 17. How does Flask handle static files (CSS, JavaScript, etc.)?\n",
        "\n",
        "\n",
        "Answer:- Flask automatically looks for static files in a folder named static/.\n",
        "You can reference them in templates like this:"
      ],
      "metadata": {
        "id": "8oiQcfVBWmou"
      }
    },
    {
      "cell_type": "markdown",
      "source": [
        "### Question 18. What is an API specification, and how does it help in building a Flask API?\n",
        "\n",
        "\n",
        "Answer:- An API specification is a detailed document describing the API:\n",
        "\n",
        "- Endpoints (like /users)\n",
        "\n",
        "- Request methods (GET, POST, etc.)\n",
        "\n",
        "- Request/response formats (JSON structure)\n",
        "\n",
        "- Authentication requirements\n",
        "\n",
        "- Error codes\n",
        "\n",
        "It helps because:\n",
        "\n",
        "- Developers know how to use the API without guessing.\n",
        "\n",
        "- Ensures consistency across endpoints.\n",
        "\n",
        "- Makes testing and documentation easier (Swagger/OpenAPI are common tools)."
      ],
      "metadata": {
        "id": "_mRZPSjYW0EY"
      }
    },
    {
      "cell_type": "markdown",
      "source": [
        "### Question 19. What are HTTP status codes, and why are they important in a Flask API?\n",
        "\n",
        "\n",
        "Answer:-HTTP status codes tell clients whether their request was successful or not.\n",
        "\n",
        "Examples:\n",
        "\n",
        "- 200 OK → Success\n",
        "\n",
        "- 201 Created → Resource created successfully\n",
        "\n",
        "- 400 Bad Request → Client sent invalid data\n",
        "\n",
        "- 401 Unauthorized → Authentication required\n",
        "\n",
        "- 404 Not Found → Resource doesn’t exist\n",
        "\n",
        "- 500 Internal Server Error → Server problem\n",
        "\n",
        "They’re important because they let clients handle responses properly instead of relying only on messages."
      ],
      "metadata": {
        "id": "1i4j6dwuXNC2"
      }
    },
    {
      "cell_type": "markdown",
      "source": [
        "### Question 20. How do you handle POST requests in Flask?\n",
        "\n",
        "\n",
        "Answer:- POST requests usually send data in JSON or form data. Example:"
      ],
      "metadata": {
        "id": "rqefVLpYXpoz"
      }
    },
    {
      "cell_type": "code",
      "source": [
        "from flask import request, jsonify\n",
        "\n",
        "@app.route('/add', methods=['POST'])\n",
        "def add():\n",
        "    data = request.json  # or request.form for form data\n",
        "    return jsonify({\"message\": \"Data received\", \"data\": data}), 201\n"
      ],
      "metadata": {
        "id": "K1njEwQuX0iF"
      },
      "execution_count": 7,
      "outputs": []
    },
    {
      "cell_type": "markdown",
      "source": [
        "### Question 21. How would you secure a Flask API?\n",
        "\n",
        "\n",
        "Answer:- Some common practices:\n",
        "\n",
        "- Use HTTPS (TLS/SSL) for encrypted communication.\n",
        "\n",
        "- Authentication & Authorization: JWT (JSON Web Tokens), OAuth, or API keys.\n",
        "\n",
        "- Input Validation & Sanitization: Prevent SQL injection, XSS.\n",
        "\n",
        "- Rate Limiting: Prevent abuse by limiting requests.\n",
        "\n",
        "- CORS Handling: Control which domains can access your API.\n",
        "\n",
        "- Error Handling: Avoid leaking sensitive info in error responses."
      ],
      "metadata": {
        "id": "oxfvT2BdX2un"
      }
    },
    {
      "cell_type": "markdown",
      "source": [
        "### Question 22. What is the significance of the Flask-RESTful extension?\n",
        "\n",
        "\n",
        "Answer:- Flask-RESTful is an extension that simplifies building REST APIs.\n",
        "Benefits:\n",
        "\n",
        "Provides Resource classes to organize endpoints.\n",
        "\n",
        "Built-in request parsing and validation.\n",
        "\n",
        "Easy error handling and response formatting.\n",
        "\n",
        "Example:"
      ],
      "metadata": {
        "id": "hE8Cro6nYDuE"
      }
    },
    {
      "cell_type": "code",
      "source": [
        "from flask import Flask\n",
        "from flask_restful import Api, Resource\n",
        "\n",
        "app = Flask(__name__)\n",
        "api = Api(app)\n",
        "\n",
        "class Hello(Resource):\n",
        "    def get(self):\n",
        "        return {\"message\": \"Hello, World\"}\n",
        "\n",
        "api.add_resource(Hello, '/hello')\n"
      ],
      "metadata": {
        "id": "mJ2QuVzsYYq3"
      },
      "execution_count": 6,
      "outputs": []
    },
    {
      "cell_type": "markdown",
      "source": [
        "### Question 23.What is the role of Flask’s session object?\n",
        "\n",
        "\n",
        "Answer:- The session object stores data across requests for a single user.\n",
        "\n",
        "Stored on the client as a secure cookie (signed, not encrypted).\n",
        "\n",
        "Useful for login sessions, shopping carts, etc.\n",
        "\n",
        "Example:"
      ],
      "metadata": {
        "id": "-4INYtZyYblb"
      }
    },
    {
      "cell_type": "code",
      "source": [
        "from flask import session\n",
        "\n",
        "@app.route('/login')\n",
        "def login():\n",
        "    session['username'] = 'Sneha'\n",
        "    return \"Logged in!\"\n",
        "\n",
        "@app.route('/profile')\n",
        "def profile():\n",
        "    return f\"User: {session.get('username')}\"\n"
      ],
      "metadata": {
        "id": "UB8omMxJYnhb"
      },
      "execution_count": 3,
      "outputs": []
    },
    {
      "cell_type": "markdown",
      "source": [
        "# Practical Question"
      ],
      "metadata": {
        "id": "WLbQWXYHYqA3"
      }
    },
    {
      "cell_type": "markdown",
      "source": [
        "### Question 1. How do you create a basic Flask application?"
      ],
      "metadata": {
        "id": "MtOPJ681Yyny"
      }
    },
    {
      "cell_type": "code",
      "source": [
        "from flask import Flask\n",
        "\n",
        "app = Flask(__name__)\n",
        "\n",
        "@app.route('/')\n",
        "def home():\n",
        "    return \"Hello, Flask!\"\n",
        "\n",
        "if __name__ == \"__main__\":\n",
        "    app.run(debug=True)\n"
      ],
      "metadata": {
        "colab": {
          "base_uri": "https://localhost:8080/"
        },
        "id": "-YNOKkL_ZwPo",
        "outputId": "a3004004-56ec-45ee-b9a1-591e813b124c"
      },
      "execution_count": 20,
      "outputs": [
        {
          "output_type": "stream",
          "name": "stdout",
          "text": [
            " * Serving Flask app '__main__'\n",
            " * Debug mode: on\n"
          ]
        },
        {
          "output_type": "stream",
          "name": "stderr",
          "text": [
            "INFO:werkzeug:\u001b[31m\u001b[1mWARNING: This is a development server. Do not use it in a production deployment. Use a production WSGI server instead.\u001b[0m\n",
            " * Running on http://127.0.0.1:5000\n",
            "INFO:werkzeug:\u001b[33mPress CTRL+C to quit\u001b[0m\n",
            "INFO:werkzeug: * Restarting with watchdog (inotify)\n"
          ]
        }
      ]
    },
    {
      "cell_type": "markdown",
      "source": [
        "### Question 2.  How do you serve static files like images or CSS in Flask?"
      ],
      "metadata": {
        "id": "Xw68rqdpZyu-"
      }
    },
    {
      "cell_type": "code",
      "source": [
        "from flask import Flask, render_template, url_for\n",
        "\n",
        "app = Flask(__name__)\n",
        "\n",
        "@app.route('/')\n",
        "def home():\n",
        "    # url_for builds the correct URL for static files\n",
        "    css_file = url_for('static', filename='style.css')\n",
        "    image_file = url_for('static', filename='logo.png')\n",
        "    return f\"\"\"\n",
        "    <html>\n",
        "        <head>\n",
        "            <link rel=\"stylesheet\" href=\"{css_file}\">\n",
        "        </head>\n",
        "        <body>\n",
        "            <h1>Hello, Flask!</h1>\n",
        "            <img src=\"{image_file}\" alt=\"Logo\">\n",
        "        </body>\n",
        "    </html>\n",
        "    \"\"\"\n",
        "\n",
        "if __name__ == '__main__':\n",
        "    app.run(debug=True)\n"
      ],
      "metadata": {
        "colab": {
          "base_uri": "https://localhost:8080/"
        },
        "id": "ljMoOzIteoXo",
        "outputId": "829c3ba3-8639-41a0-f2bb-408a21e92e7b"
      },
      "execution_count": 23,
      "outputs": [
        {
          "output_type": "stream",
          "name": "stdout",
          "text": [
            " * Serving Flask app '__main__'\n",
            " * Debug mode: on\n"
          ]
        },
        {
          "output_type": "stream",
          "name": "stderr",
          "text": [
            "INFO:werkzeug:\u001b[31m\u001b[1mWARNING: This is a development server. Do not use it in a production deployment. Use a production WSGI server instead.\u001b[0m\n",
            " * Running on http://127.0.0.1:5000\n",
            "INFO:werkzeug:\u001b[33mPress CTRL+C to quit\u001b[0m\n",
            "INFO:werkzeug: * Restarting with watchdog (inotify)\n"
          ]
        }
      ]
    },
    {
      "cell_type": "markdown",
      "source": [
        "### Question 3. How do you define different routes with different HTTP methods in Flask?"
      ],
      "metadata": {
        "id": "zEHzKQlIe5fC"
      }
    },
    {
      "cell_type": "code",
      "source": [
        "from flask import Flask, request\n",
        "\n",
        "app = Flask(__name__)\n",
        "\n",
        "@app.route('/user', methods=['GET', 'POST'])\n",
        "def user():\n",
        "    if request.method == 'GET':\n",
        "        return \"This is a GET request - fetching user info\"\n",
        "    elif request.method == 'POST':\n",
        "        data = request.form.get('name')  # example form data\n",
        "        return f\"This is a POST request - new user {data} created!\"\n",
        "\n",
        "if __name__ == \"__main__\":\n",
        "    app.run(debug=True)\n"
      ],
      "metadata": {
        "colab": {
          "base_uri": "https://localhost:8080/"
        },
        "id": "kugFGS6Ifcar",
        "outputId": "740c69ad-9906-487d-9844-cb3ceeb056ec"
      },
      "execution_count": 24,
      "outputs": [
        {
          "output_type": "stream",
          "name": "stdout",
          "text": [
            " * Serving Flask app '__main__'\n",
            " * Debug mode: on\n"
          ]
        },
        {
          "output_type": "stream",
          "name": "stderr",
          "text": [
            "INFO:werkzeug:\u001b[31m\u001b[1mWARNING: This is a development server. Do not use it in a production deployment. Use a production WSGI server instead.\u001b[0m\n",
            " * Running on http://127.0.0.1:5000\n",
            "INFO:werkzeug:\u001b[33mPress CTRL+C to quit\u001b[0m\n",
            "INFO:werkzeug: * Restarting with watchdog (inotify)\n"
          ]
        }
      ]
    },
    {
      "cell_type": "markdown",
      "source": [
        "### Question 4. How do you render HTML templates in Flask?"
      ],
      "metadata": {
        "id": "-xML7uX0f-Ob"
      }
    },
    {
      "cell_type": "code",
      "source": [
        "from flask import render_template\n",
        "\n",
        "@app.route('/hello')\n",
        "def hello():\n",
        "    return render_template('hello.html', name=\"Sneha\")\n"
      ],
      "metadata": {
        "id": "fyF-bUDkgHwO"
      },
      "execution_count": 25,
      "outputs": []
    },
    {
      "cell_type": "markdown",
      "source": [
        "### Question 5. How can you generate URLs for routes in Flask using url_for?"
      ],
      "metadata": {
        "id": "6JFdijUugTpZ"
      }
    },
    {
      "cell_type": "code",
      "source": [
        "@app.route('/profile/<username>')\n",
        "def profile(username):\n",
        "    return f\"Profile of {username}\"\n",
        "\n",
        "@app.route('/')\n",
        "def home():\n",
        "    return url_for('profile', username='Sneha')\n"
      ],
      "metadata": {
        "id": "PdPoBMRygbWz"
      },
      "execution_count": 26,
      "outputs": []
    },
    {
      "cell_type": "markdown",
      "source": [
        "### Question 6. How do you handle forms in Flask?"
      ],
      "metadata": {
        "id": "dIsB3EQbghrg"
      }
    },
    {
      "cell_type": "code",
      "source": [
        "@app.route('/form', methods=['GET', 'POST'])\n",
        "def form():\n",
        "    if request.method == 'POST':\n",
        "        name = request.form['name']\n",
        "        return f\"Hello {name}\"\n",
        "    return render_template('form.html')\n"
      ],
      "metadata": {
        "id": "YYHRzakVgpT_"
      },
      "execution_count": 27,
      "outputs": []
    },
    {
      "cell_type": "markdown",
      "source": [
        "### Question 7.  How can you validate form data in Flask?"
      ],
      "metadata": {
        "id": "GIfrRJ9bgt8F"
      }
    },
    {
      "cell_type": "code",
      "source": [
        "@app.route('/signup', methods=['POST'])\n",
        "def signup():\n",
        "    username = request.form.get('username')\n",
        "    if not username:\n",
        "        return \"Username required\", 400\n",
        "    return f\"Welcome {username}\"\n"
      ],
      "metadata": {
        "id": "UozlHWMqg0S9"
      },
      "execution_count": 28,
      "outputs": []
    },
    {
      "cell_type": "markdown",
      "source": [
        "### Question 8. How do you manage sessions in Flask?"
      ],
      "metadata": {
        "id": "1tWia9CEg4rY"
      }
    },
    {
      "cell_type": "code",
      "source": [
        "from flask import Flask, session, redirect, url_for, request\n",
        "\n",
        "app = Flask(__name__)\n",
        "\n",
        "# Secret key for signing session cookies\n",
        "app.secret_key = \"supersecretkey\"\n",
        "\n",
        "@app.route('/')\n",
        "def home():\n",
        "    if 'username' in session:\n",
        "        return f\"Logged in as {session['username']}\"\n",
        "    return \"You are not logged in\"\n",
        "\n",
        "@app.route('/login', methods=['POST', 'GET'])\n",
        "def login():\n",
        "    if request.method == 'POST':\n",
        "        # store data in session\n",
        "        session['username'] = request.form['username']\n",
        "        return redirect(url_for('home'))\n",
        "    return '''\n",
        "        <form method=\"post\">\n",
        "            <input type=\"text\" name=\"username\">\n",
        "            <input type=\"submit\" value=\"Login\">\n",
        "        </form>\n",
        "    '''\n",
        "\n",
        "@app.route('/logout')\n",
        "def logout():\n",
        "    # remove session data\n",
        "    session.pop('username', None)\n",
        "    return redirect(url_for('home'))\n",
        "\n",
        "if __name__ == '__main__':\n",
        "    app.run(debug=True)\n"
      ],
      "metadata": {
        "colab": {
          "base_uri": "https://localhost:8080/"
        },
        "id": "NFXDTkgCjDyB",
        "outputId": "af55cfbe-4b8b-4575-f63d-9126f6dc1ef3"
      },
      "execution_count": 35,
      "outputs": [
        {
          "output_type": "stream",
          "name": "stdout",
          "text": [
            " * Serving Flask app '__main__'\n",
            " * Debug mode: on\n"
          ]
        },
        {
          "output_type": "stream",
          "name": "stderr",
          "text": [
            "INFO:werkzeug:\u001b[31m\u001b[1mWARNING: This is a development server. Do not use it in a production deployment. Use a production WSGI server instead.\u001b[0m\n",
            " * Running on http://127.0.0.1:5000\n",
            "INFO:werkzeug:\u001b[33mPress CTRL+C to quit\u001b[0m\n",
            "INFO:werkzeug: * Restarting with watchdog (inotify)\n"
          ]
        }
      ]
    },
    {
      "cell_type": "markdown",
      "source": [
        "### Question 9. How do you redirect to a different route in Flask?"
      ],
      "metadata": {
        "id": "IF1HqVbhjGFz"
      }
    },
    {
      "cell_type": "code",
      "source": [
        "from flask import redirect, url_for\n",
        "\n",
        "@app.route('/go')\n",
        "def go():\n",
        "    return redirect(url_for('profile', username='Sneha'))\n"
      ],
      "metadata": {
        "id": "yunZOBnojPB3"
      },
      "execution_count": 36,
      "outputs": []
    },
    {
      "cell_type": "markdown",
      "source": [
        "### Question 10. How do you handle errors in Flask (e.g., 404)?"
      ],
      "metadata": {
        "id": "nGiRZeewjrwQ"
      }
    },
    {
      "cell_type": "code",
      "source": [
        "@app.errorhandler(404)\n",
        "def not_found(e):\n",
        "    return \"Page not found\", 404\n"
      ],
      "metadata": {
        "id": "p4rB2UyGjyu7"
      },
      "execution_count": 37,
      "outputs": []
    },
    {
      "cell_type": "markdown",
      "source": [
        "### Question 11. How do you structure a Flask app using Blueprints?"
      ],
      "metadata": {
        "id": "yCBL-fGtj3ty"
      }
    },
    {
      "cell_type": "code",
      "source": [
        "from flask import Blueprint\n",
        "\n",
        "auth = Blueprint('auth', __name__)\n",
        "\n",
        "@auth.route('/login')\n",
        "def login():\n",
        "    return \"Login page\"\n"
      ],
      "metadata": {
        "id": "z7rm_HFIj8zS"
      },
      "execution_count": 39,
      "outputs": []
    },
    {
      "cell_type": "code",
      "source": [
        "from flask import Flask, Blueprint\n",
        "\n",
        "# Define the blueprint here (moved from previous cell)\n",
        "auth = Blueprint('auth', __name__)\n",
        "\n",
        "@auth.route('/login')\n",
        "def login():\n",
        "    return \"Login page\"\n",
        "\n",
        "app = Flask(__name__)\n",
        "app.register_blueprint(auth, url_prefix='/auth')"
      ],
      "metadata": {
        "id": "Oxfnc_JCj_25"
      },
      "execution_count": 41,
      "outputs": []
    },
    {
      "cell_type": "markdown",
      "source": [
        "### Question 12. How do you define a custom Jinja filter in Flask?"
      ],
      "metadata": {
        "id": "KY3HDrp9kOJB"
      }
    },
    {
      "cell_type": "code",
      "source": [
        "from flask import Flask, render_template_string\n",
        "\n",
        "app = Flask(__name__)\n",
        "\n",
        "@app.template_filter('capitalize')\n",
        "def capitalize_filter(s):\n",
        "    return s.capitalize()\n",
        "\n",
        "# Define a simple route to render a template using the filter\n",
        "@app.route('/filtered')\n",
        "def show_filtered():\n",
        "    template = 'Hello, {{ \"sneha\" | capitalize }}!'\n",
        "    return render_template_string(template)\n",
        "\n",
        "# You would typically run the app here if this were your main script:\n",
        "# if __name__ == \"__main__\":\n",
        "#     app.run(debug=True)"
      ],
      "metadata": {
        "id": "R_P6xI51kXhS"
      },
      "execution_count": 43,
      "outputs": []
    },
    {
      "cell_type": "markdown",
      "source": [
        "### Question 13. How can you redirect with query parameters in Flask?"
      ],
      "metadata": {
        "id": "ELp7UEGtkkXG"
      }
    },
    {
      "cell_type": "code",
      "source": [
        "@app.route('/redirect')\n",
        "def redirect_with_params():\n",
        "    return redirect(url_for('search', q='flask'))\n",
        "\n",
        "@app.route('/search')\n",
        "def search():\n",
        "    query = request.args.get('q')\n",
        "    return f\"Search results for {query}\"\n"
      ],
      "metadata": {
        "id": "ADT1FWFZkqhe"
      },
      "execution_count": 44,
      "outputs": []
    },
    {
      "cell_type": "markdown",
      "source": [
        "### Question 14. How do you return JSON responses in Flask?"
      ],
      "metadata": {
        "id": "L2YoVvTnkuxC"
      }
    },
    {
      "cell_type": "code",
      "source": [
        "from flask import jsonify\n",
        "\n",
        "@app.route('/api')\n",
        "def api():\n",
        "    return jsonify({\"user\": \"Sneha\", \"age\": 25})\n"
      ],
      "metadata": {
        "id": "EuoBCw8gk4Vt"
      },
      "execution_count": 45,
      "outputs": []
    },
    {
      "cell_type": "markdown",
      "source": [
        "### Question 15. How do you capture URL parameters in Flask?"
      ],
      "metadata": {
        "id": "sabQ8vkQk5-n"
      }
    },
    {
      "cell_type": "code",
      "source": [
        "@app.route('/user/<username>')\n",
        "def user(username):\n",
        "    return f\"Hello {username}\"\n",
        "\n",
        "@app.route('/post/<int:post_id>')\n",
        "def post(post_id):\n",
        "    return f\"Post ID: {post_id}\"\n"
      ],
      "metadata": {
        "id": "YCzhF9tAk_LH"
      },
      "execution_count": 46,
      "outputs": []
    }
  ],
  "metadata": {
    "colab": {
      "name": "Welcome To Colab",
      "provenance": []
    },
    "kernelspec": {
      "display_name": "Python 3",
      "name": "python3"
    }
  },
  "nbformat": 4,
  "nbformat_minor": 0
}