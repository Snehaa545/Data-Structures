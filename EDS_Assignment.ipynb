{
  "cells": [
    {
      "cell_type": "markdown",
      "source": [
        "# EDA | Assignment"
      ],
      "metadata": {
        "id": "g-yStwFXE-sm"
      }
    },
    {
      "cell_type": "markdown",
      "source": [
        "**Instructions:** Carefully read each question. Use Google Docs, Microsoft Word, or a similar tool\n",
        "to create a document where you type out each question along with its answer. Save the\n",
        "document as a PDF, and then upload it to the LMS. Please do not zip or archive the files before\n",
        "uploading them. Each question carries 20 marks.\n",
        "\n"
      ],
      "metadata": {
        "id": "a8fwN6UdFC_4"
      }
    },
    {
      "cell_type": "markdown",
      "source": [
        "**Dataset Link (Bike Details Dataset):**\n",
        "https://drive.google.com/file/d/1iKy23bMtEQShF_weneRNnYrFmzvpPOI3/view?usp=drive_link\n",
        "\n",
        "● Download the Bike Details dataset.\n",
        "\n",
        "● Complete all practical questions using Python and relevant data science libraries.\n",
        "\n",
        "● Present your findings with appropriate visualizations and summary statistics.\n",
        "\n",
        "● Save as PDF and submit.\n"
      ],
      "metadata": {
        "id": "cMvyZA8J82h_"
      }
    },
    {
      "cell_type": "markdown",
      "source": [
        "**Question 1:** Read the Bike Details dataset into a Pandas DataFrame and display its first 10 rows.\n",
        "\n",
        "\n",
        "(Show the shape and column names as well.)\n",
        "\n",
        "(Include your Python code and output in the code box below.)\n",
        "\n",
        "**Answer:**"
      ],
      "metadata": {
        "id": "MJikrbS0KDLu"
      }
    },
    {
      "cell_type": "code",
      "source": [
        "import pandas as pd\n",
        "\n",
        "# Load the dataset\n",
        "# Update the file_path with the correct location of your CSV file\n",
        "file_path = \"/mnt/data/BIKE DETAILS.csv\" # <<< Update this path\n",
        "try:\n",
        "    df = pd.read_csv(file_path)\n",
        "\n",
        "    # Display first 10 rows, shape, and column names\n",
        "    print(\"First 10 rows:\")\n",
        "    print(df.head(10))\n",
        "\n",
        "    print(\"\\nShape of the dataset:\", df.shape)\n",
        "    print(\"\\nColumn Names:\", df.columns.tolist())\n",
        "\n",
        "except FileNotFoundError:\n",
        "    print(f\"Error: The file was not found at {file_path}. Please update the file_path with the correct location.\")\n",
        "except Exception as e:\n",
        "    print(f\"An error occurred: {e}\")"
      ],
      "metadata": {
        "colab": {
          "base_uri": "https://localhost:8080/"
        },
        "id": "l7EooRAqKOnD",
        "outputId": "6315340b-af90-48e0-aa2d-a10dc28e934b"
      },
      "execution_count": null,
      "outputs": [
        {
          "output_type": "stream",
          "name": "stdout",
          "text": [
            "Error: The file was not found at /mnt/data/BIKE DETAILS.csv. Please update the file_path with the correct location.\n"
          ]
        }
      ]
    },
    {
      "cell_type": "markdown",
      "source": [
        "**Question 2:** Check for missing values in all columns and describe your approach for handling them.\n",
        "\n",
        "(Include your Python code and output in the code box below.)\n",
        "\n",
        "**Answer:**"
      ],
      "metadata": {
        "id": "_xixjge8K83L"
      }
    },
    {
      "cell_type": "code",
      "source": [
        "import pandas as pd\n",
        "\n",
        "# Reload the dataset\n",
        "file_path = \"/mnt/data/BIKE DETAILS.csv\"\n",
        "df = pd.read_csv(file_path)\n",
        "\n",
        "# Check missing values in all columns\n",
        "missing_values = df.isnull().sum()\n",
        "\n",
        "# Percentage of missing values\n",
        "missing_percentage = (df.isnull().sum() / len(df)) * 100\n",
        "\n",
        "missing_summary = pd.DataFrame({\n",
        "    \"Missing Values\": missing_values,\n",
        "    \"Percentage (%)\": missing_percentage.round(2)\n",
        "})\n",
        "\n",
        "print(missing_summary)\n"
      ],
      "metadata": {
        "id": "OfKCtSZzNeMI"
      },
      "execution_count": null,
      "outputs": []
    },
    {
      "cell_type": "markdown",
      "source": [
        "**Question 3:** Plot the distribution of selling prices using a histogram and describe the overall trend.\n",
        "\n",
        "(Include your Python code and output in the code box below.)\n",
        "\n",
        "**Answer:**"
      ],
      "metadata": {
        "id": "GnFP37btKN94"
      }
    },
    {
      "cell_type": "code",
      "source": [
        "import pandas as pd\n",
        "import matplotlib.pyplot as plt\n",
        "\n",
        "# Load dataset\n",
        "file_path = \"/mnt/data/BIKE DETAILS.csv\"\n",
        "df = pd.read_csv(file_path)\n",
        "\n",
        "# Plot histogram of selling prices\n",
        "plt.figure(figsize=(8,5))\n",
        "plt.hist(df['selling_price'], bins=50, edgecolor='black')\n",
        "plt.title(\"Distribution of Selling Prices\")\n",
        "plt.xlabel(\"Selling Price\")\n",
        "plt.ylabel(\"Frequency\")\n",
        "plt.grid(axis='y', linestyle='--', alpha=0.7)\n",
        "plt.show()\n"
      ],
      "metadata": {
        "id": "zqTsECcNQKTk"
      },
      "execution_count": null,
      "outputs": []
    },
    {
      "cell_type": "markdown",
      "source": [
        "**Question 4:** Create a bar plot to visualize the average selling price for each seller_type and write one observation.\n",
        "\n",
        "(Include your Python code and output in the code box below.)\n",
        "\n",
        "**Answer:**"
      ],
      "metadata": {
        "id": "cBm6xH-gQMAl"
      }
    },
    {
      "cell_type": "code",
      "source": [
        "import pandas as pd\n",
        "import matplotlib.pyplot as plt\n",
        "\n",
        "# Load dataset\n",
        "file_path = \"/mnt/data/BIKE DETAILS.csv\"\n",
        "df = pd.read_csv(file_path)\n",
        "\n",
        "# Calculate average selling price for each seller_type\n",
        "avg_price = df.groupby(\"seller_type\")[\"selling_price\"].mean()\n",
        "\n",
        "# Plot bar chart\n",
        "plt.figure(figsize=(6,4))\n",
        "avg_price.plot(kind='bar', color=['skyblue', 'orange', 'green'], edgecolor='black')\n",
        "plt.title(\"Average Selling Price by Seller Type\")\n",
        "plt.xlabel(\"Seller Type\")\n",
        "plt.ylabel(\"Average Selling Price\")\n",
        "plt.xticks(rotation=0)\n",
        "plt.grid(axis='y', linestyle='--', alpha=0.7)\n",
        "plt.show()\n"
      ],
      "metadata": {
        "id": "w-uty-zSRAtE"
      },
      "execution_count": null,
      "outputs": []
    },
    {
      "cell_type": "markdown",
      "source": [
        "**Question 5:** Compute the average km_driven for each ownership type (1st owner, 2nd owner, etc.), and present the result as a bar plot.\n",
        "\n",
        "(Include your Python code and output in the code box below.)\n",
        "\n",
        "**Answer:**"
      ],
      "metadata": {
        "id": "rsq0hk3ERyFi"
      }
    },
    {
      "cell_type": "code",
      "source": [
        "import pandas as pd\n",
        "import matplotlib.pyplot as plt\n",
        "\n",
        "# Load dataset\n",
        "file_path = \"/mnt/data/BIKE DETAILS.csv\"\n",
        "df = pd.read_csv(file_path)\n",
        "\n",
        "# Compute average km_driven for each ownership type\n",
        "avg_km = df.groupby(\"owner\")[\"km_driven\"].mean().sort_values()\n",
        "\n",
        "# Plot bar chart\n",
        "plt.figure(figsize=(7,4))\n",
        "avg_km.plot(kind='bar', color='teal', edgecolor='black')\n",
        "plt.title(\"Average km_driven by Ownership Type\")\n",
        "plt.xlabel(\"Ownership Type\")\n",
        "plt.ylabel(\"Average km_driven\")\n",
        "plt.xticks(rotation=30, ha='right')\n",
        "plt.grid(axis='y', linestyle='--', alpha=0.7)\n",
        "plt.show()\n"
      ],
      "metadata": {
        "id": "DTc2jpWLR8nK"
      },
      "execution_count": null,
      "outputs": []
    },
    {
      "cell_type": "markdown",
      "source": [
        "**Question 6:** Use the IQR method to detect and remove outliers from the km_driven column. Show before-and-after summary statistics.\n",
        "\n",
        "(Include your Python code and output in the code box below.)\n",
        "\n",
        "**Answer:**"
      ],
      "metadata": {
        "id": "z46KurmPSFDs"
      }
    },
    {
      "cell_type": "code",
      "source": [
        "import pandas as pd\n",
        "\n",
        "# Load dataset\n",
        "file_path = \"/mnt/data/BIKE DETAILS.csv\"\n",
        "df = pd.read_csv(file_path)\n",
        "\n",
        "# Summary statistics before removing outliers\n",
        "print(\"Before Removing Outliers:\")\n",
        "print(df[\"km_driven\"].describe())\n",
        "\n",
        "# IQR method\n",
        "Q1 = df[\"km_driven\"].quantile(0.25)\n",
        "Q3 = df[\"km_driven\"].quantile(0.75)\n",
        "IQR = Q3 - Q1\n",
        "\n",
        "# Define bounds\n",
        "lower_bound = Q1 - 1.5 * IQR\n",
        "upper_bound = Q3 + 1.5 * IQR\n",
        "\n",
        "# Remove outliers\n",
        "df_no_outliers = df[(df[\"km_driven\"] >= lower_bound) & (df[\"km_driven\"] <= upper_bound)]\n",
        "\n",
        "# Summary statistics after removing outliers\n",
        "print(\"\\nAfter Removing Outliers:\")\n",
        "print(df_no_outliers[\"km_driven\"].describe())\n"
      ],
      "metadata": {
        "id": "Eo0r5eL3SEhN"
      },
      "execution_count": null,
      "outputs": []
    },
    {
      "cell_type": "markdown",
      "source": [
        "**Question 7:** Create a scatter plot of year vs. selling_price to explore the relationship between a bike's age and its price.\n",
        "\n",
        "(Include your Python code and output in the code box below.)\n",
        "\n",
        "**Answer:**"
      ],
      "metadata": {
        "id": "Xo2YDosxSdY6"
      }
    },
    {
      "cell_type": "code",
      "source": [
        "import pandas as pd\n",
        "import matplotlib.pyplot as plt\n",
        "\n",
        "# Load dataset\n",
        "file_path = \"/mnt/data/BIKE DETAILS.csv\"\n",
        "df = pd.read_csv(file_path)\n",
        "\n",
        "# Scatter plot: Year vs Selling Price\n",
        "plt.figure(figsize=(8,5))\n",
        "plt.scatter(df['year'], df['selling_price'], alpha=0.5, c='blue')\n",
        "plt.title(\"Scatter Plot: Year vs. Selling Price\")\n",
        "plt.xlabel(\"Year of Manufacture\")\n",
        "plt.ylabel(\"Selling Price\")\n",
        "plt.grid(linestyle='--', alpha=0.7)\n",
        "plt.show()\n"
      ],
      "metadata": {
        "id": "SpydHbYVSqPX"
      },
      "execution_count": null,
      "outputs": []
    },
    {
      "cell_type": "markdown",
      "source": [
        "**Question 8:** Convert the seller_type column into numeric format using **one-hot encoding**. Display the first 5 rows of the resulting DataFrame.\n",
        "\n",
        "(Include your Python code and output in the code box below.)\n",
        "\n",
        "**Answer:**"
      ],
      "metadata": {
        "id": "XcN5UlqATSRj"
      }
    },
    {
      "cell_type": "code",
      "source": [
        "import pandas as pd\n",
        "\n",
        "# Load dataset\n",
        "file_path = \"/mnt/data/BIKE DETAILS.csv\"\n",
        "df = pd.read_csv(file_path)\n",
        "\n",
        "# One-hot encoding for seller_type\n",
        "df_encoded = pd.get_dummies(df, columns=[\"seller_type\"], drop_first=False)\n",
        "\n",
        "# Display first 5 rows\n",
        "print(df_encoded.head(5))\n"
      ],
      "metadata": {
        "id": "Eb59B4fzUMp9"
      },
      "execution_count": null,
      "outputs": []
    },
    {
      "cell_type": "markdown",
      "source": [
        "**Question 9:** Generate a heatmap of the correlation matrix for all numeric columns.What correlations stand out the most?\n",
        "\n",
        "(Include your Python code and output in the code box below.)\n",
        "\n",
        "**Answer:**"
      ],
      "metadata": {
        "id": "42BqPV9Z7_vz"
      }
    },
    {
      "cell_type": "code",
      "source": [
        "import pandas as pd\n",
        "import matplotlib.pyplot as plt\n",
        "import seaborn as sns\n",
        "\n",
        "# Load dataset\n",
        "file_path = \"/mnt/data/BIKE DETAILS.csv\"\n",
        "df = pd.read_csv(file_path)\n",
        "\n",
        "# Compute correlation matrix (numeric columns only)\n",
        "corr_matrix = df.corr(numeric_only=True)\n",
        "\n",
        "# Plot heatmap\n",
        "plt.figure(figsize=(8,6))\n",
        "sns.heatmap(corr_matrix, annot=True, cmap=\"coolwarm\", fmt=\".2f\")\n",
        "plt.title(\"Correlation Heatmap of Numeric Columns\")\n",
        "plt.show()\n"
      ],
      "metadata": {
        "id": "kXHEZqsI8MFI"
      },
      "execution_count": null,
      "outputs": []
    },
    {
      "cell_type": "markdown",
      "source": [
        "**Question 10:** Summarize your findings in a brief report:\n",
        "\n",
        "● What are the most important factors affecting a bike's selling price?\n",
        "\n",
        "● Mention any data cleaning or feature engineering you performed.\n",
        "\n",
        "(Include your Python code and output in the code box below.)\n",
        "\n",
        "**Answer:**"
      ],
      "metadata": {
        "id": "AT6qLy8x8Tpz"
      }
    },
    {
      "cell_type": "code",
      "source": [
        "import pandas as pd\n",
        "\n",
        "# Load dataset\n",
        "file_path = \"/mnt/data/BIKE DETAILS.csv\"\n",
        "df = pd.read_csv(file_path)\n",
        "\n",
        "# --- Data Cleaning ---\n",
        "# Check missing values\n",
        "missing_summary = df.isnull().sum()\n",
        "\n",
        "# Feature Engineering: One-hot encoding seller_type\n",
        "df_encoded = pd.get_dummies(df, columns=[\"seller_type\n"
      ],
      "metadata": {
        "id": "12401ioF8mkx"
      },
      "execution_count": null,
      "outputs": []
    }
  ],
  "metadata": {
    "colab": {
      "provenance": []
    },
    "kernelspec": {
      "display_name": "Python 3",
      "name": "python3"
    }
  },
  "nbformat": 4,
  "nbformat_minor": 0
}