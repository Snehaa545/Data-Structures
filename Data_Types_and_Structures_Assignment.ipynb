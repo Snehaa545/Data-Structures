{
  "cells": [
    {
      "cell_type": "markdown",
      "source": [
        "# **Data Types and Structures Questions**"
      ],
      "metadata": {
        "id": "AvTtlNfGr1r1"
      }
    },
    {
      "cell_type": "markdown",
      "source": [
        "#1. What are data structures, and why are they important?\n",
        "\n",
        "\n",
        "\n",
        "**Answer**: Data Structures are ways of organizing and storing data to perform operations efficiently. They help in data management, easy access, and better performance in programming."
      ],
      "metadata": {
        "id": "L01ndHmQqcpv"
      }
    },
    {
      "cell_type": "markdown",
      "source": [
        "#2. Explain the defference between mutable and immutable data types with examples.\n",
        "\n",
        "\n",
        "**Answer**:\n",
        "* **Mutable**: Can be changed after creation (e.g. , list , dictionary , set).\n",
        "\n",
        "* **Immutable**: Cannot be changed after creation (e.g. , tuple , string , int)"
      ],
      "metadata": {
        "id": "NZZACYAnqquh"
      }
    },
    {
      "cell_type": "markdown",
      "source": [
        "#3. What are the main differences between lists and tuples in Python?\n",
        "\n",
        "\n",
        "**Answer**:\n",
        "* List are mutable , tuples are immutable.\n",
        "\n",
        "* Lists use more memory , tuples are faster.\n",
        "\n",
        "* Lists : [ ] , Tuples : ( )."
      ],
      "metadata": {
        "id": "Z38B9G8Bq3Q4"
      }
    },
    {
      "cell_type": "markdown",
      "source": [
        "#4. Describe how dictionaries store data.\n",
        "\n",
        "\n",
        "**Answer**: Dictionaries store data as key - value pairs using a hash table for fast lookup."
      ],
      "metadata": {
        "id": "iWQPX6AkrQjj"
      }
    },
    {
      "cell_type": "markdown",
      "source": [
        "#5. Why might you use a set instead of a list in Python?\n",
        "\n",
        "\n",
        "**Answer**: Sets automatically remove duplicates and allow fast membership testing using hashing."
      ],
      "metadata": {
        "id": "CsD8MhCfrmd2"
      }
    },
    {
      "cell_type": "markdown",
      "source": [
        "#6. What is a string in Python, and how is it different from a list?\n",
        "\n",
        "\n",
        "**Answer**: A string is an immutable sequence of characters, while a list is a mutable sequence of items."
      ],
      "metadata": {
        "id": "RvoMiT5_sUX9"
      }
    },
    {
      "cell_type": "markdown",
      "source": [
        "#7. How do tuple ensure data integrity in Python?\n",
        "\n",
        "\n",
        "**Answer**: Tuples are immutable, preventing accidental modification of data, which is ideal for constants."
      ],
      "metadata": {
        "id": "RlbNLi37sszH"
      }
    },
    {
      "cell_type": "markdown",
      "source": [
        "#8. What is a hash table, and how does it relate to dictionaries in Python?\n",
        "\n",
        "\n",
        "**Answer**: A hash table maps keys to values using a hash function. Python dictionaries are built on hash tables."
      ],
      "metadata": {
        "id": "u4ELV3AutBFt"
      }
    },
    {
      "cell_type": "markdown",
      "source": [
        "#9. Can lists contain different data types in Python?\n",
        "\n",
        "\n",
        "**Answer**: Yes, lists can contain mixed data types like integers, string, and other lists."
      ],
      "metadata": {
        "id": "60HNtDJotOdL"
      }
    },
    {
      "cell_type": "markdown",
      "source": [
        "#10. Explain why strings are immutable in Python?\n",
        "\n",
        "\n",
        "**Answer**: String immutability improves performance and safety, especially in multithreaded contexts."
      ],
      "metadata": {
        "id": "zyD7getLtiyH"
      }
    },
    {
      "cell_type": "markdown",
      "source": [
        "#11. What advantages do dictionaries offer over lists for certain tasks?\n",
        "\n",
        "\n",
        "**Answer**: Faster lookup, better for key - based access, and no need to iterate through every element."
      ],
      "metadata": {
        "id": "Zvhpaz_3ttKr"
      }
    },
    {
      "cell_type": "markdown",
      "source": [
        "#12. Describe a scenario where using a tuple would be preferable over a list.\n",
        "\n",
        "\n",
        "**Answer**: When storing constant data like coordinates (x, y), as tuples are immutable and more efficient."
      ],
      "metadata": {
        "id": "6CUPVU3pt-GQ"
      }
    },
    {
      "cell_type": "markdown",
      "source": [
        "#13. How do sets handle duplicate values in Python?\n",
        "\n",
        "\n",
        "**Answer**: Sets automatically eliminate duplicates; only unique values are stored.\n"
      ],
      "metadata": {
        "id": "u5WDgi2Aubhy"
      }
    },
    {
      "cell_type": "markdown",
      "source": [
        "#14. How does the \"in\" keyword work differently for lists and dictionaries?\n",
        "\n",
        "\n",
        "**Answer**:\n",
        "* **List**: Checks for the presence of a value.\n",
        "\n",
        "* **Dictionary**: Checks for the presence of a key."
      ],
      "metadata": {
        "id": "n--FCrO6umzN"
      }
    },
    {
      "cell_type": "markdown",
      "source": [
        "#15. Can you modify the elements of a tuple? Explain why or why not.\n",
        "\n",
        "\n",
        "\n",
        "**Answer**: No, tuples are immutable. Once created, their content cannot be changed."
      ],
      "metadata": {
        "id": "jFXt2KYruzrT"
      }
    },
    {
      "cell_type": "markdown",
      "source": [
        "#16. What is nested dictionary, and give an example of its use case?\n",
        "\n",
        "\n",
        "**Answer**: A dictionary within another dictionary.\n",
        "\n",
        "**Example**: students = {\"101\": {\"name\": \"Alice\", \"age\": 21}}"
      ],
      "metadata": {
        "id": "pYT52Mj_vFkX"
      }
    },
    {
      "cell_type": "markdown",
      "source": [
        "#17. Describe the time complexity of accessing elements in a dictionary.\n",
        "\n",
        "\n",
        "**Answer**: Average time complexity is **O**(1) due to hash - based access."
      ],
      "metadata": {
        "id": "edyMZxS6vcBt"
      }
    },
    {
      "cell_type": "markdown",
      "source": [
        "#18. In what situations are lists preferred over dictionaries?\n",
        "\n",
        "\n",
        "**Answer**: When order matters, and when storing a sequence of items without unique keys."
      ],
      "metadata": {
        "id": "94WBO7u6vmxD"
      }
    },
    {
      "cell_type": "markdown",
      "source": [
        "#19. Why are dictionaries considered unordered, and how does that affect data retrieval?\n",
        "\n",
        "\n",
        "**Answer**: Prior to Python 3.7, dictionaries didn't maintain insertion order. Now they do, but the access is still key - based, not index - based."
      ],
      "metadata": {
        "id": "9bB12F2AvwLV"
      }
    },
    {
      "cell_type": "markdown",
      "source": [
        "#20. Explain the difference between a list and dictionary in terms of data retrieval.\n",
        "\n",
        "\n",
        "**Answer**:\n",
        "* **List**: Retrieve by index (e.g., my_list[0]) - slow for search.\n",
        "\n",
        "* **Dictionary**: Retrieve by key (e.g., my_dict['key']) - fast lookup."
      ],
      "metadata": {
        "id": "kiS1oICvv7Zw"
      }
    },
    {
      "cell_type": "markdown",
      "source": [
        "#**Practical Quetions**"
      ],
      "metadata": {
        "id": "5Sp4JJhdxOi2"
      }
    },
    {
      "cell_type": "markdown",
      "source": [
        "#1. Write a code to create a string with your name and print it."
      ],
      "metadata": {
        "id": "YhmuDQR6xduQ"
      }
    },
    {
      "cell_type": "code",
      "source": [
        "# Creating a string with my name\n",
        "my_name = \"Sneha Singh\"\n",
        "\n",
        "# Printing the name\n",
        "print(\"My name is:\", my_name)"
      ],
      "metadata": {
        "id": "vqp6UdX-xvZP",
        "outputId": "90e5bdb9-f366-4cdc-9505-d1c477a446bb",
        "colab": {
          "base_uri": "https://localhost:8080/"
        }
      },
      "execution_count": null,
      "outputs": [
        {
          "output_type": "stream",
          "name": "stdout",
          "text": [
            "My name is: Sneha Singh\n"
          ]
        }
      ]
    },
    {
      "cell_type": "markdown",
      "source": [
        "#2. Write a code to find the length of the string \"Hello World\"\n"
      ],
      "metadata": {
        "id": "PnVZLmwpyMQz"
      }
    },
    {
      "cell_type": "code",
      "source": [
        "# Define the string\n",
        "text = \"Hello World\"\n",
        "\n",
        "# Find and print the length\n",
        "length = len(text)\n",
        "print(\"Length of the string is:\", length)"
      ],
      "metadata": {
        "id": "FYdJ9szuyVRT",
        "outputId": "b1993d8f-9f36-46c5-cabc-ab7fd588c75b",
        "colab": {
          "base_uri": "https://localhost:8080/"
        }
      },
      "execution_count": null,
      "outputs": [
        {
          "output_type": "stream",
          "name": "stdout",
          "text": [
            "Length of the string is: 11\n"
          ]
        }
      ]
    },
    {
      "cell_type": "markdown",
      "source": [
        "#3. Write a code to slice the first 3 characters from the string \"Python Programming\"\n"
      ],
      "metadata": {
        "id": "NMr8ajczyp6r"
      }
    },
    {
      "cell_type": "code",
      "source": [
        "# Define the string\n",
        "text = \"Python Programming\"\n",
        "\n",
        "# Slice the first 3 characters\n",
        "sliced_text = text[:3]\n",
        "\n",
        "# Print the result\n",
        "print(\"First 3 characters are:\", sliced_text)"
      ],
      "metadata": {
        "id": "W1b5_Ekmywl_",
        "outputId": "6c3066ef-eec2-4f0a-a132-62893b93032c",
        "colab": {
          "base_uri": "https://localhost:8080/"
        }
      },
      "execution_count": null,
      "outputs": [
        {
          "output_type": "stream",
          "name": "stdout",
          "text": [
            "First 3 characters are: Pyt\n"
          ]
        }
      ]
    },
    {
      "cell_type": "markdown",
      "source": [
        "#4. Write a code to convert the string \"hello\" to uppercase.\n"
      ],
      "metadata": {
        "id": "8axNz527zOfz"
      }
    },
    {
      "cell_type": "code",
      "source": [
        "# Define the string\n",
        "text = \"hello\"\n",
        "\n",
        "# Convert to uppercase\n",
        "uppercase_text = text.upper()\n",
        "\n",
        "# Print the result\n",
        "print(\"Uppercase version:\", uppercase_text)"
      ],
      "metadata": {
        "id": "tvuvw9c8zXe-",
        "outputId": "6bf6637f-8974-4c49-9371-b8e617ae7834",
        "colab": {
          "base_uri": "https://localhost:8080/"
        }
      },
      "execution_count": null,
      "outputs": [
        {
          "output_type": "stream",
          "name": "stdout",
          "text": [
            "Uppercase version: HELLO\n"
          ]
        }
      ]
    },
    {
      "cell_type": "markdown",
      "source": [
        "#5. Write a code to replace the word \"apple\" with \"orange\" in the string \"I like apple\"\n"
      ],
      "metadata": {
        "id": "QIsz6Qtpzfcd"
      }
    },
    {
      "cell_type": "code",
      "source": [
        "# Define the string\n",
        "text = \"I like apple\"\n",
        "\n",
        "# Replace \"apple\" with \"orange\"\n",
        "new_text = text.replace(\"apple\", \"orange\")\n",
        "\n",
        "# Print the result\n",
        "print(\"Updated string:\", new_text)"
      ],
      "metadata": {
        "id": "KwD_Ym8az6F_",
        "outputId": "5200a546-f1d7-490d-ed5f-0a6213bf6648",
        "colab": {
          "base_uri": "https://localhost:8080/"
        }
      },
      "execution_count": null,
      "outputs": [
        {
          "output_type": "stream",
          "name": "stdout",
          "text": [
            "Updated string: I like orange\n"
          ]
        }
      ]
    },
    {
      "cell_type": "markdown",
      "source": [
        "#6. Write a code to create a list with numbers 1 to 5 and print it.\n"
      ],
      "metadata": {
        "id": "4kFN7nCFz-QL"
      }
    },
    {
      "cell_type": "code",
      "source": [
        "# Create a list with numbers 1 to 5\n",
        "numbers = [1, 2, 3, 4, 5]\n",
        "\n",
        "# Print the list\n",
        "print(\"List of numbers:\", numbers)\n"
      ],
      "metadata": {
        "id": "gilo0Kt00M-h",
        "outputId": "ac67f732-c90b-41e3-ae25-55ecdac0f434",
        "colab": {
          "base_uri": "https://localhost:8080/"
        }
      },
      "execution_count": null,
      "outputs": [
        {
          "output_type": "stream",
          "name": "stdout",
          "text": [
            "List of numbers: [1, 2, 3, 4, 5]\n"
          ]
        }
      ]
    },
    {
      "cell_type": "markdown",
      "source": [
        "#7. Write a code to append the number 10 to the list [1, 2, 3, 4].\n"
      ],
      "metadata": {
        "id": "CmsKCcrF0V8z"
      }
    },
    {
      "cell_type": "code",
      "source": [
        "# Define the list\n",
        "numbers = [1, 2, 3, 4]\n",
        "\n",
        "# Append 10 to the list\n",
        "numbers.append(10)\n",
        "\n",
        "# Print the updated list\n",
        "print(\"Updated list:\", numbers)\n"
      ],
      "metadata": {
        "id": "qgBj2Oug0g5w",
        "outputId": "b83bac86-533a-445f-91dd-ba27da62bd3f",
        "colab": {
          "base_uri": "https://localhost:8080/"
        }
      },
      "execution_count": null,
      "outputs": [
        {
          "output_type": "stream",
          "name": "stdout",
          "text": [
            "Updated list: [1, 2, 3, 4, 10]\n"
          ]
        }
      ]
    },
    {
      "cell_type": "markdown",
      "source": [
        "#8. Write a code to remove the number 3 from the list [1, 2, 3, 4, 5]."
      ],
      "metadata": {
        "id": "LE4sMUqM0rwq"
      }
    },
    {
      "cell_type": "code",
      "source": [
        "# Define the list\n",
        "numbers = [1, 2, 3, 4, 5]\n",
        "\n",
        "# Remove the number 3\n",
        "numbers.remove(3)\n",
        "\n",
        "# Print the updated list\n",
        "print(\"Updated list:\", numbers)\n"
      ],
      "metadata": {
        "id": "zvdbGHdq0-zP",
        "outputId": "7cc46200-c4b5-4809-c6c9-89da5778aa0b",
        "colab": {
          "base_uri": "https://localhost:8080/"
        }
      },
      "execution_count": null,
      "outputs": [
        {
          "output_type": "stream",
          "name": "stdout",
          "text": [
            "Updated list: [1, 2, 4, 5]\n"
          ]
        }
      ]
    },
    {
      "cell_type": "markdown",
      "source": [
        "#9. Write a code to access the second element in the list ['a', 'b', 'c', 'd']."
      ],
      "metadata": {
        "id": "09QkgNXU1G2F"
      }
    },
    {
      "cell_type": "code",
      "source": [
        "# Define the list\n",
        "letters = ['a', 'b', 'c', 'd']\n",
        "\n",
        "# Access the second element (index 1)\n",
        "second_element = letters[1]\n",
        "\n",
        "# Print the result\n",
        "print(\"Second element is:\", second_element)\n"
      ],
      "metadata": {
        "id": "x04p--DA1VOg",
        "outputId": "4381752d-9270-43dd-8e98-c6d072b7c96b",
        "colab": {
          "base_uri": "https://localhost:8080/"
        }
      },
      "execution_count": null,
      "outputs": [
        {
          "output_type": "stream",
          "name": "stdout",
          "text": [
            "Second element is: b\n"
          ]
        }
      ]
    },
    {
      "cell_type": "markdown",
      "source": [
        "#10. Write a code to reverse the list [10, 20, 30, 40, 50]."
      ],
      "metadata": {
        "id": "tdv5HRSN1X0-"
      }
    },
    {
      "cell_type": "code",
      "source": [
        "# Define the list\n",
        "numbers = [10, 20, 30, 40, 50]\n",
        "\n",
        "# Reverse the list\n",
        "numbers.reverse()\n",
        "\n",
        "# Print the reversed list\n",
        "print(\"Reversed list:\", numbers)\n"
      ],
      "metadata": {
        "id": "yT64u0In1xKi",
        "outputId": "b66a8a5a-5ebc-4cff-de93-b1cd7f1928a5",
        "colab": {
          "base_uri": "https://localhost:8080/"
        }
      },
      "execution_count": null,
      "outputs": [
        {
          "output_type": "stream",
          "name": "stdout",
          "text": [
            "Reversed list: [50, 40, 30, 20, 10]\n"
          ]
        }
      ]
    },
    {
      "cell_type": "code",
      "source": [
        "reversed_list = numbers[::-1]\n",
        "print(\"Reversed list using slicing:\", reversed_list)\n"
      ],
      "metadata": {
        "id": "mXimWltu11ix",
        "outputId": "4faf6c2e-89d7-40fe-8717-25470c0ee83a",
        "colab": {
          "base_uri": "https://localhost:8080/"
        }
      },
      "execution_count": null,
      "outputs": [
        {
          "output_type": "stream",
          "name": "stdout",
          "text": [
            "Reversed list using slicing: [10, 20, 30, 40, 50]\n"
          ]
        }
      ]
    },
    {
      "cell_type": "markdown",
      "source": [
        "#11. Write a code to create a tuple with the elements 100, 200, 300 and print it."
      ],
      "metadata": {
        "id": "w77hTZFS2BOc"
      }
    },
    {
      "cell_type": "code",
      "source": [
        "# Create a tuple\n",
        "my_tuple = (100, 200, 300)\n",
        "\n",
        "# Print the tuple\n",
        "print(\"Tuple:\", my_tuple)\n"
      ],
      "metadata": {
        "id": "y1-WJ4-Z2a67",
        "outputId": "dffdd1be-57e0-4303-cf0d-fb1332a0a210",
        "colab": {
          "base_uri": "https://localhost:8080/"
        }
      },
      "execution_count": null,
      "outputs": [
        {
          "output_type": "stream",
          "name": "stdout",
          "text": [
            "Tuple: (100, 200, 300)\n"
          ]
        }
      ]
    },
    {
      "cell_type": "markdown",
      "source": [
        "#12. Write a code to access the second-to-last element of the tuple ('red', 'green', 'blue', 'yellow')."
      ],
      "metadata": {
        "id": "6ETgpNr_2e54"
      }
    },
    {
      "cell_type": "code",
      "source": [
        "# Define the tuple\n",
        "colors = ('red', 'green', 'blue', 'yellow')\n",
        "\n",
        "# Access the second-to-last element\n",
        "second_to_last = colors[-2]\n",
        "\n",
        "# Print the result\n",
        "print(\"Second-to-last element is:\", second_to_last)\n"
      ],
      "metadata": {
        "id": "vf6jg2wq2ozg",
        "outputId": "76d5b8ef-b012-4d7b-bd53-3d7245e3b764",
        "colab": {
          "base_uri": "https://localhost:8080/"
        }
      },
      "execution_count": null,
      "outputs": [
        {
          "output_type": "stream",
          "name": "stdout",
          "text": [
            "Second-to-last element is: blue\n"
          ]
        }
      ]
    },
    {
      "cell_type": "markdown",
      "source": [
        "#13. Write a code to find the minimum number in the tuple (10, 20, 5, 15)."
      ],
      "metadata": {
        "id": "C_lAqNx62ylh"
      }
    },
    {
      "cell_type": "code",
      "source": [
        "# Define the tuple\n",
        "numbers = (10, 20, 5, 15)\n",
        "\n",
        "# Find the minimum number\n",
        "min_number = min(numbers)\n",
        "\n",
        "# Print the result\n",
        "print(\"Minimum number is:\", min_number)\n"
      ],
      "metadata": {
        "id": "o0wzNV5_2_rP",
        "outputId": "37e4457e-ce66-4e53-8963-91551a0f3b76",
        "colab": {
          "base_uri": "https://localhost:8080/"
        }
      },
      "execution_count": null,
      "outputs": [
        {
          "output_type": "stream",
          "name": "stdout",
          "text": [
            "Minimum number is: 5\n"
          ]
        }
      ]
    },
    {
      "cell_type": "markdown",
      "source": [
        "#14. Write a code to find the index of the element \"cat\" in the tuple ('dog', 'cat', 'rabbit')."
      ],
      "metadata": {
        "id": "HDhT3vdR3FO5"
      }
    },
    {
      "cell_type": "code",
      "source": [
        "# Define the tuple\n",
        "animals = ('dog', 'cat', 'rabbit')\n",
        "\n",
        "# Find the index of \"cat\"\n",
        "cat_index = animals.index('cat')\n",
        "\n",
        "# Print the result\n",
        "print(\"Index of 'cat' is:\", cat_index)\n"
      ],
      "metadata": {
        "id": "1BM3WxXU3RNU",
        "outputId": "7b84b1e9-6816-4f76-dbfa-d1a224cda3a1",
        "colab": {
          "base_uri": "https://localhost:8080/"
        }
      },
      "execution_count": null,
      "outputs": [
        {
          "output_type": "stream",
          "name": "stdout",
          "text": [
            "Index of 'cat' is: 1\n"
          ]
        }
      ]
    },
    {
      "cell_type": "markdown",
      "source": [
        "#15. Write a code to create a tuple containing three different fruits and check if \"kiwi\" is in it."
      ],
      "metadata": {
        "id": "rpNiY0oo3Xwt"
      }
    },
    {
      "cell_type": "code",
      "source": [
        "# Create a tuple with fruits\n",
        "fruits = (\"apple\", \"banana\", \"mango\")\n",
        "\n",
        "# Check if \"kiwi\" is in the tuple\n",
        "if \"kiwi\" in fruits:\n",
        "    print(\"Kiwi is in the tuple.\")\n",
        "else:\n",
        "    print(\"Kiwi is not in the tuple.\")\n"
      ],
      "metadata": {
        "id": "jB3FYF983jPI",
        "outputId": "575c2ff2-fc65-4796-edc8-3f2ff55a5a27",
        "colab": {
          "base_uri": "https://localhost:8080/"
        }
      },
      "execution_count": null,
      "outputs": [
        {
          "output_type": "stream",
          "name": "stdout",
          "text": [
            "Kiwi is not in the tuple.\n"
          ]
        }
      ]
    },
    {
      "cell_type": "markdown",
      "source": [
        "#16. Write a code to create a set with the elements 'a', 'b', 'c' and print it."
      ],
      "metadata": {
        "id": "sp5Ku1Us3oQr"
      }
    },
    {
      "cell_type": "code",
      "source": [
        "# Create a set\n",
        "my_set = {'a', 'b', 'c'}\n",
        "\n",
        "# Print the set\n",
        "print(\"Set:\", my_set)\n"
      ],
      "metadata": {
        "id": "VQgf31XK30V1",
        "outputId": "e577b56b-706f-4428-8ad2-45795c7b994b",
        "colab": {
          "base_uri": "https://localhost:8080/"
        }
      },
      "execution_count": null,
      "outputs": [
        {
          "output_type": "stream",
          "name": "stdout",
          "text": [
            "Set: {'b', 'a', 'c'}\n"
          ]
        }
      ]
    },
    {
      "cell_type": "markdown",
      "source": [
        "#17. Write a code to clear all elements from the set {1, 2, 3, 4, 5}."
      ],
      "metadata": {
        "id": "Fd8Qtr_h3-J5"
      }
    },
    {
      "cell_type": "code",
      "source": [
        "# Define the set\n",
        "my_set = {1, 2, 3, 4, 5}\n",
        "\n",
        "# Clear the set\n",
        "my_set.clear()\n",
        "\n",
        "# Print the result\n",
        "print(\"Set after clearing:\", my_set)\n"
      ],
      "metadata": {
        "id": "TsFRRaAz4Kb1",
        "outputId": "f11d0e00-4622-41dd-c595-14fbdc2abcaf",
        "colab": {
          "base_uri": "https://localhost:8080/"
        }
      },
      "execution_count": null,
      "outputs": [
        {
          "output_type": "stream",
          "name": "stdout",
          "text": [
            "Set after clearing: set()\n"
          ]
        }
      ]
    },
    {
      "cell_type": "markdown",
      "source": [
        "#18. Write a code to remove the element 4 from the set {1, 2, 3, 4}."
      ],
      "metadata": {
        "id": "0eBlOGaP4hR7"
      }
    },
    {
      "cell_type": "code",
      "source": [
        "# Define the set\n",
        "my_set = {1, 2, 3, 4}\n",
        "\n",
        "# Remove the element 4\n",
        "my_set.remove(4)\n",
        "\n",
        "# Print the updated set\n",
        "print(\"Set after removing 4:\", my_set)\n"
      ],
      "metadata": {
        "id": "WsyPgFzw4mla",
        "outputId": "58cd26ff-01d3-440d-b686-1586f4d1e396",
        "colab": {
          "base_uri": "https://localhost:8080/"
        }
      },
      "execution_count": null,
      "outputs": [
        {
          "output_type": "stream",
          "name": "stdout",
          "text": [
            "Set after removing 4: {1, 2, 3}\n"
          ]
        }
      ]
    },
    {
      "cell_type": "markdown",
      "source": [
        "#19. Write a code to find the union of two sets {1, 2, 3} and {3, 4, 5}."
      ],
      "metadata": {
        "id": "iUMob6zU5Rs5"
      }
    },
    {
      "cell_type": "code",
      "source": [
        "# Define the sets\n",
        "set1 = {1, 2, 3}\n",
        "set2 = {3, 4, 5}\n",
        "\n",
        "# Find the union\n",
        "union_set = set1.union(set2)\n",
        "\n",
        "# Print the result\n",
        "print(\"Union of sets:\", union_set)\n"
      ],
      "metadata": {
        "id": "mz36uV6Z5fso",
        "outputId": "cc986a8a-ce1c-45bb-e365-8ee6d228211d",
        "colab": {
          "base_uri": "https://localhost:8080/"
        }
      },
      "execution_count": null,
      "outputs": [
        {
          "output_type": "stream",
          "name": "stdout",
          "text": [
            "Union of sets: {1, 2, 3, 4, 5}\n"
          ]
        }
      ]
    },
    {
      "cell_type": "markdown",
      "source": [
        "#20. Write a code to find the intersection of two sets {1, 2, 3} and {2, 3, 4}."
      ],
      "metadata": {
        "id": "XpbiEZgS5lI9"
      }
    },
    {
      "cell_type": "code",
      "source": [
        "# Define the sets\n",
        "set1 = {1, 2, 3}\n",
        "set2 = {2, 3, 4}\n",
        "\n",
        "# Find the intersection\n",
        "intersection_set = set1.intersection(set2)\n",
        "\n",
        "# Print the result\n",
        "print(\"Intersection of sets:\", intersection_set)\n"
      ],
      "metadata": {
        "id": "Oz7fuNIl5w5p",
        "outputId": "fbbee0fe-2499-42ef-e97c-8d94eeb5e13d",
        "colab": {
          "base_uri": "https://localhost:8080/"
        }
      },
      "execution_count": null,
      "outputs": [
        {
          "output_type": "stream",
          "name": "stdout",
          "text": [
            "Intersection of sets: {2, 3}\n"
          ]
        }
      ]
    },
    {
      "cell_type": "markdown",
      "source": [
        "#21. Write a code to create a dictionary with the keys \"name\", \"age\", and \"city\", and print it."
      ],
      "metadata": {
        "id": "yi4iQ-AY52OZ"
      }
    },
    {
      "cell_type": "code",
      "source": [
        "# Create the dictionary\n",
        "person = {\n",
        "    \"name\": \"Sneha\",\n",
        "    \"age\": 20,\n",
        "    \"city\": \"Delhi\"\n",
        "}\n",
        "\n",
        "# Print the dictionary\n",
        "print(\"Dictionary:\", person)\n"
      ],
      "metadata": {
        "id": "vm55QjvH5--R",
        "outputId": "cce67a75-5b0e-477c-cef3-715547457366",
        "colab": {
          "base_uri": "https://localhost:8080/"
        }
      },
      "execution_count": null,
      "outputs": [
        {
          "output_type": "stream",
          "name": "stdout",
          "text": [
            "Dictionary: {'name': 'Sneha', 'age': 20, 'city': 'Delhi'}\n"
          ]
        }
      ]
    },
    {
      "cell_type": "markdown",
      "source": [
        "#22. Write a code to add a new key-value pair \"country\": \"USA\" to the dictionary {'name': 'John', 'age': 25}."
      ],
      "metadata": {
        "id": "s5L5xvQs6BT1"
      }
    },
    {
      "cell_type": "code",
      "source": [
        "# Define the dictionary\n",
        "person = {'name': 'John', 'age': 25}\n",
        "\n",
        "# Add the new key-value pair\n",
        "person['country'] = 'USA'\n",
        "\n",
        "# Print the updated dictionary\n",
        "print(\"Updated dictionary:\", person)\n"
      ],
      "metadata": {
        "id": "8GHlRLc16YMy",
        "outputId": "509e733a-4542-4abc-d07d-34a54e837281",
        "colab": {
          "base_uri": "https://localhost:8080/"
        }
      },
      "execution_count": null,
      "outputs": [
        {
          "output_type": "stream",
          "name": "stdout",
          "text": [
            "Updated dictionary: {'name': 'John', 'age': 25, 'country': 'USA'}\n"
          ]
        }
      ]
    },
    {
      "cell_type": "markdown",
      "source": [
        "#23. Write a code to access the value associated with the key \"name\" in the dictionary {'name': 'Alice', 'age': 30}."
      ],
      "metadata": {
        "id": "AoWSbJIM6csj"
      }
    },
    {
      "cell_type": "code",
      "source": [
        "# Define the dictionary\n",
        "person = {'name': 'Alice', 'age': 30}\n",
        "\n",
        "# Access the value of the key \"name\"\n",
        "name_value = person['name']\n",
        "\n",
        "# Print the result\n",
        "print(\"Value of 'name':\", name_value)\n"
      ],
      "metadata": {
        "id": "jlONaO0j6pMC",
        "outputId": "1c8ae16d-6b38-4c55-e824-bbc421c80602",
        "colab": {
          "base_uri": "https://localhost:8080/"
        }
      },
      "execution_count": null,
      "outputs": [
        {
          "output_type": "stream",
          "name": "stdout",
          "text": [
            "Value of 'name': Alice\n"
          ]
        }
      ]
    },
    {
      "cell_type": "markdown",
      "source": [
        "#24. Write a code to remove the key \"age\" from the dictionary {'name': 'Bob', 'age': 22, 'city': 'New York'}."
      ],
      "metadata": {
        "id": "i-dgrIeF6wa2"
      }
    },
    {
      "cell_type": "code",
      "source": [
        "# Define the dictionary\n",
        "person = {'name': 'Bob', 'age': 22, 'city': 'New York'}\n",
        "\n",
        "# Remove the key \"age\"\n",
        "person.pop('age')\n",
        "\n",
        "# Print the updated dictionary\n",
        "print(\"Updated dictionary:\", person)\n"
      ],
      "metadata": {
        "id": "JEqDs8J26-iX",
        "outputId": "149f1a58-b61c-4e70-e3ee-fab0ab53efb1",
        "colab": {
          "base_uri": "https://localhost:8080/"
        }
      },
      "execution_count": null,
      "outputs": [
        {
          "output_type": "stream",
          "name": "stdout",
          "text": [
            "Updated dictionary: {'name': 'Bob', 'city': 'New York'}\n"
          ]
        }
      ]
    },
    {
      "cell_type": "markdown",
      "source": [
        "#25. Write a code to check if the key \"city\" exists in the dictionary {'name': 'Alice', 'city': 'Paris'}."
      ],
      "metadata": {
        "id": "cGz_AUHd7C-a"
      }
    },
    {
      "cell_type": "code",
      "source": [
        "# Define the dictionary\n",
        "person = {'name': 'Alice', 'city': 'Paris'}\n",
        "\n",
        "# Check if \"city\" is a key in the dictionary\n",
        "if \"city\" in person:\n",
        "    print(\"Key 'city' exists in the dictionary.\")\n",
        "else:\n",
        "    print(\"Key 'city' does not exist in the dictionary.\")\n"
      ],
      "metadata": {
        "id": "klZdVp5x7MZ_",
        "outputId": "12743d7d-26b4-44e6-fbf9-7e14bd33f15d",
        "colab": {
          "base_uri": "https://localhost:8080/"
        }
      },
      "execution_count": null,
      "outputs": [
        {
          "output_type": "stream",
          "name": "stdout",
          "text": [
            "Key 'city' exists in the dictionary.\n"
          ]
        }
      ]
    },
    {
      "cell_type": "markdown",
      "source": [
        "#26. Write a code to create a list, a tuple, and a dictionary, and print them all."
      ],
      "metadata": {
        "id": "XV-BgQ9S7RDr"
      }
    },
    {
      "cell_type": "code",
      "source": [
        "# Create a list\n",
        "my_list = [1, 2, 3, 4, 5]\n",
        "\n",
        "# Create a tuple\n",
        "my_tuple = ('apple', 'banana', 'cherry')\n",
        "\n",
        "# Create a dictionary\n",
        "my_dict = {'name': 'Sneha', 'age': 20, 'city': 'Delhi'}\n",
        "\n",
        "# Print all of them\n",
        "print(\"List:\", my_list)\n",
        "print(\"Tuple:\", my_tuple)\n",
        "print(\"Dictionary:\", my_dict)\n"
      ],
      "metadata": {
        "id": "9C3dufiK7Ymx",
        "outputId": "03670518-b17d-41e2-ef21-ab0768bd61ea",
        "colab": {
          "base_uri": "https://localhost:8080/"
        }
      },
      "execution_count": null,
      "outputs": [
        {
          "output_type": "stream",
          "name": "stdout",
          "text": [
            "List: [1, 2, 3, 4, 5]\n",
            "Tuple: ('apple', 'banana', 'cherry')\n",
            "Dictionary: {'name': 'Sneha', 'age': 20, 'city': 'Delhi'}\n"
          ]
        }
      ]
    },
    {
      "cell_type": "markdown",
      "source": [
        "#27. Write a code to create a list of 5 random numbers between 1 and 100, sort it in ascending order, and print the result.(replaced)"
      ],
      "metadata": {
        "id": "KMtnxvAC7bpX"
      }
    },
    {
      "cell_type": "code",
      "source": [
        "import random\n",
        "\n",
        "# Create a list of 5 random numbers between 1 and 100\n",
        "random_numbers = random.sample(range(1, 101), 5)\n",
        "\n",
        "# Sort the list in ascending order\n",
        "random_numbers.sort()\n",
        "\n",
        "# Print the result\n",
        "print(\"Sorted random numbers:\", random_numbers)\n"
      ],
      "metadata": {
        "id": "MDKNy0oa72X8",
        "outputId": "b238c524-4a09-444c-e946-2fcbd66afa17",
        "colab": {
          "base_uri": "https://localhost:8080/"
        }
      },
      "execution_count": null,
      "outputs": [
        {
          "output_type": "stream",
          "name": "stdout",
          "text": [
            "Sorted random numbers: [18, 26, 68, 94, 96]\n"
          ]
        }
      ]
    },
    {
      "cell_type": "markdown",
      "source": [
        "#28. Write a code to create a list with strings and print the element at the third index."
      ],
      "metadata": {
        "id": "Kg6CRSdT8biy"
      }
    },
    {
      "cell_type": "code",
      "source": [
        "# Create a list with strings\n",
        "words = [\"apple\", \"banana\", \"cherry\", \"date\", \"elderberry\"]\n",
        "\n",
        "# Print the element at the third index\n",
        "print(\"Element at index 3:\", words[3])\n"
      ],
      "metadata": {
        "id": "kSa5i0iP8mNa",
        "outputId": "d3e6c0ed-9356-4194-c636-c010b72eeece",
        "colab": {
          "base_uri": "https://localhost:8080/"
        }
      },
      "execution_count": null,
      "outputs": [
        {
          "output_type": "stream",
          "name": "stdout",
          "text": [
            "Element at index 3: date\n"
          ]
        }
      ]
    },
    {
      "cell_type": "markdown",
      "source": [
        "#29. Write a code to combine two dictionaries into one and print the result."
      ],
      "metadata": {
        "id": "WEcVas_E8r0c"
      }
    },
    {
      "cell_type": "code",
      "source": [
        "# Define two dictionaries\n",
        "dict1 = {'name': 'Alice', 'age': 25}\n",
        "dict2 = {'city': 'Paris', 'country': 'France'}\n",
        "\n",
        "# Combine the dictionaries\n",
        "combined_dict = {**dict1, **dict2}\n",
        "\n",
        "# Print the result\n",
        "print(\"Combined dictionary:\", combined_dict)\n"
      ],
      "metadata": {
        "id": "S_O9E-3A81ab",
        "outputId": "325fe35a-7a92-488b-f329-356ea473b1af",
        "colab": {
          "base_uri": "https://localhost:8080/"
        }
      },
      "execution_count": null,
      "outputs": [
        {
          "output_type": "stream",
          "name": "stdout",
          "text": [
            "Combined dictionary: {'name': 'Alice', 'age': 25, 'city': 'Paris', 'country': 'France'}\n"
          ]
        }
      ]
    },
    {
      "cell_type": "markdown",
      "source": [
        "#30. Write a code to convert a list of strings into a set."
      ],
      "metadata": {
        "id": "RkME2Vei87U7"
      }
    },
    {
      "cell_type": "code",
      "source": [
        "# Define a list of strings\n",
        "string_list = [\"apple\", \"banana\", \"cherry\", \"apple\"]\n",
        "\n",
        "# Convert the list to a set\n",
        "string_set = set(string_list)\n",
        "\n",
        "# Print the result\n",
        "print(\"Set:\", string_set)\n"
      ],
      "metadata": {
        "id": "-tTLQ4k59D1u",
        "outputId": "866ad100-db23-470b-90c2-90449455297e",
        "colab": {
          "base_uri": "https://localhost:8080/"
        }
      },
      "execution_count": null,
      "outputs": [
        {
          "output_type": "stream",
          "name": "stdout",
          "text": [
            "Set: {'banana', 'cherry', 'apple'}\n"
          ]
        }
      ]
    }
  ],
  "metadata": {
    "colab": {
      "provenance": []
    },
    "kernelspec": {
      "display_name": "Python 3",
      "name": "python3"
    }
  },
  "nbformat": 4,
  "nbformat_minor": 0
}